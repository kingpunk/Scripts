{
 "cells": [
  {
   "cell_type": "markdown",
   "metadata": {},
   "source": [
    "# importing library"
   ]
  },
  {
   "cell_type": "code",
   "execution_count": 1,
   "metadata": {},
   "outputs": [],
   "source": [
    "import numpy as np\n",
    "import matplotlib.pyplot as plt\n",
    "import pickle\n",
    "import random\n",
    "import os\n",
    "import cv2\n",
    "from tensorflow.python.keras.models import Sequential,load_model\n",
    "from tensorflow.python.keras.layers import Dense\n",
    "from tensorflow.python.keras.metrics import BinaryAccuracy\n",
    "import warnings\n",
    "warnings.filterwarnings(\"ignore\")"
   ]
  },
  {
   "cell_type": "markdown",
   "metadata": {},
   "source": [
    "# all file location"
   ]
  },
  {
   "cell_type": "code",
   "execution_count": 4,
   "metadata": {},
   "outputs": [],
   "source": [
    "main_path = \"C:\\\\Users\\\\pskavalekar\\\\Desktop\\\\Scripts\\\\DATA\"\n",
    "model_path = \"C:\\\\Users\\\\pskavalekar\\\\Desktop\\\\Scripts\\\\DATA\\\\model\\\\\"\n",
    "#feature location\n",
    "\n",
    "#LSB location\n",
    "\n",
    "for_lsb = main_path + '\\\\lsb_dataset'\n",
    "train_path =os.path.join(for_lsb,\"train_histrogram_features.pickle\")\n",
    "test_path = os.path.join(for_lsb,\"test_histrogram_features.pickle\")\n",
    "validation_path = os.path.join(for_lsb,\"valid_histrogram_features.pickle\")\n",
    "interset_set_path = os.path.join(for_lsb,\"INTERNET_SET.pickle\")\n",
    "small_set_path = os.path.join(for_lsb,\"LSB_SMALL_SET.pickle\")\n",
    "model_location_path = os.path.join(model_path,\"mlp_model_LSB_11ep_sigmoid.h5\")\n",
    "model_location_history = os.path.join(model_path,\"mlp_model_11epHISTORY.pickle\")\n",
    "\n",
    "\n",
    "\n",
    "#Random LSB location\n",
    "\n",
    "for_ran_lsb = main_path + '\\\\lsb_random_dataset'\n",
    "train_lsbRan_path =os.path.join(for_ran_lsb,\"LSBRANDOM_train_histrogram_features.pickle\")\n",
    "test_lsbRan_path = os.path.join(for_ran_lsb,\"LSBRANDOM_test_histrogram_features.pickle\")\n",
    "validation_lsbRan_path = os.path.join(for_ran_lsb,\"LSBRANDOM_valid_histrogram_features.pickle\")\n",
    "interset_lsbRan_setpath = os.path.join(for_ran_lsb,\"LSBRAN_INTERNET_SET.pickle\")\n",
    "small_set_lsb_random_path = os.path.join(for_ran_lsb,\"LSB_RAN_SMALL20%_SET.pickle\")\n",
    "model_location_lsb_random_path = os.path.join(model_path,\"mlp_model_lsb_random_11ep.h5\")\n",
    "model_location_lsb_random_history = os.path.join(model_path,\"mlp_model_lsb_random_11epHISTORY.pickle\")\n",
    "\n",
    "\n",
    "\n",
    "\n",
    "#DCT Location\n",
    "for_dct = main_path + \"\\\\dct_dataset\"\n",
    "train_dct_path =os.path.join(for_dct,\"DCT_train_histrogram_features.pickle\")\n",
    "test_dct_path = os.path.join(for_dct,\"DCT_test_histrogram_features.pickle\")\n",
    "validation_dct_path = os.path.join(for_dct,\"DCT_valid_histrogram_features.pickle\")\n",
    "interset_dct_setpath = os.path.join(for_dct,\"dct_INTERNET_SET.pickle\")\n",
    "small_set_dct_path = os.path.join(for_dct,\"dct_SMALL_SET.pickle\")\n",
    "model_location_dct_path = os.path.join(model_path,\"mlp_model_DCT_25ep.h5\")\n",
    "model_location_dct_path_history = os.path.join(model_path,\"mlp_model_DCT_25epHISTORY.pickle\")\n",
    "\n",
    "\n",
    "\n",
    "#mix data set location\n",
    "\n",
    "for_mix = main_path + \"\\\\mix_large_set\"\n",
    "train_mix_path =os.path.join(for_mix,\"mix_train_histrogram_features.pickle\")\n",
    "test_mix_path = os.path.join(for_mix,\"mix_test_histrogram_features.pickle\")\n",
    "validation_mix_path = os.path.join(for_mix,\"mix_valid_histrogram_features.pickle\")\n",
    "#interset_dct_setpath = os.path.join(for_dct,\"dct_INTERNET_SET.pickle\")\n",
    "#small_set_dct_path = os.path.join(for_dct,\"dct_SMALL_SET.pickle\")\n",
    "internet_mix_small_set_path = os.path.join(for_mix,\"internet_RANDOM_small.pickle\")\n",
    "internet_mix_large_set_path = os.path.join(for_mix,\"internet_RANDOM_large.pickle\")\n",
    "model_location_mix_path = os.path.join(model_path,\"mlp_mix_ep25.h5\")\n",
    "model_location_mix_path_history = os.path.join(model_path,\"mlp_mix_ep25HISTORY.pickle\")\n",
    "\n",
    "\n",
    "#all_path = [train_path,test_path,validation_path]\n",
    "\n",
    "lsb_paths = [train_path,test_path,validation_path]\n",
    "randome_lsb_paths = [train_lsbRan_path,test_lsbRan_path,validation_lsbRan_path]\n",
    "dct_paths = [train_dct_path,test_dct_path,validation_dct_path]\n",
    "\n",
    "all_paths = {'lsb':lsb_paths, 'lsbran':randome_lsb_paths, 'dct':dct_paths}\n",
    "\n"
   ]
  },
  {
   "cell_type": "markdown",
   "metadata": {},
   "source": [
    "# function to read and write pickle data"
   ]
  },
  {
   "cell_type": "code",
   "execution_count": 3,
   "metadata": {},
   "outputs": [],
   "source": [
    "def readPickledata(filelocation):\n",
    "    pickel_read = open(filelocation,'rb')\n",
    "    data = pickle.load(pickel_read)\n",
    "    pickel_read.close()\n",
    "    return data\n",
    "\n",
    "\n",
    "def writePickledata(filelocation,data):\n",
    "    pickel_write = open(filelocation,'wb')\n",
    "    pickle.dump(data,pickel_write)\n",
    "    pickel_write.close()\n",
    "    print('file writing done')\n",
    "\n",
    "\n",
    "def load_save_models(modelLocation):\n",
    "    return load_model(modelLocation)\n",
    "\n",
    "\n",
    "def draw_Training_validation_loss(history,title):\n",
    "    #Training and validation Loss\n",
    "    loss = history['loss']\n",
    "    val_loss = history['val_loss']\n",
    "    epochs = range(1,len(loss)+1)\n",
    "    plt.plot(epochs,loss,'yo',label='Training Loss')\n",
    "    plt.plot(epochs,val_loss,'r',label='Validation Loss')\n",
    "    plt.legend(\"TVloss\")\n",
    "    plt.title(title)\n",
    "    plt.xlabel('Epochs')\n",
    "    plt.ylabel('Loss')\n",
    "    plt.show()\n",
    "\n",
    "def draw_Trainingvalidation_acc(history,title):\n",
    "    #Training and validation accuracy\n",
    "    accuracy = history['accuracy']\n",
    "    val_acc = history['val_accuracy']\n",
    "    epochs = range(1,len(accuracy)+1)\n",
    "    plt.plot(epochs,accuracy,'yo',label='Training acc')\n",
    "    plt.plot(epochs,val_acc,'r',label='Validation acc')\n",
    "    plt.legend(\"TVacc\")\n",
    "    plt.title(title)\n",
    "    plt.xlabel('Epochs')\n",
    "    plt.ylabel('Accuracy')\n",
    "    plt.show()\n",
    "\n",
    "def returnCount(data):\n",
    "    normal = 0\n",
    "    steg = 0\n",
    "\n",
    "    for categorie in data:\n",
    "        if categorie == 0:\n",
    "            normal=normal+1\n",
    "        elif categorie == 1:\n",
    "            steg = steg +1\n",
    "    return normal,steg\n",
    "\n",
    "def add_value_label(x_list,y_list):\n",
    "    for i in range(0, len(x_list)):\n",
    "        plt.text(i,y_list[i],y_list[i], ha=\"center\")\n",
    "    \n",
    "def drawchart(data,predicted_data):\n",
    "    categoies = np.array([\"NORMAL\",\"STEGGED\"])\n",
    "    \n",
    "    print(data)\n",
    "    print(type(data))\n",
    "    \n",
    "    actual_result_normal,actual_result_stegg = returnCount(data)\n",
    "    predicted_normal_count, predicted_steg_count = returnCount(predicted_data) \n",
    "    \n",
    "    should_be_result = np.array([actual_result_normal,actual_result_stegg])\n",
    "    predicted_result = np.array([predicted_normal_count,predicted_steg_count])\n",
    "    plt.title(\"original values\")\n",
    "    plt.bar(categoies,should_be_result,color=['blue','red'])\n",
    "    add_value_label(categoies,should_be_result)\n",
    "    plt.show()\n",
    "\n",
    "    plt.bar(categoies,predicted_result,color=['blue','red'])\n",
    "    add_value_label(categoies,predicted_result)\n",
    "    plt.title(\"predicted values\")\n",
    "    plt.show()\n",
    "\n",
    "\n",
    "\n",
    "def drawhistrogram(features,labels):\n",
    "    random_image_value = random.randint(0,len(features))\n",
    "    plt.plot(features[random_image_value,:])\n",
    "    if labels[random_image_value] == 0:\n",
    "        plt.title(\"Normal\")\n",
    "    else:\n",
    "        plt.title(\"stegged\")\n",
    "    plt.show()\n",
    "    return random_image_value\n",
    "\n",
    "\n",
    "def showImage(fileLocation):\n",
    "    image = cv2.imread(fileLocation,0)\n",
    "    image = cv2.resize(image,(250,250))\n",
    "    cv2.imshow('model image',image)\n",
    "    cv2.waitKey(0)\n",
    "    cv2.destroyAllWindows()\n",
    "\n",
    "\n",
    "def accuracyPredrict(y_true,y_predict):\n",
    "    metric = BinaryAccuracy(threshold=0.5)\n",
    "    metric.update_state(y_true,y_predict)\n",
    "    metric = np.array(metric.result())\n",
    "    return metric\n",
    "\n",
    "\n",
    "def typeOfDataset(dataset):\n",
    "    if dataset == 'train':\n",
    "        return 'training set'\n",
    "    elif dataset == 'test':\n",
    "        return 'testing set'\n",
    "    elif dataset == 'valid':\n",
    "        return 'validation set'\n",
    "    elif dataset == 'internet':\n",
    "        return 'Internet set'\n",
    "    elif dataset == 'small':\n",
    "        return 'small set '\n",
    "\n",
    "\n",
    "def createReport(predictedValue,predictedClasses,trueValue):\n",
    "    report = ''\n",
    "\n",
    "    #f'Test results - Loss: {test_results[0]*100} - Accuracy: {test_results[1]*100}%'\n",
    "\n",
    "    if len(predictedValue) == len(predictedClasses) == len(trueValue):\n",
    "        counter = 0  #used for incrementing in other variable\n",
    "        for value in predictedValue:\n",
    "            imagenumer = str(counter+1)\n",
    "            #print(\"imagenumber\"+imagenumer)\n",
    "            #print(\"counter\",counter)\n",
    "            if trueValue[counter] == 0:\n",
    "                true_image_statues = 'normal'\n",
    "            elif trueValue[counter] == 1:\n",
    "                true_image_statues = 'stegged'\n",
    "            \n",
    "            probability_of_image = str(value[0] * 100) + \"%\"\n",
    "            \n",
    "            if predictedClasses[counter][0] == 0:\n",
    "                predicted_image_class = 'normal'\n",
    "            elif predictedClasses[counter][0] == 1:\n",
    "                predicted_image_class = 'stegged'\n",
    "                \n",
    "            report = report +'\\n True value of image '+imagenumer+' is '+true_image_statues+' predicted class is '+ predicted_image_class + ' with value '+ probability_of_image\n",
    "            counter = counter + 1\n",
    "    \n",
    "    print(report)\n",
    "        \n",
    "            \n",
    "\n",
    "def pathExists(path):\n",
    "    if os.path.exists(path):\n",
    "        print(\"Yes\")\n",
    "    else:\n",
    "        print(\"No\")     \n",
    "        \n"
   ]
  },
  {
   "cell_type": "markdown",
   "metadata": {},
   "source": [
    "# loading dataset"
   ]
  },
  {
   "cell_type": "code",
   "execution_count": 5,
   "metadata": {},
   "outputs": [
    {
     "name": "stdout",
     "output_type": "stream",
     "text": [
      "33\n",
      "33\n"
     ]
    }
   ],
   "source": [
    "\"\"\"\n",
    "train_data = readPickledata(filelocation=train_dct_path)\n",
    "print(len(train_data))\n",
    "\n",
    "test_data = readPickledata(filelocation=test_dct_path)\n",
    "print(len(test_data))\n",
    "\n",
    "valid_data = readPickledata(filelocation=validation_dct_path)\n",
    "print(len(valid_data))\n",
    "\n",
    "#internet_set = readPickledata(filelocation=interset_lsbRan_setpath)\n",
    "#print(len(internet_set))\n",
    "\n",
    "small_set = readPickledata(filelocation=small_set_dct_path)\n",
    "print(len(small_set))\n",
    "\"\"\"\n",
    "small_setInternet = readPickledata(filelocation=internet_mix_small_set_path)\n",
    "print(len(small_setInternet))\n",
    "\n",
    "large_setInternet = readPickledata(filelocation=internet_mix_large_set_path)\n",
    "print(len(large_setInternet))\n",
    "\n"
   ]
  },
  {
   "cell_type": "markdown",
   "metadata": {},
   "source": [
    "# Train data"
   ]
  },
  {
   "cell_type": "code",
   "execution_count": null,
   "metadata": {},
   "outputs": [],
   "source": [
    "X_Train_features = [] # histogram features\n",
    "Y_Train_labels = [] # labels values \n",
    "\n",
    "for feature, label in train_data:\n",
    "    X_Train_features.append(feature)\n",
    "    Y_Train_labels.append(label)\n",
    "\n",
    "X_Train_features = np.array(X_Train_features)\n",
    "Y_Train_labels = np.array(Y_Train_labels)\n",
    "\n",
    "print(X_Train_features.shape)\n",
    "print(Y_Train_labels.shape)"
   ]
  },
  {
   "cell_type": "markdown",
   "metadata": {},
   "source": [
    "# Test data"
   ]
  },
  {
   "cell_type": "code",
   "execution_count": null,
   "metadata": {},
   "outputs": [],
   "source": [
    "X_Test_features = [] # histogram test features\n",
    "Y_Test_labels = [] # labels values \n",
    "\n",
    "for feature, label in test_data:\n",
    "    X_Test_features.append(feature)\n",
    "    Y_Test_labels.append(label)\n",
    "\n",
    "X_Test_features = np.array(X_Test_features)\n",
    "Y_Test_labels = np.array(Y_Test_labels)\n",
    "\n",
    "print(X_Test_features.shape)\n",
    "print(Y_Test_labels.shape)"
   ]
  },
  {
   "cell_type": "markdown",
   "metadata": {},
   "source": [
    "# Validation Data"
   ]
  },
  {
   "cell_type": "code",
   "execution_count": null,
   "metadata": {},
   "outputs": [],
   "source": [
    "X_Valid_features = [] # histogram test features\n",
    "Y_Valid_labels = [] # labels values \n",
    "\n",
    "for feature, label in valid_data:\n",
    "    X_Valid_features.append(feature)\n",
    "    Y_Valid_labels.append(label)\n",
    "\n",
    "X_Valid_features = np.array(X_Valid_features)\n",
    "Y_Valid_labels = np.array(Y_Valid_labels)\n",
    "\n",
    "print(X_Valid_features.shape)\n",
    "print(Y_Valid_labels.shape)"
   ]
  },
  {
   "cell_type": "markdown",
   "metadata": {},
   "source": [
    "# Internet Data used for testing model accuracy on completely different data other then used for training"
   ]
  },
  {
   "cell_type": "code",
   "execution_count": 6,
   "metadata": {},
   "outputs": [
    {
     "name": "stdout",
     "output_type": "stream",
     "text": [
      "(33, 512)\n",
      "(33,)\n"
     ]
    }
   ],
   "source": [
    "X_LargeInternetSET_features = []\n",
    "Y_LargeInternetSET_labels = []\n",
    "\n",
    "for feature, label in large_setInternet:\n",
    "    X_LargeInternetSET_features.append(feature)\n",
    "    Y_LargeInternetSET_labels.append(label)\n",
    "\n",
    "X_LargeInternetSET_features = np.array(X_LargeInternetSET_features)\n",
    "Y_LargeInternetSET_labels = np.array(Y_LargeInternetSET_labels)\n",
    "\n",
    "print(X_LargeInternetSET_features.shape)\n",
    "print(Y_LargeInternetSET_labels.shape)"
   ]
  },
  {
   "cell_type": "code",
   "execution_count": 7,
   "metadata": {},
   "outputs": [
    {
     "name": "stdout",
     "output_type": "stream",
     "text": [
      "(33, 512)\n",
      "(33,)\n"
     ]
    }
   ],
   "source": [
    "X_SmallInternetSET_features = []\n",
    "Y_SmallInternetSET_labels = []\n",
    "\n",
    "for feature, label in small_setInternet:\n",
    "    X_SmallInternetSET_features.append(feature)\n",
    "    Y_SmallInternetSET_labels.append(label)\n",
    "\n",
    "X_SmallInternetSET_features = np.array(X_SmallInternetSET_features)\n",
    "Y_SmallInternetSET_labels = np.array(Y_SmallInternetSET_labels)\n",
    "\n",
    "print(X_SmallInternetSET_features.shape)\n",
    "print(Y_SmallInternetSET_labels.shape)"
   ]
  },
  {
   "cell_type": "markdown",
   "metadata": {},
   "source": [
    "# small set of captured data\n"
   ]
  },
  {
   "cell_type": "code",
   "execution_count": null,
   "metadata": {},
   "outputs": [],
   "source": [
    "X_SmallSet_features = []\n",
    "Y_SmallSet_labels = []\n",
    "\n",
    "for feature, label in small_set:\n",
    "    X_SmallSet_features.append(feature)\n",
    "    Y_SmallSet_labels.append(label)\n",
    "\n",
    "X_SmallSet_features = np.array(X_SmallSet_features)\n",
    "Y_SmallSet_labels = np.array(Y_SmallSet_labels)\n",
    "\n",
    "print(X_SmallSet_features.shape)\n",
    "print(Y_SmallSet_labels.shape)"
   ]
  },
  {
   "cell_type": "markdown",
   "metadata": {},
   "source": [
    "# testing value"
   ]
  },
  {
   "cell_type": "code",
   "execution_count": null,
   "metadata": {},
   "outputs": [],
   "source": [
    "drawhistrogram(X_Train_features,Y_Train_labels)"
   ]
  },
  {
   "cell_type": "code",
   "execution_count": null,
   "metadata": {},
   "outputs": [],
   "source": [
    "\n",
    "image_Train_shape = X_Train_features.shape\n",
    "image_Valid_shape = X_Valid_features.shape\n",
    "image_Test_shape = X_Test_features.shape\n",
    "\n",
    "\n",
    "#extracting number of rows, based on data set avalilable, this will be used to define the input shape of the MLP model\n",
    "number_of_element_train, number_of_rows_train = image_Train_shape\n",
    "number_of_element_valid, number_of_rows_valid = image_Valid_shape\n",
    "number_of_element_test, number_of_rows_test = image_Test_shape\n",
    "\n",
    "if number_of_rows_train == number_of_rows_valid == number_of_rows_test:\n",
    "    input_shape=(number_of_rows_train,)\n",
    "    print(\"Input shape has been set as \", input_shape)\n",
    "else:\n",
    "    print(\"check data set size, not compatible with this model or they all should be of equal size\")\n",
    "\n",
    "\n",
    "#input_shape=(512,)\n",
    "\n",
    "#print(f'Feature shape: {input_shape}')"
   ]
  },
  {
   "cell_type": "markdown",
   "metadata": {},
   "source": [
    "# creating feed forward mlp model"
   ]
  },
  {
   "cell_type": "code",
   "execution_count": null,
   "metadata": {},
   "outputs": [],
   "source": [
    "model = Sequential()\n",
    "model.add(Dense(512,activation='relu',input_shape=input_shape))\n",
    "model.add(Dense(512,activation='relu'))\n",
    "model.add(Dense(1,activation='sigmoid'))"
   ]
  },
  {
   "cell_type": "code",
   "execution_count": null,
   "metadata": {},
   "outputs": [],
   "source": [
    "print(model.summary())"
   ]
  },
  {
   "cell_type": "code",
   "execution_count": null,
   "metadata": {},
   "outputs": [],
   "source": [
    "model.compile(\n",
    "    loss='binary_crossentropy',\n",
    "    optimizer='adam',\n",
    "    metrics=['accuracy']\n",
    ")\n"
   ]
  },
  {
   "cell_type": "code",
   "execution_count": null,
   "metadata": {},
   "outputs": [],
   "source": [
    "history = model.fit(X_Train_features,Y_Train_labels,epochs=20,batch_size=50,validation_data=(X_Valid_features,Y_Valid_labels))"
   ]
  },
  {
   "cell_type": "code",
   "execution_count": null,
   "metadata": {},
   "outputs": [],
   "source": [
    "Main_title_loss=\"Training and Validation loss\"\n",
    "Main_title_acc = \"Training and Validation acc\"\n",
    "\n",
    "draw_Training_validation_loss(history=history.history,title=Main_title_loss)\n",
    "draw_Trainingvalidation_acc(history=history.history,title=Main_title_acc)"
   ]
  },
  {
   "cell_type": "markdown",
   "metadata": {},
   "source": [
    "# save the model and history of the complied mlp model"
   ]
  },
  {
   "cell_type": "code",
   "execution_count": null,
   "metadata": {},
   "outputs": [],
   "source": [
    "\n",
    "customemodelname= 'mlp_mix_ep25' #change this name when applicable\n",
    "\n",
    "save_model_location = 'C:\\\\Users\\\\pskavalekar\\\\Desktop\\\\Scripts\\\\DATA\\\\model\\\\'+customemodelname+'.h5'\n",
    "model.save(save_model_location)\n",
    "\n",
    "save_history_location = 'C:\\\\Users\\\\pskavalekar\\\\Desktop\\\\Scripts\\\\DATA\\\\model\\\\'+customemodelname+'HISTORY.pickle'\n",
    "history_location_file = open(save_history_location,'wb')\n",
    "pickle.dump(history.history,history_location_file)\n",
    "history_location_file.close()\n",
    "print('done')"
   ]
  },
  {
   "cell_type": "markdown",
   "metadata": {},
   "source": [
    "# load the model and history of the complied mlp model"
   ]
  },
  {
   "cell_type": "code",
   "execution_count": 8,
   "metadata": {},
   "outputs": [],
   "source": [
    "model = load_save_models(modelLocation=model_location_mix_path)\n",
    "history = readPickledata(filelocation=model_location_mix_path_history)"
   ]
  },
  {
   "cell_type": "markdown",
   "metadata": {},
   "source": [
    "# history "
   ]
  },
  {
   "cell_type": "code",
   "execution_count": 9,
   "metadata": {},
   "outputs": [
    {
     "data": {
      "image/png": "[encoded data removed]",
      "text/plain": [
       "<Figure size 432x288 with 1 Axes>"
      ]
     },
     "metadata": {},
     "output_type": "display_data"
    },
    {
     "data": {
      "image/png": "[encoded data removed]",
      "text/plain": [
       "<Figure size 432x288 with 1 Axes>"
      ]
     },
     "metadata": {},
     "output_type": "display_data"
    }
   ],
   "source": [
    "Main_title_loss=\"Training and Validation loss\"\n",
    "Main_title_acc = \"Training and Validation acc\"\n",
    "\n",
    "draw_Training_validation_loss(history=history,title=Main_title_loss)\n",
    "draw_Trainingvalidation_acc(history=history,title=Main_title_acc)"
   ]
  },
  {
   "cell_type": "markdown",
   "metadata": {},
   "source": [
    "# testing model"
   ]
  },
  {
   "cell_type": "code",
   "execution_count": null,
   "metadata": {},
   "outputs": [],
   "source": [
    "test_results = model.evaluate(X_Test_features,Y_Test_labels)\n",
    "print(f'Test results - Loss: {test_results[0]*100} - Accuracy: {test_results[1]*100}%')"
   ]
  },
  {
   "cell_type": "code",
   "execution_count": null,
   "metadata": {},
   "outputs": [],
   "source": [
    "#prediction_result = np.argmax(model.predict(X_Test_features), axis=-1)\n",
    "\n",
    "predictedClasses = (model.predict(X_Test_features) > 0.5).astype(\"int32\")\n",
    "\n",
    "drawchart(Y_Test_labels,predictedClasses)\n",
    "\n",
    "predictedValues = model.predict(X_Test_features)\n",
    "\n",
    "\n",
    "\n",
    "\n",
    "createReport(predictedClasses=predictedClasses,predictedValue=predictedValues,trueValue=Y_Test_labels)\n"
   ]
  },
  {
   "cell_type": "code",
   "execution_count": null,
   "metadata": {},
   "outputs": [],
   "source": [
    "y_prediction = model.predict_classes(X_Test_features)\n",
    "datasettypes = [\"train\",\"test\",\"valid\",\"internet\"]\n",
    "print(\"The accuracy of the model with \",typeOfDataset(dataset=datasettypes[1]),\" is\",accuracyPredrict(y_true=Y_Test_labels,y_predict=y_prediction)*100,'% ' )\n"
   ]
  },
  {
   "cell_type": "code",
   "execution_count": null,
   "metadata": {},
   "outputs": [],
   "source": [
    "value=drawhistrogram(X_Test_features,Y_Test_labels)\n",
    "\n",
    "single_prediction=model.predict(np.array([X_Test_features[value,]]))\n",
    "output= model.predict_classes(np.array([X_Test_features[value,]]))\n",
    "\n",
    "\n",
    "\n",
    "\n",
    "if output[0][0] == 0:\n",
    "    output='NORMAL'\n",
    "else:\n",
    "    output='STEGGED'\n",
    "\n",
    "\n",
    "probability_of_image = str(single_prediction[0][0] * 100) + \"%\"\n",
    "\n",
    "print(\"Image is predicted as \"+output+\" with value \"+probability_of_image+\"%\")\n",
    "\n",
    "\n"
   ]
  },
  {
   "cell_type": "markdown",
   "metadata": {},
   "source": [
    "# Testing internet data"
   ]
  },
  {
   "cell_type": "code",
   "execution_count": 11,
   "metadata": {},
   "outputs": [
    {
     "name": "stdout",
     "output_type": "stream",
     "text": [
      "2/2 [==============================] - 0s 3ms/step - loss: 2.5258 - accuracy: 0.9394\n",
      "Test results - Loss: 25.257856845855713 - Accuracy: 93.9393937587738%\n"
     ]
    }
   ],
   "source": [
    "test_results = model.evaluate( X_LargeInternetSET_features,Y_LargeInternetSET_labels)\n",
    "print(f'Test results - Loss: {test_results[0]*10} - Accuracy: {test_results[1]*100}%')"
   ]
  },
  {
   "cell_type": "markdown",
   "metadata": {},
   "source": [
    "# Total internet prediction"
   ]
  },
  {
   "cell_type": "code",
   "execution_count": 12,
   "metadata": {},
   "outputs": [
    {
     "name": "stdout",
     "output_type": "stream",
     "text": [
      "[0 1 1 1 1 1 0 0 0 1 0 1 1 1 1 1 1 1 0 1 1 0 1 0 1 1 1 1 1 1 1 1 1]\n",
      "<class 'numpy.ndarray'>\n"
     ]
    },
    {
     "data": {
      "image/png": "[encoded data removed]",
      "text/plain": [
       "<Figure size 432x288 with 1 Axes>"
      ]
     },
     "metadata": {},
     "output_type": "display_data"
    },
    {
     "data": {
      "image/png": "[encoded data removed]",
      "text/plain": [
       "<Figure size 432x288 with 1 Axes>"
      ]
     },
     "metadata": {},
     "output_type": "display_data"
    },
    {
     "name": "stdout",
     "output_type": "stream",
     "text": [
      "\n",
      " True value of image 1 is normal predicted class is normal with value 21.682435274124146%\n",
      " True value of image 2 is stegged predicted class is stegged with value 92.9868757724762%\n",
      " True value of image 3 is stegged predicted class is stegged with value 100.0%\n",
      " True value of image 4 is stegged predicted class is stegged with value 98.5124409198761%\n",
      " True value of image 5 is stegged predicted class is stegged with value 100.0%\n",
      " True value of image 6 is stegged predicted class is stegged with value 100.0%\n",
      " True value of image 7 is normal predicted class is normal with value 0.008434688061242923%\n",
      " True value of image 8 is normal predicted class is normal with value 0.008339585474459454%\n",
      " True value of image 9 is normal predicted class is normal with value 0.004305041147745214%\n",
      " True value of image 10 is stegged predicted class is stegged with value 100.0%\n",
      " True value of image 11 is normal predicted class is normal with value 0.010952445882139727%\n",
      " True value of image 12 is stegged predicted class is stegged with value 100.0%\n",
      " True value of image 13 is stegged predicted class is stegged with value 100.0%\n",
      " True value of image 14 is stegged predicted class is stegged with value 100.0%\n",
      " True value of image 15 is stegged predicted class is stegged with value 100.0%\n",
      " True value of image 16 is stegged predicted class is stegged with value 100.0%\n",
      " True value of image 17 is stegged predicted class is normal with value 40.04913866519928%\n",
      " True value of image 18 is stegged predicted class is stegged with value 100.0%\n",
      " True value of image 19 is normal predicted class is normal with value 0.009568990935804322%\n",
      " True value of image 20 is stegged predicted class is stegged with value 100.0%\n",
      " True value of image 21 is stegged predicted class is stegged with value 100.0%\n",
      " True value of image 22 is normal predicted class is stegged with value 100.0%\n",
      " True value of image 23 is stegged predicted class is stegged with value 99.99997019767761%\n",
      " True value of image 24 is normal predicted class is normal with value 0.04607967275660485%\n",
      " True value of image 25 is stegged predicted class is stegged with value 100.0%\n",
      " True value of image 26 is stegged predicted class is stegged with value 100.0%\n",
      " True value of image 27 is stegged predicted class is stegged with value 100.0%\n",
      " True value of image 28 is stegged predicted class is stegged with value 100.0%\n",
      " True value of image 29 is stegged predicted class is stegged with value 99.71795082092285%\n",
      " True value of image 30 is stegged predicted class is stegged with value 100.0%\n",
      " True value of image 31 is stegged predicted class is stegged with value 100.0%\n",
      " True value of image 32 is stegged predicted class is stegged with value 100.0%\n",
      " True value of image 33 is stegged predicted class is stegged with value 100.0%\n"
     ]
    }
   ],
   "source": [
    "\n",
    "predictedClasses = (model.predict(X_LargeInternetSET_features) > 0.5).astype(\"int32\")\n",
    "\n",
    "drawchart(Y_LargeInternetSET_labels,predictedClasses)\n",
    "\n",
    "predictedValues = model.predict(X_LargeInternetSET_features)\n",
    "\n",
    "\n",
    "\n",
    "\n",
    "createReport(predictedClasses=predictedClasses,predictedValue=predictedValues,trueValue=Y_LargeInternetSET_labels)"
   ]
  },
  {
   "cell_type": "markdown",
   "metadata": {},
   "source": [
    "# calclating accuracy of the model with Internet data"
   ]
  },
  {
   "cell_type": "code",
   "execution_count": null,
   "metadata": {},
   "outputs": [],
   "source": [
    "y_prediction = model.predict_classes(X_InternetSET_features)\n",
    "datasettypes = [\"test\",\"internet\"]\n",
    "print(\"The accuracy of the model with \",typeOfDataset(dataset=datasettypes[1]),\" is\",accuracyPredrict(y_true=Y_InternetSET_labels,y_predict=y_prediction)*100,'% ' )"
   ]
  },
  {
   "cell_type": "markdown",
   "metadata": {},
   "source": [
    "# testing single image from internet set"
   ]
  },
  {
   "cell_type": "code",
   "execution_count": null,
   "metadata": {},
   "outputs": [],
   "source": [
    "value=drawhistrogram(X_InternetSET_features,Y_InternetSET_labels)\n",
    "single_prediction=model.predict(np.array([X_InternetSET_features[value,]]))\n",
    "output= model.predict_classes(np.array([X_InternetSET_features[value,]]))\n",
    "\n",
    "\n",
    "\n",
    "\n",
    "if output[0][0] == 0:\n",
    "    output='NORMAL'\n",
    "else:\n",
    "    output='STEGGED'\n",
    "\n",
    "\n",
    "probability_of_image = str(single_prediction[0][0] * 100) + \"%\"\n",
    "\n",
    "print(\"Image is predicted as \"+output+\" with value \"+probability_of_image+\"%\")"
   ]
  },
  {
   "cell_type": "markdown",
   "metadata": {},
   "source": [
    "# testing small set on the model"
   ]
  },
  {
   "cell_type": "markdown",
   "metadata": {},
   "source": []
  },
  {
   "cell_type": "code",
   "execution_count": null,
   "metadata": {},
   "outputs": [],
   "source": [
    "#evaluating the accuracy of the model with small set data\n",
    "test_results = model.evaluate(X_SmallSet_features,Y_SmallSet_labels)\n",
    "print(f'Test results - Loss: {test_results[0]*100}% - Accuracy: {test_results[1]*100}%')"
   ]
  },
  {
   "cell_type": "code",
   "execution_count": null,
   "metadata": {},
   "outputs": [],
   "source": [
    "#creating report based on prediction\n",
    "predictedClasses = (model.predict(X_SmallSet_features) > 0.5).astype(\"int32\")\n",
    "drawchart(Y_SmallSet_labels,predictedClasses)\n",
    "predictedValues = model.predict(X_SmallSet_features)\n",
    "\n",
    "createReport(predictedClasses=predictedClasses,predictedValue=predictedValues,trueValue=Y_SmallSet_labels)\n"
   ]
  },
  {
   "cell_type": "code",
   "execution_count": null,
   "metadata": {},
   "outputs": [],
   "source": [
    "#manually calculating accuracy\n",
    "\n",
    "y_prediction = model.predict_classes(X_SmallSet_features)\n",
    "datasettypes = [\"test\",\"internet\",\"small\"]\n",
    "print(\"The accuracy of the model with \",typeOfDataset(dataset=datasettypes[2]),\" is\",accuracyPredrict(y_true=Y_SmallSet_labels,y_predict=y_prediction)*100,'% ' )"
   ]
  },
  {
   "cell_type": "code",
   "execution_count": null,
   "metadata": {},
   "outputs": [],
   "source": []
  },
  {
   "cell_type": "code",
   "execution_count": null,
   "metadata": {},
   "outputs": [],
   "source": [
    "# single prediction check\n",
    "\n",
    "value=drawhistrogram(X_SmallSet_features,Y_SmallSet_labels)\n",
    "\n",
    "single_prediction=model.predict(np.array([X_SmallSet_features[value,]]))\n",
    "output= model.predict_classes(np.array([X_SmallSet_features[value,]]))\n",
    "\n",
    "\n",
    "print(output)\n",
    "\n",
    "if output[0][0] == 0:\n",
    "    output='NORMAL'\n",
    "else:\n",
    "    output='STEGGED'\n",
    "\n",
    "\n",
    "probability_of_image = str(single_prediction[0][0] * 100) + \"%\"\n",
    "\n",
    "print(\"Image is predicted as \"+output+\" with value \"+probability_of_image)"
   ]
  }
 ],
 "metadata": {
  "kernelspec": {
   "display_name": "Python 3.9.13 64-bit",
   "language": "python",
   "name": "python3"
  },
  "language_info": {
   "codemirror_mode": {
    "name": "ipython",
    "version": 3
   },
   "file_extension": ".py",
   "mimetype": "text/x-python",
   "name": "python",
   "nbconvert_exporter": "python",
   "pygments_lexer": "ipython3",
   "version": "3.9.13"
  },
  "orig_nbformat": 4,
  "vscode": {
   "interpreter": {
    "hash": "9537d87109d9512572e2bf43e2d738b3b2623cea11b621f20b4ee8f79f0570c7"
   }
  }
 },
 "nbformat": 4,
 "nbformat_minor": 2
}
