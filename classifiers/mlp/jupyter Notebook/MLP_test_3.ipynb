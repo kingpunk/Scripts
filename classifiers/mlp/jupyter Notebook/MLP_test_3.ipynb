{
 "cells": [
  {
   "cell_type": "markdown",
   "metadata": {},
   "source": [
    "# importing library"
   ]
  },
  {
   "cell_type": "code",
   "execution_count": 26,
   "metadata": {},
   "outputs": [],
   "source": [
    "import numpy as np\n",
    "import matplotlib.pyplot as plt\n",
    "import pickle\n",
    "import random\n",
    "import os\n",
    "import cv2\n",
    "from tensorflow.python.keras.models import Sequential,load_model\n",
    "from tensorflow.python.keras.layers import Dense\n",
    "from tensorflow.python.keras.metrics import BinaryAccuracy\n",
    "import warnings\n",
    "warnings.filterwarnings(\"ignore\")"
   ]
  },
  {
   "cell_type": "markdown",
   "metadata": {},
   "source": [
    "# all functions"
   ]
  },
  {
   "cell_type": "code",
   "execution_count": 27,
   "metadata": {},
   "outputs": [],
   "source": [
    "def readPickledata(filelocation):\n",
    "    pickel_read = open(filelocation,'rb')\n",
    "    data = pickle.load(pickel_read)\n",
    "    pickel_read.close()\n",
    "    return data\n",
    "\n",
    "\n",
    "def writePickledata(filelocation,data):\n",
    "    pickel_write = open(filelocation,'wb')\n",
    "    pickle.dump(data,pickel_write)\n",
    "    pickel_write.close()\n",
    "    print('file writing done')\n",
    "\n",
    "\n",
    "def load_save_models(modelLocation):\n",
    "    return load_model(modelLocation)\n",
    "\n",
    "\n",
    "def draw_Training_validation_loss(history,title):\n",
    "    #Training and validation Loss\n",
    "    loss = history['loss']\n",
    "    val_loss = history['val_loss']\n",
    "    epochs = range(1,len(loss)+1)\n",
    "    plt.plot(epochs,loss,'yo',label='Training Loss')\n",
    "    plt.plot(epochs,val_loss,'r',label='Validation Loss')\n",
    "    plt.legend(\"TVloss\")\n",
    "    plt.title(title)\n",
    "    plt.xlabel('Epochs')\n",
    "    plt.ylabel('Loss')\n",
    "    plt.show()\n",
    "\n",
    "def draw_Trainingvalidation_acc(history,title):\n",
    "    #Training and validation accuracy\n",
    "    accuracy = history['accuracy']\n",
    "    val_acc = history['val_accuracy']\n",
    "    epochs = range(1,len(accuracy)+1)\n",
    "    plt.plot(epochs,accuracy,'yo',label='Training acc')\n",
    "    plt.plot(epochs,val_acc,'r',label='Validation acc')\n",
    "    plt.legend(\"TVacc\")\n",
    "    plt.title(title)\n",
    "    plt.xlabel('Epochs')\n",
    "    plt.ylabel('Accuracy')\n",
    "    plt.show()\n",
    "\n",
    "def returnCount(data):\n",
    "    normal = 0\n",
    "    steg = 0\n",
    "\n",
    "    for categorie in data:\n",
    "        if categorie == 0:\n",
    "            normal=normal+1\n",
    "        elif categorie == 1:\n",
    "            steg = steg +1\n",
    "    return normal,steg\n",
    "\n",
    "def add_value_label(x_list,y_list):\n",
    "    for i in range(0, len(x_list)):\n",
    "        plt.text(i,y_list[i],y_list[i], ha=\"center\")\n",
    "    \n",
    "def drawchart(data,predicted_data):\n",
    "    categoies = np.array([\"NORMAL\",\"STEGGED\"])\n",
    "    \n",
    "    print(data)\n",
    "    print(type(data))\n",
    "    \n",
    "    actual_result_normal,actual_result_stegg = returnCount(data)\n",
    "    predicted_normal_count, predicted_steg_count = returnCount(predicted_data) \n",
    "    \n",
    "    should_be_result = np.array([actual_result_normal,actual_result_stegg])\n",
    "    predicted_result = np.array([predicted_normal_count,predicted_steg_count])\n",
    "    plt.title(\"original values\")\n",
    "    plt.bar(categoies,should_be_result,color=['blue','red'])\n",
    "    add_value_label(categoies,should_be_result)\n",
    "    plt.show()\n",
    "\n",
    "    plt.bar(categoies,predicted_result,color=['blue','red'])\n",
    "    add_value_label(categoies,predicted_result)\n",
    "    plt.title(\"predicted values\")\n",
    "    plt.show()\n",
    "\n",
    "\n",
    "\n",
    "def drawhistrogram(features,labels):\n",
    "    random_image_value = random.randint(0,len(features))\n",
    "    plt.plot(features[random_image_value,:])\n",
    "    if labels[random_image_value] == 0:\n",
    "        plt.title(\"Normal\")\n",
    "    else:\n",
    "        plt.title(\"stegged\")\n",
    "    plt.show()\n",
    "    return random_image_value\n",
    "\n",
    "\n",
    "def showImage(fileLocation):\n",
    "    image = cv2.imread(fileLocation,0)\n",
    "    image = cv2.resize(image,(250,250))\n",
    "    cv2.imshow('model image',image)\n",
    "    cv2.waitKey(0)\n",
    "    cv2.destroyAllWindows()\n",
    "\n",
    "\n",
    "def accuracyPredrict(y_true,y_predict):\n",
    "    metric = BinaryAccuracy(threshold=0.5)\n",
    "    metric.update_state(y_true,y_predict)\n",
    "    metric = np.array(metric.result())\n",
    "    return metric\n",
    "\n",
    "\n",
    "def typeOfDataset(dataset):\n",
    "    if dataset == 'train':\n",
    "        return 'training set'\n",
    "    elif dataset == 'test':\n",
    "        return 'testing set'\n",
    "    elif dataset == 'valid':\n",
    "        return 'validation set'\n",
    "    elif dataset == 'internet':\n",
    "        return 'Internet set'\n",
    "    elif dataset == 'small':\n",
    "        return 'small set '\n",
    "\n",
    "\n",
    "def createReport(predictedValue,predictedClasses,trueValue):\n",
    "    report = ''\n",
    "\n",
    "    #f'Test results - Loss: {test_results[0]*100} - Accuracy: {test_results[1]*100}%'\n",
    "\n",
    "    if len(predictedValue) == len(predictedClasses) == len(trueValue):\n",
    "        counter = 0  #used for incrementing in other variable\n",
    "        for value in predictedValue:\n",
    "            imagenumer = str(counter+1)\n",
    "            #print(\"imagenumber\"+imagenumer)\n",
    "            #print(\"counter\",counter)\n",
    "            if trueValue[counter] == 0:\n",
    "                true_image_statues = 'normal'\n",
    "            elif trueValue[counter] == 1:\n",
    "                true_image_statues = 'stegged'\n",
    "            \n",
    "            probability_of_image = str(value[0] * 100) + \"%\"\n",
    "            \n",
    "            if predictedClasses[counter][0] == 0:\n",
    "                predicted_image_class = 'normal'\n",
    "            elif predictedClasses[counter][0] == 1:\n",
    "                predicted_image_class = 'stegged'\n",
    "                \n",
    "            report = report +'\\n True value of image '+imagenumer+' is '+true_image_statues+' predicted class is '+ predicted_image_class + ' with value '+ probability_of_image\n",
    "            counter = counter + 1\n",
    "    \n",
    "    print(report)\n",
    "        \n",
    "            \n",
    "\n",
    "def pathExists(path):\n",
    "    if os.path.exists(path):\n",
    "        print(\"Yes\")\n",
    "    else:\n",
    "        print(path)\n",
    "        print(\"No\")     \n",
    "        \n"
   ]
  },
  {
   "cell_type": "markdown",
   "metadata": {},
   "source": [
    "# all file location"
   ]
  },
  {
   "cell_type": "code",
   "execution_count": 32,
   "metadata": {},
   "outputs": [
    {
     "name": "stdout",
     "output_type": "stream",
     "text": [
      "Yes\n",
      "Yes\n",
      "Yes\n"
     ]
    }
   ],
   "source": [
    "main_path = \"C:\\\\Users\\\\pskavalekar\\\\Desktop\\\\Scripts\\\\DATA\"\n",
    "\n",
    "\n",
    "#LSB LOCATION\n",
    "for_lsb = main_path + \"\\\\new-set-completly-internet\\\\lsb\\\\small_set\"\n",
    "train_path =os.path.join(for_lsb,\"small_set_histogram_train.pickle\")\n",
    "test_path = os.path.join(for_lsb,\"small_set_histogram_test.pickle\")\n",
    "validation_path = os.path.join(for_lsb,\"small_set_histogram_valid.pickle\")\n",
    "#internet_path = os.path.join(for_lsb,\"small_set_small_resize.pickle\")\n",
    "\n",
    "\n",
    "\n",
    "#lsb random location\n",
    "for_ran_lsb = main_path + '\\\\new-set-completly-internet\\\\lsbRan\\\\small_set'\n",
    "train_lsbRan_path =os.path.join(for_ran_lsb,\"small_set_histogram_train.pickle\")\n",
    "test_lsbRan_path = os.path.join(for_ran_lsb,\"small_set_histogram_test.pickle\")\n",
    "validation_lsbRan_path = os.path.join(for_ran_lsb,\"small_set_histogram_valid.pickle\")\n",
    "#internet_lsbran_path = os.path.join(for_ran_lsb,\"small_set_small_resize.pickle\")\n",
    "\n",
    "#dct \n",
    "for_dct = main_path + \"\\\\new-set-completly-internet\\\\dct\\\\small_set\"\n",
    "train_dct_path =os.path.join(for_dct,\"small_set_histogram_train.pickle\")\n",
    "test_dct_path = os.path.join(for_dct,\"small_set_histogram_test.pickle\")\n",
    "validation_dct_path = os.path.join(for_dct,\"small_set_histogram_valid.pickle\")\n",
    "#internet_dct_path = os.path.join(for_dct,\"small_set_small_resize.pickle\")\n",
    "\n",
    "\n",
    "\n"
   ]
  },
  {
   "cell_type": "markdown",
   "metadata": {},
   "source": [
    "# loading dataset"
   ]
  },
  {
   "cell_type": "code",
   "execution_count": 56,
   "metadata": {},
   "outputs": [
    {
     "name": "stdout",
     "output_type": "stream",
     "text": [
      "960\n",
      "120\n",
      "120\n"
     ]
    }
   ],
   "source": [
    "train_data = readPickledata(filelocation=train_dct_path)\n",
    "print(len(train_data))\n",
    "\n",
    "test_data = readPickledata(filelocation=test_dct_path)\n",
    "print(len(test_data))\n",
    "\n",
    "valid_data = readPickledata(filelocation=validation_dct_path)\n",
    "print(len(valid_data))\n",
    "\n",
    "#internet_data = readPickledata(filelocation=internet_dct_path)\n",
    "#print(len(internet_data))\n"
   ]
  },
  {
   "cell_type": "markdown",
   "metadata": {},
   "source": [
    "# Train data"
   ]
  },
  {
   "cell_type": "code",
   "execution_count": 57,
   "metadata": {},
   "outputs": [
    {
     "name": "stdout",
     "output_type": "stream",
     "text": [
      "(960, 512)\n",
      "(960,)\n"
     ]
    }
   ],
   "source": [
    "X_Train_features = [] # histogram features\n",
    "Y_Train_labels = [] # labels values \n",
    "\n",
    "for feature, label in train_data:\n",
    "    X_Train_features.append(feature)\n",
    "    Y_Train_labels.append(label)\n",
    "\n",
    "X_Train_features = np.array(X_Train_features)\n",
    "Y_Train_labels = np.array(Y_Train_labels)\n",
    "\n",
    "print(X_Train_features.shape)\n",
    "print(Y_Train_labels.shape)"
   ]
  },
  {
   "cell_type": "markdown",
   "metadata": {},
   "source": [
    "# Test data"
   ]
  },
  {
   "cell_type": "code",
   "execution_count": 58,
   "metadata": {},
   "outputs": [
    {
     "name": "stdout",
     "output_type": "stream",
     "text": [
      "(120, 512)\n",
      "(120,)\n"
     ]
    }
   ],
   "source": [
    "X_Test_features = [] # histogram test features\n",
    "Y_Test_labels = [] # labels values \n",
    "\n",
    "for feature, label in test_data:\n",
    "    X_Test_features.append(feature)\n",
    "    Y_Test_labels.append(label)\n",
    "\n",
    "X_Test_features = np.array(X_Test_features)\n",
    "Y_Test_labels = np.array(Y_Test_labels)\n",
    "\n",
    "print(X_Test_features.shape)\n",
    "print(Y_Test_labels.shape)"
   ]
  },
  {
   "cell_type": "markdown",
   "metadata": {},
   "source": [
    "# validation data"
   ]
  },
  {
   "cell_type": "code",
   "execution_count": 59,
   "metadata": {},
   "outputs": [
    {
     "name": "stdout",
     "output_type": "stream",
     "text": [
      "(120, 512)\n",
      "(120,)\n"
     ]
    }
   ],
   "source": [
    "X_Valid_features = [] # histogram test features\n",
    "Y_Valid_labels = [] # labels values \n",
    "\n",
    "for feature, label in valid_data:\n",
    "    X_Valid_features.append(feature)\n",
    "    Y_Valid_labels.append(label)\n",
    "\n",
    "X_Valid_features = np.array(X_Valid_features)\n",
    "Y_Valid_labels = np.array(Y_Valid_labels)\n",
    "\n",
    "print(X_Valid_features.shape)\n",
    "print(Y_Valid_labels.shape)"
   ]
  },
  {
   "cell_type": "markdown",
   "metadata": {},
   "source": [
    "# small set data"
   ]
  },
  {
   "cell_type": "code",
   "execution_count": 28,
   "metadata": {},
   "outputs": [
    {
     "name": "stdout",
     "output_type": "stream",
     "text": [
      "(120, 512)\n",
      "(120,)\n"
     ]
    }
   ],
   "source": [
    "X_small_Features = [] # histogram test features\n",
    "Y_small_labels = [] # labels values \n",
    "\n",
    "for feature, label in internet_data:\n",
    "    X_small_Features.append(feature)\n",
    "    Y_small_labels.append(label)\n",
    "\n",
    "X_small_Features = np.array(X_small_Features)\n",
    "Y_small_labels = np.array(Y_small_labels)\n",
    "\n",
    "print(X_small_Features.shape)\n",
    "print(Y_small_labels.shape)"
   ]
  },
  {
   "cell_type": "markdown",
   "metadata": {},
   "source": [
    "# testing value"
   ]
  },
  {
   "cell_type": "code",
   "execution_count": 63,
   "metadata": {},
   "outputs": [
    {
     "data": {
      "image/png": "[encoded data removed]",
      "text/plain": [
       "<Figure size 432x288 with 1 Axes>"
      ]
     },
     "metadata": {},
     "output_type": "display_data"
    },
    {
     "data": {
      "text/plain": [
       "209"
      ]
     },
     "execution_count": 63,
     "metadata": {},
     "output_type": "execute_result"
    }
   ],
   "source": [
    "drawhistrogram(X_Train_features,Y_Train_labels)"
   ]
  },
  {
   "cell_type": "markdown",
   "metadata": {},
   "source": [
    "# testing small set value"
   ]
  },
  {
   "cell_type": "code",
   "execution_count": 29,
   "metadata": {},
   "outputs": [
    {
     "data": {
      "image/png": "[encoded data removed]",
      "text/plain": [
       "<Figure size 432x288 with 1 Axes>"
      ]
     },
     "metadata": {},
     "output_type": "display_data"
    },
    {
     "data": {
      "text/plain": [
       "5"
      ]
     },
     "execution_count": 29,
     "metadata": {},
     "output_type": "execute_result"
    }
   ],
   "source": [
    "drawhistrogram(X_small_Features,Y_small_labels)"
   ]
  },
  {
   "cell_type": "markdown",
   "metadata": {},
   "source": [
    "# geting shape for model"
   ]
  },
  {
   "cell_type": "code",
   "execution_count": 64,
   "metadata": {},
   "outputs": [
    {
     "name": "stdout",
     "output_type": "stream",
     "text": [
      "Input shape has been set as  (512,)\n"
     ]
    }
   ],
   "source": [
    "image_Train_shape = X_Train_features.shape\n",
    "image_Valid_shape = X_Valid_features.shape\n",
    "image_Test_shape = X_Test_features.shape\n",
    "\n",
    "\n",
    "#extracting number of rows, based on data set avalilable, this will be used to define the input shape of the MLP model\n",
    "number_of_element_train, number_of_rows_train = image_Train_shape\n",
    "number_of_element_valid, number_of_rows_valid = image_Valid_shape\n",
    "number_of_element_test, number_of_rows_test = image_Test_shape\n",
    "\n",
    "if number_of_rows_train == number_of_rows_valid == number_of_rows_test:\n",
    "    input_shape=(number_of_rows_train,)\n",
    "    print(\"Input shape has been set as \", input_shape)\n",
    "else:\n",
    "    print(\"check data set size, not compatible with this model or they all should be of equal size\")\n",
    "\n"
   ]
  },
  {
   "cell_type": "markdown",
   "metadata": {},
   "source": [
    "# creating feed forward mlp model"
   ]
  },
  {
   "cell_type": "code",
   "execution_count": 65,
   "metadata": {},
   "outputs": [],
   "source": [
    "model = Sequential()\n",
    "model.add(Dense(512,activation='relu',input_shape=input_shape))\n",
    "model.add(Dense(512,activation='relu'))\n",
    "model.add(Dense(512,activation='relu'))\n",
    "model.add(Dense(1,activation='sigmoid'))"
   ]
  },
  {
   "cell_type": "code",
   "execution_count": 66,
   "metadata": {},
   "outputs": [
    {
     "name": "stdout",
     "output_type": "stream",
     "text": [
      "Model: \"sequential_2\"\n",
      "_________________________________________________________________\n",
      "Layer (type)                 Output Shape              Param #   \n",
      "=================================================================\n",
      "dense_8 (Dense)              (None, 512)               262656    \n",
      "_________________________________________________________________\n",
      "dense_9 (Dense)              (None, 512)               262656    \n",
      "_________________________________________________________________\n",
      "dense_10 (Dense)             (None, 512)               262656    \n",
      "_________________________________________________________________\n",
      "dense_11 (Dense)             (None, 1)                 513       \n",
      "=================================================================\n",
      "Total params: 788,481\n",
      "Trainable params: 788,481\n",
      "Non-trainable params: 0\n",
      "_________________________________________________________________\n",
      "None\n"
     ]
    }
   ],
   "source": [
    "print(model.summary())"
   ]
  },
  {
   "cell_type": "code",
   "execution_count": 67,
   "metadata": {},
   "outputs": [],
   "source": [
    "model.compile(\n",
    "    loss='binary_crossentropy',\n",
    "    optimizer='adam',\n",
    "    metrics=['accuracy']\n",
    ")"
   ]
  },
  {
   "cell_type": "code",
   "execution_count": 68,
   "metadata": {},
   "outputs": [
    {
     "name": "stdout",
     "output_type": "stream",
     "text": [
      "Epoch 1/50\n",
      "20/20 [==============================] - 1s 17ms/step - loss: 0.2137 - accuracy: 0.9719 - val_loss: 5.5022e-05 - val_accuracy: 1.0000\n",
      "Epoch 2/50\n",
      "20/20 [==============================] - 0s 11ms/step - loss: 3.5705e-06 - accuracy: 1.0000 - val_loss: 3.3687e-04 - val_accuracy: 1.0000\n",
      "Epoch 3/50\n",
      "20/20 [==============================] - 0s 11ms/step - loss: 3.6152e-07 - accuracy: 1.0000 - val_loss: 5.7731e-04 - val_accuracy: 1.0000\n",
      "Epoch 4/50\n",
      "20/20 [==============================] - 0s 11ms/step - loss: 3.3862e-07 - accuracy: 1.0000 - val_loss: 5.8126e-04 - val_accuracy: 1.0000\n",
      "Epoch 5/50\n",
      "20/20 [==============================] - 0s 10ms/step - loss: 3.0474e-07 - accuracy: 1.0000 - val_loss: 5.5218e-04 - val_accuracy: 1.0000\n",
      "Epoch 6/50\n",
      "20/20 [==============================] - 0s 10ms/step - loss: 2.7561e-07 - accuracy: 1.0000 - val_loss: 5.1903e-04 - val_accuracy: 1.0000\n",
      "Epoch 7/50\n",
      "20/20 [==============================] - 0s 11ms/step - loss: 2.4748e-07 - accuracy: 1.0000 - val_loss: 4.9658e-04 - val_accuracy: 1.0000\n",
      "Epoch 8/50\n",
      "20/20 [==============================] - 0s 10ms/step - loss: 2.3221e-07 - accuracy: 1.0000 - val_loss: 4.5871e-04 - val_accuracy: 1.0000\n",
      "Epoch 9/50\n",
      "20/20 [==============================] - 0s 10ms/step - loss: 2.0384e-07 - accuracy: 1.0000 - val_loss: 4.4649e-04 - val_accuracy: 1.0000\n",
      "Epoch 10/50\n",
      "20/20 [==============================] - 0s 10ms/step - loss: 1.8969e-07 - accuracy: 1.0000 - val_loss: 4.1550e-04 - val_accuracy: 1.0000\n",
      "Epoch 11/50\n",
      "20/20 [==============================] - 0s 10ms/step - loss: 1.7338e-07 - accuracy: 1.0000 - val_loss: 3.9214e-04 - val_accuracy: 1.0000\n",
      "Epoch 12/50\n",
      "20/20 [==============================] - 0s 10ms/step - loss: 1.5919e-07 - accuracy: 1.0000 - val_loss: 3.7295e-04 - val_accuracy: 1.0000\n",
      "Epoch 13/50\n",
      "20/20 [==============================] - 0s 10ms/step - loss: 1.4784e-07 - accuracy: 1.0000 - val_loss: 3.5405e-04 - val_accuracy: 1.0000\n",
      "Epoch 14/50\n",
      "20/20 [==============================] - 0s 11ms/step - loss: 1.3948e-07 - accuracy: 1.0000 - val_loss: 3.3298e-04 - val_accuracy: 1.0000\n",
      "Epoch 15/50\n",
      "20/20 [==============================] - 0s 13ms/step - loss: 1.2714e-07 - accuracy: 1.0000 - val_loss: 3.2483e-04 - val_accuracy: 1.0000\n",
      "Epoch 16/50\n",
      "20/20 [==============================] - 0s 11ms/step - loss: 1.2019e-07 - accuracy: 1.0000 - val_loss: 3.0835e-04 - val_accuracy: 1.0000\n",
      "Epoch 17/50\n",
      "20/20 [==============================] - 0s 11ms/step - loss: 1.1373e-07 - accuracy: 1.0000 - val_loss: 2.9168e-04 - val_accuracy: 1.0000\n",
      "Epoch 18/50\n",
      "20/20 [==============================] - 0s 10ms/step - loss: 1.0556e-07 - accuracy: 1.0000 - val_loss: 2.8200e-04 - val_accuracy: 1.0000\n",
      "Epoch 19/50\n",
      "20/20 [==============================] - 0s 10ms/step - loss: 9.9919e-08 - accuracy: 1.0000 - val_loss: 2.7007e-04 - val_accuracy: 1.0000\n",
      "Epoch 20/50\n",
      "20/20 [==============================] - 0s 10ms/step - loss: 9.4601e-08 - accuracy: 1.0000 - val_loss: 2.5866e-04 - val_accuracy: 1.0000\n",
      "Epoch 21/50\n",
      "20/20 [==============================] - 0s 11ms/step - loss: 8.9815e-08 - accuracy: 1.0000 - val_loss: 2.4809e-04 - val_accuracy: 1.0000\n",
      "Epoch 22/50\n",
      "20/20 [==============================] - 0s 11ms/step - loss: 8.4706e-08 - accuracy: 1.0000 - val_loss: 2.4024e-04 - val_accuracy: 1.0000\n",
      "Epoch 23/50\n",
      "20/20 [==============================] - 0s 10ms/step - loss: 8.1128e-08 - accuracy: 1.0000 - val_loss: 2.3092e-04 - val_accuracy: 1.0000\n",
      "Epoch 24/50\n",
      "20/20 [==============================] - 0s 10ms/step - loss: 7.6769e-08 - accuracy: 1.0000 - val_loss: 2.2397e-04 - val_accuracy: 1.0000\n",
      "Epoch 25/50\n",
      "20/20 [==============================] - 0s 11ms/step - loss: 7.3379e-08 - accuracy: 1.0000 - val_loss: 2.1514e-04 - val_accuracy: 1.0000\n",
      "Epoch 26/50\n",
      "20/20 [==============================] - 0s 14ms/step - loss: 6.9478e-08 - accuracy: 1.0000 - val_loss: 2.0966e-04 - val_accuracy: 1.0000\n",
      "Epoch 27/50\n",
      "20/20 [==============================] - 0s 11ms/step - loss: 6.6562e-08 - accuracy: 1.0000 - val_loss: 2.0383e-04 - val_accuracy: 1.0000\n",
      "Epoch 28/50\n",
      "20/20 [==============================] - 0s 11ms/step - loss: 6.4130e-08 - accuracy: 1.0000 - val_loss: 1.9655e-04 - val_accuracy: 1.0000\n",
      "Epoch 29/50\n",
      "20/20 [==============================] - 0s 11ms/step - loss: 6.1179e-08 - accuracy: 1.0000 - val_loss: 1.9261e-04 - val_accuracy: 1.0000\n",
      "Epoch 30/50\n",
      "20/20 [==============================] - 0s 11ms/step - loss: 5.9217e-08 - accuracy: 1.0000 - val_loss: 1.8551e-04 - val_accuracy: 1.0000\n",
      "Epoch 31/50\n",
      "20/20 [==============================] - 0s 11ms/step - loss: 5.6811e-08 - accuracy: 1.0000 - val_loss: 1.7980e-04 - val_accuracy: 1.0000\n",
      "Epoch 32/50\n",
      "20/20 [==============================] - 0s 11ms/step - loss: 5.4756e-08 - accuracy: 1.0000 - val_loss: 1.7429e-04 - val_accuracy: 1.0000\n",
      "Epoch 33/50\n",
      "20/20 [==============================] - 0s 10ms/step - loss: 5.2674e-08 - accuracy: 1.0000 - val_loss: 1.7020e-04 - val_accuracy: 1.0000\n",
      "Epoch 34/50\n",
      "20/20 [==============================] - 0s 11ms/step - loss: 5.1459e-08 - accuracy: 1.0000 - val_loss: 1.6392e-04 - val_accuracy: 1.0000\n",
      "Epoch 35/50\n",
      "20/20 [==============================] - 0s 11ms/step - loss: 4.9211e-08 - accuracy: 1.0000 - val_loss: 1.5938e-04 - val_accuracy: 1.0000\n",
      "Epoch 36/50\n",
      "20/20 [==============================] - 0s 11ms/step - loss: 4.7486e-08 - accuracy: 1.0000 - val_loss: 1.5631e-04 - val_accuracy: 1.0000\n",
      "Epoch 37/50\n",
      "20/20 [==============================] - 0s 11ms/step - loss: 4.6009e-08 - accuracy: 1.0000 - val_loss: 1.5293e-04 - val_accuracy: 1.0000\n",
      "Epoch 38/50\n",
      "20/20 [==============================] - 0s 10ms/step - loss: 4.4771e-08 - accuracy: 1.0000 - val_loss: 1.4800e-04 - val_accuracy: 1.0000\n",
      "Epoch 39/50\n",
      "20/20 [==============================] - 0s 11ms/step - loss: 4.3322e-08 - accuracy: 1.0000 - val_loss: 1.4385e-04 - val_accuracy: 1.0000\n",
      "Epoch 40/50\n",
      "20/20 [==============================] - 0s 11ms/step - loss: 4.1915e-08 - accuracy: 1.0000 - val_loss: 1.4098e-04 - val_accuracy: 1.0000\n",
      "Epoch 41/50\n",
      "20/20 [==============================] - 0s 11ms/step - loss: 4.0757e-08 - accuracy: 1.0000 - val_loss: 1.3771e-04 - val_accuracy: 1.0000\n",
      "Epoch 42/50\n",
      "20/20 [==============================] - 0s 11ms/step - loss: 3.9847e-08 - accuracy: 1.0000 - val_loss: 1.3336e-04 - val_accuracy: 1.0000\n",
      "Epoch 43/50\n",
      "20/20 [==============================] - 0s 11ms/step - loss: 3.8354e-08 - accuracy: 1.0000 - val_loss: 1.3180e-04 - val_accuracy: 1.0000\n",
      "Epoch 44/50\n",
      "20/20 [==============================] - 0s 10ms/step - loss: 3.7459e-08 - accuracy: 1.0000 - val_loss: 1.2813e-04 - val_accuracy: 1.0000\n",
      "Epoch 45/50\n",
      "20/20 [==============================] - 0s 16ms/step - loss: 3.6387e-08 - accuracy: 1.0000 - val_loss: 1.2539e-04 - val_accuracy: 1.0000\n",
      "Epoch 46/50\n",
      "20/20 [==============================] - 0s 11ms/step - loss: 3.5472e-08 - accuracy: 1.0000 - val_loss: 1.2234e-04 - val_accuracy: 1.0000\n",
      "Epoch 47/50\n",
      "20/20 [==============================] - 0s 10ms/step - loss: 3.4522e-08 - accuracy: 1.0000 - val_loss: 1.2016e-04 - val_accuracy: 1.0000\n",
      "Epoch 48/50\n",
      "20/20 [==============================] - 0s 10ms/step - loss: 3.3893e-08 - accuracy: 1.0000 - val_loss: 1.1644e-04 - val_accuracy: 1.0000\n",
      "Epoch 49/50\n",
      "20/20 [==============================] - 0s 11ms/step - loss: 3.2780e-08 - accuracy: 1.0000 - val_loss: 1.1414e-04 - val_accuracy: 1.0000\n",
      "Epoch 50/50\n",
      "20/20 [==============================] - 0s 11ms/step - loss: 3.2021e-08 - accuracy: 1.0000 - val_loss: 1.1176e-04 - val_accuracy: 1.0000\n"
     ]
    }
   ],
   "source": [
    "history = model.fit(X_Train_features,Y_Train_labels,epochs=50,batch_size=50,validation_data=(X_Valid_features,Y_Valid_labels))"
   ]
  },
  {
   "cell_type": "code",
   "execution_count": 69,
   "metadata": {},
   "outputs": [
    {
     "data": {
      "image/png": "[encoded data removed]",
      "text/plain": [
       "<Figure size 432x288 with 1 Axes>"
      ]
     },
     "metadata": {},
     "output_type": "display_data"
    },
    {
     "data": {
      "image/png": "[encoded data removed]",
      "text/plain": [
       "<Figure size 432x288 with 1 Axes>"
      ]
     },
     "metadata": {},
     "output_type": "display_data"
    }
   ],
   "source": [
    "Main_title_loss=\"Training and Validation loss\"\n",
    "Main_title_acc = \"Training and Validation acc\"\n",
    "\n",
    "draw_Training_validation_loss(history=history.history,title=Main_title_loss)\n",
    "draw_Trainingvalidation_acc(history=history.history,title=Main_title_acc)"
   ]
  },
  {
   "cell_type": "markdown",
   "metadata": {},
   "source": [
    "# testing model"
   ]
  },
  {
   "cell_type": "code",
   "execution_count": 70,
   "metadata": {},
   "outputs": [
    {
     "name": "stdout",
     "output_type": "stream",
     "text": [
      "4/4 [==============================] - 0s 3ms/step - loss: 3.6184e-07 - accuracy: 1.0000\n",
      "Test results - Loss: 3.6184167129249545e-05 - Accuracy: 100.0%\n"
     ]
    }
   ],
   "source": [
    "test_results = model.evaluate(X_Test_features,Y_Test_labels)\n",
    "print(f'Test results - Loss: {test_results[0]*100} - Accuracy: {test_results[1]*100}%')"
   ]
  },
  {
   "cell_type": "code",
   "execution_count": 25,
   "metadata": {},
   "outputs": [
    {
     "name": "stdout",
     "output_type": "stream",
     "text": [
      "[1 1 1 0 1 1 0 0 0 0 0 1 0 1 0 1 0 1 1 1 1 0 0 1 1 0 1 0 1 0 1 0 1 1 0 1 0\n",
      " 1 0 1 0 0 0 1 1 1 0 0 1 0 0 1 0 1 0 1 1 0 0 0 1 0 0 0 0 1 0 0 1 1 1 0 1 1\n",
      " 1 0 0 0 0 0 1 0 1 1 0 1 1 1 0 0 0 1 1 1 1 1 0 0 0 0 0 0 1 0 1 0 1 0 0 1 0\n",
      " 1 1 0 1 1 0 1 1 1]\n",
      "<class 'numpy.ndarray'>\n"
     ]
    },
    {
     "data": {
      "image/png": "[encoded data removed]",
      "text/plain": [
       "<Figure size 432x288 with 1 Axes>"
      ]
     },
     "metadata": {},
     "output_type": "display_data"
    },
    {
     "data": {
      "image/png": "[encoded data removed]",
      "text/plain": [
       "<Figure size 432x288 with 1 Axes>"
      ]
     },
     "metadata": {},
     "output_type": "display_data"
    },
    {
     "name": "stdout",
     "output_type": "stream",
     "text": [
      "\n",
      " True value of image 1 is stegged predicted class is stegged with value 96.55548930168152%\n",
      " True value of image 2 is stegged predicted class is normal with value 0.9497521445155144%\n",
      " True value of image 3 is stegged predicted class is normal with value 0.5919873714447021%\n",
      " True value of image 4 is normal predicted class is normal with value 0.19518510671332479%\n",
      " True value of image 5 is stegged predicted class is stegged with value 99.99659061431885%\n",
      " True value of image 6 is stegged predicted class is stegged with value 99.9995231628418%\n",
      " True value of image 7 is normal predicted class is normal with value 0.0027952692107646726%\n",
      " True value of image 8 is normal predicted class is stegged with value 99.99586939811707%\n",
      " True value of image 9 is normal predicted class is normal with value 5.897722393274307%\n",
      " True value of image 10 is normal predicted class is stegged with value 87.76432871818542%\n",
      " True value of image 11 is normal predicted class is stegged with value 99.98419284820557%\n",
      " True value of image 12 is stegged predicted class is stegged with value 99.91309642791748%\n",
      " True value of image 13 is normal predicted class is normal with value 6.834680587053299%\n",
      " True value of image 14 is stegged predicted class is normal with value 0.005873425106983632%\n",
      " True value of image 15 is normal predicted class is stegged with value 99.95466470718384%\n",
      " True value of image 16 is stegged predicted class is stegged with value 65.67190289497375%\n",
      " True value of image 17 is normal predicted class is normal with value 1.9572659937239223e-06%\n",
      " True value of image 18 is stegged predicted class is normal with value 35.33790707588196%\n",
      " True value of image 19 is stegged predicted class is normal with value 1.1963995173573494%\n",
      " True value of image 20 is stegged predicted class is stegged with value 99.99962449073792%\n",
      " True value of image 21 is stegged predicted class is stegged with value 99.89488124847412%\n",
      " True value of image 22 is normal predicted class is normal with value 0.21084514446556568%\n",
      " True value of image 23 is normal predicted class is stegged with value 99.84138011932373%\n",
      " True value of image 24 is stegged predicted class is stegged with value 99.99947547912598%\n",
      " True value of image 25 is stegged predicted class is stegged with value 99.83072876930237%\n",
      " True value of image 26 is normal predicted class is normal with value 0.035371806006878614%\n",
      " True value of image 27 is stegged predicted class is normal with value 6.183219491973091e-08%\n",
      " True value of image 28 is normal predicted class is normal with value 45.13513147830963%\n",
      " True value of image 29 is stegged predicted class is normal with value 1.7815619812733274e-08%\n",
      " True value of image 30 is normal predicted class is normal with value 0.017364692757837474%\n",
      " True value of image 31 is stegged predicted class is normal with value 16.59749150276184%\n",
      " True value of image 32 is normal predicted class is normal with value 0.006086357825552113%\n",
      " True value of image 33 is stegged predicted class is stegged with value 99.97459053993225%\n",
      " True value of image 34 is stegged predicted class is stegged with value 99.86627101898193%\n",
      " True value of image 35 is normal predicted class is normal with value 0.017498376837465912%\n",
      " True value of image 36 is stegged predicted class is stegged with value 99.47235584259033%\n",
      " True value of image 37 is normal predicted class is normal with value 0.0014119252227828838%\n",
      " True value of image 38 is stegged predicted class is stegged with value 96.1974561214447%\n",
      " True value of image 39 is normal predicted class is stegged with value 74.14846420288086%\n",
      " True value of image 40 is stegged predicted class is stegged with value 83.69426131248474%\n",
      " True value of image 41 is normal predicted class is normal with value 1.8504861742258072%\n",
      " True value of image 42 is normal predicted class is normal with value 6.968554089326062e-05%\n",
      " True value of image 43 is normal predicted class is normal with value 0.005228556619840674%\n",
      " True value of image 44 is stegged predicted class is stegged with value 99.4304358959198%\n",
      " True value of image 45 is stegged predicted class is stegged with value 99.69752430915833%\n",
      " True value of image 46 is stegged predicted class is stegged with value 99.98399615287781%\n",
      " True value of image 47 is normal predicted class is stegged with value 95.8940327167511%\n",
      " True value of image 48 is normal predicted class is normal with value 0.0073995121056213975%\n",
      " True value of image 49 is stegged predicted class is stegged with value 99.97190833091736%\n",
      " True value of image 50 is normal predicted class is normal with value 0.030053179943934083%\n",
      " True value of image 51 is normal predicted class is normal with value 1.4547779869644728e-05%\n",
      " True value of image 52 is stegged predicted class is normal with value 0.0001140644371844246%\n",
      " True value of image 53 is normal predicted class is normal with value 2.2298725321888924%\n",
      " True value of image 54 is stegged predicted class is stegged with value 99.79124665260315%\n",
      " True value of image 55 is normal predicted class is normal with value 0.18776427023112774%\n",
      " True value of image 56 is stegged predicted class is normal with value 0.0005526231234398438%\n",
      " True value of image 57 is stegged predicted class is normal with value 0.0007984801413840614%\n",
      " True value of image 58 is normal predicted class is normal with value 38.67176175117493%\n",
      " True value of image 59 is normal predicted class is stegged with value 99.99916553497314%\n",
      " True value of image 60 is normal predicted class is stegged with value 50.95037221908569%\n",
      " True value of image 61 is stegged predicted class is normal with value 13.065169751644135%\n",
      " True value of image 62 is normal predicted class is stegged with value 100.0%\n",
      " True value of image 63 is normal predicted class is normal with value 0.12403747532516718%\n",
      " True value of image 64 is normal predicted class is normal with value 0.004914282908430323%\n",
      " True value of image 65 is normal predicted class is normal with value 8.318578714749947e-07%\n",
      " True value of image 66 is stegged predicted class is normal with value 2.381562609343746e-05%\n",
      " True value of image 67 is normal predicted class is normal with value 0.39680744521319866%\n",
      " True value of image 68 is normal predicted class is normal with value 5.2215635776519775%\n",
      " True value of image 69 is stegged predicted class is normal with value 3.4727314357496653e-06%\n",
      " True value of image 70 is stegged predicted class is normal with value 32.38529562950134%\n",
      " True value of image 71 is stegged predicted class is normal with value 4.285205363885325e-05%\n",
      " True value of image 72 is normal predicted class is normal with value 0.0024218576072598808%\n",
      " True value of image 73 is stegged predicted class is stegged with value 69.68137621879578%\n",
      " True value of image 74 is stegged predicted class is stegged with value 99.99998807907104%\n",
      " True value of image 75 is stegged predicted class is stegged with value 100.0%\n",
      " True value of image 76 is normal predicted class is normal with value 0.6841658614575863%\n",
      " True value of image 77 is normal predicted class is normal with value 0.000620795026406995%\n",
      " True value of image 78 is normal predicted class is normal with value 46.07882797718048%\n",
      " True value of image 79 is normal predicted class is normal with value 0.8320624008774757%\n",
      " True value of image 80 is normal predicted class is stegged with value 99.56300854682922%\n",
      " True value of image 81 is stegged predicted class is normal with value 5.743219162468449e-05%\n",
      " True value of image 82 is normal predicted class is normal with value 0.0025595372790121473%\n",
      " True value of image 83 is stegged predicted class is stegged with value 55.64061403274536%\n",
      " True value of image 84 is stegged predicted class is normal with value 2.5680679827928543%\n",
      " True value of image 85 is normal predicted class is normal with value 10.341766476631165%\n",
      " True value of image 86 is stegged predicted class is stegged with value 99.99999403953552%\n",
      " True value of image 87 is stegged predicted class is normal with value 49.79888200759888%\n",
      " True value of image 88 is stegged predicted class is stegged with value 99.99687075614929%\n",
      " True value of image 89 is normal predicted class is normal with value 0.020735531870741397%\n",
      " True value of image 90 is normal predicted class is normal with value 0.47206804156303406%\n",
      " True value of image 91 is normal predicted class is normal with value 0.002768641206785105%\n",
      " True value of image 92 is stegged predicted class is stegged with value 100.0%\n",
      " True value of image 93 is stegged predicted class is stegged with value 99.9241292476654%\n",
      " True value of image 94 is stegged predicted class is stegged with value 100.0%\n",
      " True value of image 95 is stegged predicted class is stegged with value 99.92912411689758%\n",
      " True value of image 96 is stegged predicted class is stegged with value 100.0%\n",
      " True value of image 97 is normal predicted class is stegged with value 51.327210664749146%\n",
      " True value of image 98 is normal predicted class is normal with value 0.013051155838184059%\n",
      " True value of image 99 is normal predicted class is normal with value 10.96634492278099%\n",
      " True value of image 100 is normal predicted class is normal with value 0.007245263259392232%\n",
      " True value of image 101 is normal predicted class is normal with value 2.624885179102421%\n",
      " True value of image 102 is normal predicted class is normal with value 10.584187507629395%\n",
      " True value of image 103 is stegged predicted class is stegged with value 99.67337250709534%\n",
      " True value of image 104 is normal predicted class is normal with value 0.05102389841340482%\n",
      " True value of image 105 is stegged predicted class is stegged with value 99.99437928199768%\n",
      " True value of image 106 is normal predicted class is normal with value 0.0011595527212193701%\n",
      " True value of image 107 is stegged predicted class is stegged with value 99.97778534889221%\n",
      " True value of image 108 is normal predicted class is normal with value 0.004955521217198111%\n",
      " True value of image 109 is normal predicted class is stegged with value 99.61480498313904%\n",
      " True value of image 110 is stegged predicted class is stegged with value 99.95463490486145%\n",
      " True value of image 111 is normal predicted class is stegged with value 99.73180890083313%\n",
      " True value of image 112 is stegged predicted class is stegged with value 99.95865225791931%\n",
      " True value of image 113 is stegged predicted class is normal with value 3.448592871427536%\n",
      " True value of image 114 is normal predicted class is normal with value 0.19837506115436554%\n",
      " True value of image 115 is stegged predicted class is stegged with value 99.8758614063263%\n",
      " True value of image 116 is stegged predicted class is normal with value 30.970603227615356%\n",
      " True value of image 117 is normal predicted class is normal with value 0.020721480541396886%\n",
      " True value of image 118 is stegged predicted class is stegged with value 96.42139077186584%\n",
      " True value of image 119 is stegged predicted class is stegged with value 99.89677667617798%\n",
      " True value of image 120 is stegged predicted class is normal with value 0.0037966510717524216%\n"
     ]
    }
   ],
   "source": [
    "predictedClasses = (model.predict(X_Test_features) > 0.5).astype(\"int32\")\n",
    "\n",
    "drawchart(Y_Test_labels,predictedClasses)\n",
    "\n",
    "predictedValues = model.predict(X_Test_features)\n",
    "\n",
    "\n",
    "\n",
    "\n",
    "createReport(predictedClasses=predictedClasses,predictedValue=predictedValues,trueValue=Y_Test_labels)"
   ]
  },
  {
   "cell_type": "code",
   "execution_count": null,
   "metadata": {},
   "outputs": [],
   "source": [
    "value=drawhistrogram(X_Test_features,Y_Test_labels)\n",
    "\n",
    "single_prediction=model.predict(np.array([X_Test_features[value,]]))\n",
    "output= model.predict_classes(np.array([X_Test_features[value,]]))\n",
    "\n",
    "\n",
    "\n",
    "\n",
    "if output[0][0] == 0:\n",
    "    output='NORMAL'\n",
    "else:\n",
    "    output='STEGGED'\n",
    "\n",
    "\n",
    "probability_of_image = str(single_prediction[0][0] * 100) + \"%\"\n",
    "\n",
    "print(\"Image is predicted as \"+output+\" with value \"+probability_of_image+\"\")\n"
   ]
  },
  {
   "cell_type": "markdown",
   "metadata": {},
   "source": [
    "# testing small set"
   ]
  },
  {
   "cell_type": "code",
   "execution_count": 31,
   "metadata": {},
   "outputs": [
    {
     "name": "stdout",
     "output_type": "stream",
     "text": [
      "4/4 [==============================] - 0s 5ms/step - loss: 1.7604e-07 - accuracy: 1.0000\n",
      "Test results - Loss: 1.7603791491183074e-05 - Accuracy: 100.0%\n"
     ]
    }
   ],
   "source": [
    "test_results = model.evaluate(X_small_Features,Y_small_labels)\n",
    "print(f'Test results - Loss: {test_results[0]*100} - Accuracy: {test_results[1]*100}%')"
   ]
  },
  {
   "cell_type": "markdown",
   "metadata": {},
   "source": [
    "# save model"
   ]
  },
  {
   "cell_type": "code",
   "execution_count": 26,
   "metadata": {},
   "outputs": [
    {
     "name": "stdout",
     "output_type": "stream",
     "text": [
      "done\n"
     ]
    }
   ],
   "source": [
    "customemodelname= 'mlp_new_set_complete_internet_dct_' #change this name when applicable\n",
    "\n",
    "save_model_location = 'C:\\\\Users\\\\pskavalekar\\\\Desktop\\\\Scripts\\\\DATA\\\\model\\\\'+customemodelname+'.h5'\n",
    "model.save(save_model_location)\n",
    "\n",
    "save_history_location = 'C:\\\\Users\\\\pskavalekar\\\\Desktop\\\\Scripts\\\\DATA\\\\model\\\\'+customemodelname+'HISTORY.pickle'\n",
    "history_location_file = open(save_history_location,'wb')\n",
    "pickle.dump(history.history,history_location_file)\n",
    "history_location_file.close()\n",
    "print('done')"
   ]
  },
  {
   "cell_type": "markdown",
   "metadata": {},
   "source": [
    "# LOAD MODEL AND HISTORY"
   ]
  },
  {
   "cell_type": "code",
   "execution_count": 30,
   "metadata": {},
   "outputs": [],
   "source": [
    "model_path = \"C:\\\\Users\\\\pskavalekar\\\\Desktop\\\\Scripts\\\\DATA\\\\model\\\\\"\n",
    "model_location = os.path.join(model_path,\"mlp_new_set_complete_internet_lsb_random.h5\")\n",
    "model_location_history = os.path.join(model_path,\"mlp_new_set_complete_internet_lsbHISTORY.pickle\")\n",
    "model_location_dct = os.path.join(model_path,\"mlp_new_set_complete_internet_dct_.h5\")\n",
    "model_location_dct_history = os.path.join(model_path,\"mlp_new_set_complete_internet_dct_HISTORY.pickle\")\n",
    "model_location_lsb_random = os.path.join(model_path,\"mlp_new_set_complete_internet_lsb_random.h5\")\n",
    "model_location_lsb_random_history = os.path.join(model_path,\"mlp_new_set_complete_internet_lsb_randomHISTORY.pickle\") \n",
    "\n",
    "\n",
    "\n",
    "model = load_save_models(modelLocation=model_location_dct)\n",
    "history = readPickledata(filelocation=model_location_dct_history)"
   ]
  }
 ],
 "metadata": {
  "kernelspec": {
   "display_name": "Python 3.9.13 64-bit",
   "language": "python",
   "name": "python3"
  },
  "language_info": {
   "codemirror_mode": {
    "name": "ipython",
    "version": 3
   },
   "file_extension": ".py",
   "mimetype": "text/x-python",
   "name": "python",
   "nbconvert_exporter": "python",
   "pygments_lexer": "ipython3",
   "version": "3.9.13"
  },
  "orig_nbformat": 4,
  "vscode": {
   "interpreter": {
    "hash": "9537d87109d9512572e2bf43e2d738b3b2623cea11b621f20b4ee8f79f0570c7"
   }
  }
 },
 "nbformat": 4,
 "nbformat_minor": 2
}
