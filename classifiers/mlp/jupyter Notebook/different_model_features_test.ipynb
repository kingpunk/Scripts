{
 "cells": [
  {
   "cell_type": "code",
   "execution_count": 10,
   "metadata": {},
   "outputs": [],
   "source": [
    "import all_other_functions as fun\n",
    "import os\n",
    "import numpy as np\n",
    "import pandas as pd\n",
    "from tensorflow.python.keras.models import Sequential,load_model\n",
    "from tensorflow.python.keras.layers import Dense\n",
    "from tensorflow.python.keras.metrics import BinaryAccuracy\n",
    "from sklearn.metrics import accuracy_score, matthews_corrcoef, f1_score\n",
    "from sklearn.neural_network import MLPClassifier\n",
    "from sklearn.neighbors import KNeighborsClassifier\n",
    "from sklearn.svm import SVC\n",
    "from sklearn.tree import DecisionTreeClassifier\n",
    "from sklearn.ensemble import RandomForestClassifier\n",
    "from sklearn.ensemble import StackingClassifier\n",
    "from sklearn.linear_model import LogisticRegression\n"
   ]
  },
  {
   "cell_type": "markdown",
   "metadata": {},
   "source": [
    "# file location"
   ]
  },
  {
   "cell_type": "code",
   "execution_count": 584,
   "metadata": {},
   "outputs": [
    {
     "name": "stdout",
     "output_type": "stream",
     "text": [
      "Yes\n",
      "Yes\n",
      "Yes\n",
      "C:\\Users\\pskavalekar\\Desktop\\Scripts\\DATA\\HISTOGRAM_FEATURE_EXTRACTION\\Completly internt set\\large\\dct\\large_set_histogram_train.pickle\n",
      "C:\\Users\\pskavalekar\\Desktop\\Scripts\\DATA\\HISTOGRAM_FEATURE_EXTRACTION\\Completly internt set\\large\\dct\\large_set_histogram_test.pickle\n",
      "C:\\Users\\pskavalekar\\Desktop\\Scripts\\DATA\\HISTOGRAM_FEATURE_EXTRACTION\\Completly internt set\\large\\dct\\large_set_histogram_valid.pickle\n"
     ]
    }
   ],
   "source": [
    "main_path = \"C:\\\\Users\\\\pskavalekar\\\\Desktop\\\\Scripts\\\\DATA\\\\HISTOGRAM_FEATURE_EXTRACTION\"\n",
    "\n",
    "type_of_testing = [\"Comptuerd_set\",\"Semi Captured set\",\"Completly internt set\"]\n",
    "size_of_testing = [\"large\",\"mid\",\"small\"]\n",
    "algoithm = [\"lsb\",\"lsbran\",\"dct\"]\n",
    "\n",
    "#main file name\n",
    "train_set_file_name = \"large_set_histogram_train.pickle\"\n",
    "test_set_file_name = \"large_set_histogram_test.pickle\"\n",
    "validation_set_file_name = \"large_set_histogram_valid.pickle\"\n",
    "\n",
    "#small file name\n",
    "testing_file_name = \"global_mid_set_test2.pickle\"\n",
    " \n",
    "main_type_testing = type_of_testing[2] # change once all one set of testing is done\n",
    "main_size_of_testing = size_of_testing[0] # change once all type of size is tested\n",
    "main_algorithm_testing = algoithm[2] # change algorithm first then size then type\n",
    "\n",
    "\n",
    "\n",
    "\n",
    "# creating the path\n",
    "type_testing_path = os.path.join(main_path,main_type_testing)\n",
    "type_of_size_path = os.path.join(type_testing_path,main_size_of_testing)\n",
    "type_of_algorithm_path = os.path.join(type_of_size_path,main_algorithm_testing)\n",
    "\n",
    "\n",
    "#train path\n",
    "train_path = os.path.join(type_of_algorithm_path,train_set_file_name)\n",
    "#test path\n",
    "test_path = os.path.join(type_of_algorithm_path,test_set_file_name)\n",
    "#validation path\n",
    "valid_path = os.path.join(type_of_algorithm_path,validation_set_file_name)\n",
    "\n",
    "\n",
    "\n",
    "fun.pathExists(train_path)\n",
    "fun.pathExists(test_path)\n",
    "fun.pathExists(valid_path)\n",
    "\n",
    "print(train_path)\n",
    "print(test_path)\n",
    "print(valid_path)\n",
    "\n",
    "\n"
   ]
  },
  {
   "cell_type": "code",
   "execution_count": 585,
   "metadata": {},
   "outputs": [
    {
     "name": "stdout",
     "output_type": "stream",
     "text": [
      "Yes\n",
      "C:\\Users\\pskavalekar\\Desktop\\Scripts\\DATA\\HISTOGRAM_FEATURE_EXTRACTION\\Completly internt set\\small\\dct\\global_mid_set.pickle\n"
     ]
    }
   ],
   "source": [
    "#small path\n",
    "\n",
    "small_set_temp_path = os.path.join(type_testing_path,'small')\n",
    "small_set_temp_path = os.path.join(small_set_temp_path,main_algorithm_testing)\n",
    "small_path = os.path.join(small_set_temp_path,'global_mid_set.pickle')\n",
    "fun.pathExists(small_path)\n",
    "print(small_path)"
   ]
  },
  {
   "cell_type": "code",
   "execution_count": 586,
   "metadata": {},
   "outputs": [
    {
     "name": "stdout",
     "output_type": "stream",
     "text": [
      "Yes\n",
      "C:\\Users\\pskavalekar\\Desktop\\Scripts\\DATA\\HISTOGRAM_FEATURE_EXTRACTION\\Completly internt set\\mid\\dct\\large_set_histogram_test.pickle\n"
     ]
    }
   ],
   "source": [
    "# mid path\n",
    "mid_set_temp_path = os.path.join(type_testing_path,'mid')\n",
    "mid_set_temp_path = os.path.join(mid_set_temp_path,main_algorithm_testing)\n",
    "mid_path = os.path.join(mid_set_temp_path,'large_set_histogram_test.pickle')\n",
    "fun.pathExists(mid_path)\n",
    "print(mid_path)"
   ]
  },
  {
   "cell_type": "markdown",
   "metadata": {},
   "source": [
    "# loading dataset"
   ]
  },
  {
   "cell_type": "code",
   "execution_count": 587,
   "metadata": {},
   "outputs": [
    {
     "name": "stdout",
     "output_type": "stream",
     "text": [
      "960\n",
      "120\n",
      "120\n",
      "120\n",
      "120\n"
     ]
    }
   ],
   "source": [
    "train_data = fun.readPickledata(filelocation=train_path)\n",
    "print(len(train_data))\n",
    "test_data = fun.readPickledata(filelocation=test_path)\n",
    "print(len(test_data))\n",
    "valid_data = fun.readPickledata(filelocation=valid_path)\n",
    "print(len(valid_data))\n",
    "if os.path.exists(small_path) == True:\n",
    "    small_data = fun.readPickledata(filelocation=small_path)\n",
    "    print(len(small_data))\n",
    "if os.path.exists(mid_path) == True:\n",
    "    mid_data = fun.readPickledata(filelocation=mid_path)\n",
    "    print(len(mid_data))"
   ]
  },
  {
   "cell_type": "markdown",
   "metadata": {},
   "source": [
    "# train data"
   ]
  },
  {
   "cell_type": "code",
   "execution_count": 588,
   "metadata": {},
   "outputs": [
    {
     "name": "stdout",
     "output_type": "stream",
     "text": [
      "(960, 512)\n",
      "(960,)\n"
     ]
    }
   ],
   "source": [
    "X_Train_features = [] # histogram features\n",
    "Y_Train_labels = [] # labels values \n",
    "\n",
    "for feature, label in train_data:\n",
    "    X_Train_features.append(feature)\n",
    "    Y_Train_labels.append(label)\n",
    "\n",
    "X_Train_features = np.array(X_Train_features)\n",
    "Y_Train_labels = np.array(Y_Train_labels)\n",
    "\n",
    "print(X_Train_features.shape)\n",
    "print(Y_Train_labels.shape)"
   ]
  },
  {
   "cell_type": "markdown",
   "metadata": {},
   "source": [
    "# Test data"
   ]
  },
  {
   "cell_type": "code",
   "execution_count": 589,
   "metadata": {},
   "outputs": [
    {
     "name": "stdout",
     "output_type": "stream",
     "text": [
      "(120, 512)\n",
      "(120,)\n",
      "120\n"
     ]
    }
   ],
   "source": [
    "X_Test_features = [] # histogram test features\n",
    "Y_Test_labels = [] # labels values \n",
    "\n",
    "for feature, label in test_data:\n",
    "    X_Test_features.append(feature)\n",
    "    Y_Test_labels.append(label)\n",
    "\n",
    "X_Test_features = np.array(X_Test_features)\n",
    "Y_Test_labels = np.array(Y_Test_labels)\n",
    "\n",
    "print(X_Test_features.shape)\n",
    "print(Y_Test_labels.shape)\n",
    "print(len(X_Test_features))"
   ]
  },
  {
   "cell_type": "markdown",
   "metadata": {},
   "source": [
    "# validation data"
   ]
  },
  {
   "cell_type": "code",
   "execution_count": 590,
   "metadata": {},
   "outputs": [
    {
     "name": "stdout",
     "output_type": "stream",
     "text": [
      "(120, 512)\n",
      "(120,)\n"
     ]
    }
   ],
   "source": [
    "X_Valid_features = [] # histogram test features\n",
    "Y_Valid_labels = [] # labels values \n",
    "\n",
    "for feature, label in valid_data:\n",
    "    X_Valid_features.append(feature)\n",
    "    Y_Valid_labels.append(label)\n",
    "\n",
    "X_Valid_features = np.array(X_Valid_features)\n",
    "Y_Valid_labels = np.array(Y_Valid_labels)\n",
    "\n",
    "print(X_Valid_features.shape)\n",
    "print(Y_Valid_labels.shape)"
   ]
  },
  {
   "cell_type": "markdown",
   "metadata": {},
   "source": [
    "# small test"
   ]
  },
  {
   "cell_type": "code",
   "execution_count": 591,
   "metadata": {},
   "outputs": [
    {
     "name": "stdout",
     "output_type": "stream",
     "text": [
      "(120, 512)\n",
      "(120,)\n"
     ]
    }
   ],
   "source": [
    "X_small_Features = [] # histogram test features\n",
    "Y_small_labels = [] # labels values \n",
    "\n",
    "for feature, label in small_data:\n",
    "    X_small_Features.append(feature)\n",
    "    Y_small_labels.append(label)\n",
    "\n",
    "X_small_Features = np.array(X_small_Features)\n",
    "Y_small_labels = np.array(Y_small_labels)\n",
    "\n",
    "print(X_small_Features.shape)\n",
    "print(Y_small_labels.shape)"
   ]
  },
  {
   "cell_type": "markdown",
   "metadata": {},
   "source": [
    "# mid test"
   ]
  },
  {
   "cell_type": "code",
   "execution_count": 592,
   "metadata": {},
   "outputs": [
    {
     "name": "stdout",
     "output_type": "stream",
     "text": [
      "(120, 512)\n",
      "(120,)\n"
     ]
    }
   ],
   "source": [
    "X_mid_Features = [] # histogram test features\n",
    "Y_mid_labels = [] # labels values \n",
    "\n",
    "for feature, label in mid_data:\n",
    "    X_mid_Features.append(feature)\n",
    "    Y_mid_labels.append(label)\n",
    "\n",
    "X_mid_Features = np.array(X_mid_Features)\n",
    "Y_mid_labels = np.array(Y_mid_labels)\n",
    "\n",
    "print(X_mid_Features.shape)\n",
    "print(Y_mid_labels.shape)"
   ]
  },
  {
   "cell_type": "markdown",
   "metadata": {},
   "source": [
    "# testing values\n"
   ]
  },
  {
   "cell_type": "code",
   "execution_count": 593,
   "metadata": {},
   "outputs": [
    {
     "data": {
      "image/png": "[encoded data removed]",
      "text/plain": [
       "<Figure size 432x288 with 1 Axes>"
      ]
     },
     "metadata": {},
     "output_type": "display_data"
    },
    {
     "data": {
      "text/plain": [
       "309"
      ]
     },
     "execution_count": 593,
     "metadata": {},
     "output_type": "execute_result"
    }
   ],
   "source": [
    "fun.drawhistrogram(X_Train_features,Y_Train_labels)\n"
   ]
  },
  {
   "cell_type": "code",
   "execution_count": 594,
   "metadata": {},
   "outputs": [
    {
     "data": {
      "image/png": "[encoded data removed]",
      "text/plain": [
       "<Figure size 432x288 with 1 Axes>"
      ]
     },
     "metadata": {},
     "output_type": "display_data"
    },
    {
     "data": {
      "text/plain": [
       "7"
      ]
     },
     "execution_count": 594,
     "metadata": {},
     "output_type": "execute_result"
    }
   ],
   "source": [
    "fun.drawhistrogram(X_small_Features,Y_small_labels)"
   ]
  },
  {
   "cell_type": "code",
   "execution_count": 595,
   "metadata": {},
   "outputs": [
    {
     "data": {
      "image/png": "[encoded data removed]",
      "text/plain": [
       "<Figure size 432x288 with 1 Axes>"
      ]
     },
     "metadata": {},
     "output_type": "display_data"
    },
    {
     "data": {
      "text/plain": [
       "104"
      ]
     },
     "execution_count": 595,
     "metadata": {},
     "output_type": "execute_result"
    }
   ],
   "source": [
    "fun.drawhistrogram(X_mid_Features,Y_mid_labels)"
   ]
  },
  {
   "cell_type": "markdown",
   "metadata": {},
   "source": [
    "# getting shape for model"
   ]
  },
  {
   "cell_type": "code",
   "execution_count": 596,
   "metadata": {},
   "outputs": [
    {
     "name": "stdout",
     "output_type": "stream",
     "text": [
      "Input shape has been set as  (512,)\n"
     ]
    }
   ],
   "source": [
    "image_Train_shape = X_Train_features.shape\n",
    "image_Valid_shape = X_Valid_features.shape\n",
    "image_Test_shape = X_Test_features.shape\n",
    "\n",
    "#extracting number of rows, based on data set avalilable, this will be used to define the input shape of the MLP model\n",
    "number_of_element_train, number_of_rows_train = image_Train_shape\n",
    "number_of_element_valid, number_of_rows_valid = image_Valid_shape\n",
    "number_of_element_test, number_of_rows_test = image_Test_shape\n",
    "\n",
    "if number_of_rows_train == number_of_rows_valid == number_of_rows_test:\n",
    "    input_shape=(number_of_rows_train,)\n",
    "    print(\"Input shape has been set as \", input_shape)\n",
    "else:\n",
    "    print(\"check data set size, not compatible with this model or they all should be of equal size\")\n"
   ]
  },
  {
   "cell_type": "markdown",
   "metadata": {},
   "source": [
    "# creating models"
   ]
  },
  {
   "cell_type": "markdown",
   "metadata": {},
   "source": [
    "# knn"
   ]
  },
  {
   "cell_type": "code",
   "execution_count": 597,
   "metadata": {},
   "outputs": [
    {
     "name": "stdout",
     "output_type": "stream",
     "text": [
      "Confusion Matrix:\n",
      "[[59  1]\n",
      " [ 0 60]]\n",
      "Classification Report:\n",
      "              precision    recall  f1-score   support\n",
      "\n",
      "           0       1.00      0.98      0.99        60\n",
      "           1       0.98      1.00      0.99        60\n",
      "\n",
      "    accuracy                           0.99       120\n",
      "   macro avg       0.99      0.99      0.99       120\n",
      "weighted avg       0.99      0.99      0.99       120\n",
      "\n"
     ]
    }
   ],
   "source": [
    "from sklearn import metrics\n",
    "scores = {}\n",
    "scores_list = []\n",
    "k_range = range(1,15)\n",
    "for k in k_range:\n",
    "    classifiers = KNeighborsClassifier(n_neighbors=k)\n",
    "    classifiers.fit(X_Train_features,Y_Train_labels)\n",
    "    y_prediction_test = classifiers.predict(X_Test_features)\n",
    "    scores[k] = metrics.accuracy_score(Y_Test_labels,y_prediction_test)\n",
    "    scores_list.append(metrics.accuracy_score(Y_Test_labels,y_prediction_test))\n",
    "\n",
    "result = metrics.confusion_matrix(Y_Test_labels,y_prediction_test)\n",
    "print(\"Confusion Matrix:\")\n",
    "print(result)\n",
    "result1 = metrics.classification_report(Y_Test_labels,y_prediction_test)\n",
    "print(\"Classification Report:\",)\n",
    "print (result1)"
   ]
  },
  {
   "cell_type": "code",
   "execution_count": 598,
   "metadata": {},
   "outputs": [
    {
     "data": {
      "text/plain": [
       "Text(0, 0.5, 'Accuracy')"
      ]
     },
     "execution_count": 598,
     "metadata": {},
     "output_type": "execute_result"
    },
    {
     "data": {
      "image/png": "[encoded data removed]",
      "text/plain": [
       "<Figure size 432x288 with 1 Axes>"
      ]
     },
     "metadata": {},
     "output_type": "display_data"
    }
   ],
   "source": [
    "import matplotlib.pyplot as plt\n",
    "plt.plot(k_range,scores_list)\n",
    "plt.xlabel(\"Value of K\")\n",
    "plt.ylabel(\"Accuracy\")"
   ]
  },
  {
   "cell_type": "code",
   "execution_count": 599,
   "metadata": {},
   "outputs": [
    {
     "data": {
      "text/html": [
       "<style>#sk-container-id-31 {color: black;background-color: white;}#sk-container-id-31 pre{padding: 0;}#sk-container-id-31 div.sk-toggleable {background-color: white;}#sk-container-id-31 label.sk-toggleable__label {cursor: pointer;display: block;width: 100%;margin-bottom: 0;padding: 0.3em;box-sizing: border-box;text-align: center;}#sk-container-id-31 label.sk-toggleable__label-arrow:before {content: \"▸\";float: left;margin-right: 0.25em;color: #696969;}#sk-container-id-31 label.sk-toggleable__label-arrow:hover:before {color: black;}#sk-container-id-31 div.sk-estimator:hover label.sk-toggleable__label-arrow:before {color: black;}#sk-container-id-31 div.sk-toggleable__content {max-height: 0;max-width: 0;overflow: hidden;text-align: left;background-color: #f0f8ff;}#sk-container-id-31 div.sk-toggleable__content pre {margin: 0.2em;color: black;border-radius: 0.25em;background-color: #f0f8ff;}#sk-container-id-31 input.sk-toggleable__control:checked~div.sk-toggleable__content {max-height: 200px;max-width: 100%;overflow: auto;}#sk-container-id-31 input.sk-toggleable__control:checked~label.sk-toggleable__label-arrow:before {content: \"▾\";}#sk-container-id-31 div.sk-estimator input.sk-toggleable__control:checked~label.sk-toggleable__label {background-color: #d4ebff;}#sk-container-id-31 div.sk-label input.sk-toggleable__control:checked~label.sk-toggleable__label {background-color: #d4ebff;}#sk-container-id-31 input.sk-hidden--visually {border: 0;clip: rect(1px 1px 1px 1px);clip: rect(1px, 1px, 1px, 1px);height: 1px;margin: -1px;overflow: hidden;padding: 0;position: absolute;width: 1px;}#sk-container-id-31 div.sk-estimator {font-family: monospace;background-color: #f0f8ff;border: 1px dotted black;border-radius: 0.25em;box-sizing: border-box;margin-bottom: 0.5em;}#sk-container-id-31 div.sk-estimator:hover {background-color: #d4ebff;}#sk-container-id-31 div.sk-parallel-item::after {content: \"\";width: 100%;border-bottom: 1px solid gray;flex-grow: 1;}#sk-container-id-31 div.sk-label:hover label.sk-toggleable__label {background-color: #d4ebff;}#sk-container-id-31 div.sk-serial::before {content: \"\";position: absolute;border-left: 1px solid gray;box-sizing: border-box;top: 0;bottom: 0;left: 50%;z-index: 0;}#sk-container-id-31 div.sk-serial {display: flex;flex-direction: column;align-items: center;background-color: white;padding-right: 0.2em;padding-left: 0.2em;position: relative;}#sk-container-id-31 div.sk-item {position: relative;z-index: 1;}#sk-container-id-31 div.sk-parallel {display: flex;align-items: stretch;justify-content: center;background-color: white;position: relative;}#sk-container-id-31 div.sk-item::before, #sk-container-id-31 div.sk-parallel-item::before {content: \"\";position: absolute;border-left: 1px solid gray;box-sizing: border-box;top: 0;bottom: 0;left: 50%;z-index: -1;}#sk-container-id-31 div.sk-parallel-item {display: flex;flex-direction: column;z-index: 1;position: relative;background-color: white;}#sk-container-id-31 div.sk-parallel-item:first-child::after {align-self: flex-end;width: 50%;}#sk-container-id-31 div.sk-parallel-item:last-child::after {align-self: flex-start;width: 50%;}#sk-container-id-31 div.sk-parallel-item:only-child::after {width: 0;}#sk-container-id-31 div.sk-dashed-wrapped {border: 1px dashed gray;margin: 0 0.4em 0.5em 0.4em;box-sizing: border-box;padding-bottom: 0.4em;background-color: white;}#sk-container-id-31 div.sk-label label {font-family: monospace;font-weight: bold;display: inline-block;line-height: 1.2em;}#sk-container-id-31 div.sk-label-container {text-align: center;}#sk-container-id-31 div.sk-container {/* jupyter's `normalize.less` sets `[hidden] { display: none; }` but bootstrap.min.css set `[hidden] { display: none !important; }` so we also need the `!important` here to be able to override the default hidden behavior on the sphinx rendered scikit-learn.org. See: https://github.com/scikit-learn/scikit-learn/issues/21755 */display: inline-block !important;position: relative;}#sk-container-id-31 div.sk-text-repr-fallback {display: none;}</style><div id=\"sk-container-id-31\" class=\"sk-top-container\"><div class=\"sk-text-repr-fallback\"><pre>KNeighborsClassifier(n_neighbors=2)</pre><b>In a Jupyter environment, please rerun this cell to show the HTML representation or trust the notebook. <br />On GitHub, the HTML representation is unable to render, please try loading this page with nbviewer.org.</b></div><div class=\"sk-container\" hidden><div class=\"sk-item\"><div class=\"sk-estimator sk-toggleable\"><input class=\"sk-toggleable__control sk-hidden--visually\" id=\"sk-estimator-id-61\" type=\"checkbox\" checked><label for=\"sk-estimator-id-61\" class=\"sk-toggleable__label sk-toggleable__label-arrow\">KNeighborsClassifier</label><div class=\"sk-toggleable__content\"><pre>KNeighborsClassifier(n_neighbors=2)</pre></div></div></div></div></div>"
      ],
      "text/plain": [
       "KNeighborsClassifier(n_neighbors=2)"
      ]
     },
     "execution_count": 599,
     "metadata": {},
     "output_type": "execute_result"
    }
   ],
   "source": [
    "knn = KNeighborsClassifier(2)\n",
    "knn.fit(X_Train_features,Y_Train_labels)"
   ]
  },
  {
   "cell_type": "code",
   "execution_count": 600,
   "metadata": {},
   "outputs": [],
   "source": [
    "# Make predictions\n",
    "knn_y_train_prediction = knn.predict(X_Train_features)\n",
    "knn_y_test_prediction = knn.predict(X_Test_features)"
   ]
  },
  {
   "cell_type": "code",
   "execution_count": 601,
   "metadata": {},
   "outputs": [
    {
     "name": "stdout",
     "output_type": "stream",
     "text": [
      "Model performance for Training set\n",
      "- Accuracy: 0.9989583333333333\n",
      "- MCC: 0.9979188322914824\n",
      "- F1 score: 0.9989583322030514\n",
      "----------------------------------\n",
      "Model performance for Test set\n",
      "- Accuracy: 1.0\n",
      "- MCC: 1.0\n",
      "- F1 score: 1.0\n"
     ]
    }
   ],
   "source": [
    "# Training set performance\n",
    "knn_train_accuracy = accuracy_score(Y_Train_labels, knn_y_train_prediction) # Calculate Accuracy\n",
    "knn_train_mcc = matthews_corrcoef(Y_Train_labels, knn_y_train_prediction) # Calculate MCC\n",
    "knn_train_f1 = f1_score(Y_Train_labels, knn_y_train_prediction, average='weighted') # Calculate F1-score\n",
    "\n",
    "# Test set performance\n",
    "knn_test_accuracy = accuracy_score(Y_Test_labels, knn_y_test_prediction) # Calculate Accuracy\n",
    "knn_test_mcc = matthews_corrcoef(Y_Test_labels, knn_y_test_prediction) # Calculate MCC\n",
    "knn_test_f1 = f1_score(Y_Test_labels, knn_y_test_prediction, average='weighted') # Calculate F1-score\n",
    "\n",
    "print('Model performance for Training set')\n",
    "print('- Accuracy: %s' % knn_train_accuracy)\n",
    "print('- MCC: %s' % knn_train_mcc)\n",
    "print('- F1 score: %s' % knn_train_f1)\n",
    "print('----------------------------------')\n",
    "print('Model performance for Test set')\n",
    "print('- Accuracy: %s' % knn_test_accuracy)\n",
    "print('- MCC: %s' % knn_test_mcc)\n",
    "print('- F1 score: %s' % knn_test_f1)"
   ]
  },
  {
   "cell_type": "code",
   "execution_count": 602,
   "metadata": {},
   "outputs": [
    {
     "name": "stdout",
     "output_type": "stream",
     "text": [
      "[60, 60]\n",
      "[60, 60]\n"
     ]
    }
   ],
   "source": [
    "#print(knn_y_test_prediction)\n",
    "#print(Y_Test_labels)\n",
    "#fun.drawchart(Y_Test_labels, knn_y_test_prediction)\n",
    "normal_actual_and_predicted_list = []\n",
    "stagg_actual_and_predicted_list = []\n",
    "knn_large_normal_actual_and_predicted_ratio, knn_large_stagg_actual_and_predicted_ratio = fun.drawchart(Y_Test_labels,knn_y_test_prediction)\n",
    "print(knn_large_normal_actual_and_predicted_ratio)\n",
    "print(knn_large_stagg_actual_and_predicted_ratio)"
   ]
  },
  {
   "cell_type": "markdown",
   "metadata": {},
   "source": [
    "# testing small set"
   ]
  },
  {
   "cell_type": "code",
   "execution_count": 603,
   "metadata": {},
   "outputs": [],
   "source": [
    "knn_small_test_prediction = knn.predict(X_small_Features)"
   ]
  },
  {
   "cell_type": "code",
   "execution_count": 604,
   "metadata": {},
   "outputs": [],
   "source": [
    "knn_small_accuracy = accuracy_score(Y_small_labels,knn_small_test_prediction) \n",
    "knn_small_mcc = matthews_corrcoef(Y_small_labels,knn_small_test_prediction)\n",
    "knn_small_f1 = f1_score(Y_small_labels,knn_small_test_prediction,average='weighted')"
   ]
  },
  {
   "cell_type": "code",
   "execution_count": 605,
   "metadata": {},
   "outputs": [
    {
     "name": "stdout",
     "output_type": "stream",
     "text": [
      "Model performance for small Test set\n",
      "- Accuracy: 1.0\n",
      "- MCC: 1.0\n",
      "- F1 score: 1.0\n"
     ]
    }
   ],
   "source": [
    "print('Model performance for small Test set')\n",
    "print('- Accuracy: %s' % knn_small_accuracy)\n",
    "print('- MCC: %s' % knn_small_mcc)\n",
    "print('- F1 score: %s' % knn_small_f1)"
   ]
  },
  {
   "cell_type": "code",
   "execution_count": 606,
   "metadata": {},
   "outputs": [
    {
     "name": "stdout",
     "output_type": "stream",
     "text": [
      "[60, 60]\n",
      "[60, 60]\n"
     ]
    }
   ],
   "source": [
    "knn_small_normal_actual_and_predicted_ratio,knn_small_stagg_actual_and_predicted_ratio=fun.drawchart(Y_small_labels,knn_small_test_prediction)\n",
    "print(knn_small_normal_actual_and_predicted_ratio)\n",
    "print(knn_small_stagg_actual_and_predicted_ratio)"
   ]
  },
  {
   "cell_type": "markdown",
   "metadata": {},
   "source": [
    "# mid set"
   ]
  },
  {
   "cell_type": "code",
   "execution_count": 607,
   "metadata": {},
   "outputs": [],
   "source": [
    "knn_mid_set_prediction = knn.predict(X_mid_Features)"
   ]
  },
  {
   "cell_type": "code",
   "execution_count": 608,
   "metadata": {},
   "outputs": [],
   "source": [
    "knn_mid_accuracy = accuracy_score(Y_mid_labels,knn_mid_set_prediction) \n",
    "knn_mid_mcc = matthews_corrcoef(Y_mid_labels,knn_mid_set_prediction)\n",
    "knn_mid_f1 = f1_score(Y_mid_labels,knn_mid_set_prediction,average='weighted')"
   ]
  },
  {
   "cell_type": "code",
   "execution_count": 609,
   "metadata": {},
   "outputs": [
    {
     "name": "stdout",
     "output_type": "stream",
     "text": [
      "Model performance for mid Test set\n",
      "- Accuracy: 1.0\n",
      "- MCC: 1.0\n",
      "- F1 score: 1.0\n"
     ]
    }
   ],
   "source": [
    "print('Model performance for mid Test set')\n",
    "print('- Accuracy: %s' % knn_mid_accuracy)\n",
    "print('- MCC: %s' % knn_mid_mcc)\n",
    "print('- F1 score: %s' % knn_mid_f1)"
   ]
  },
  {
   "cell_type": "code",
   "execution_count": 610,
   "metadata": {},
   "outputs": [
    {
     "name": "stdout",
     "output_type": "stream",
     "text": [
      "[60, 60]\n",
      "[60, 60]\n"
     ]
    }
   ],
   "source": [
    "knn_mid_normal_actual_and_predicted_ratio,knn_mid_stagg_actual_and_predicted_ratio=fun.drawchart(Y_mid_labels,knn_mid_set_prediction)\n",
    "print(knn_mid_normal_actual_and_predicted_ratio)\n",
    "print(knn_mid_stagg_actual_and_predicted_ratio)"
   ]
  },
  {
   "cell_type": "markdown",
   "metadata": {},
   "source": [
    "# svm "
   ]
  },
  {
   "cell_type": "code",
   "execution_count": 611,
   "metadata": {},
   "outputs": [],
   "source": [
    "svm_linear = SVC(gamma=2,kernel='linear',C=1)"
   ]
  },
  {
   "cell_type": "code",
   "execution_count": 612,
   "metadata": {},
   "outputs": [
    {
     "data": {
      "text/html": [
       "<style>#sk-container-id-32 {color: black;background-color: white;}#sk-container-id-32 pre{padding: 0;}#sk-container-id-32 div.sk-toggleable {background-color: white;}#sk-container-id-32 label.sk-toggleable__label {cursor: pointer;display: block;width: 100%;margin-bottom: 0;padding: 0.3em;box-sizing: border-box;text-align: center;}#sk-container-id-32 label.sk-toggleable__label-arrow:before {content: \"▸\";float: left;margin-right: 0.25em;color: #696969;}#sk-container-id-32 label.sk-toggleable__label-arrow:hover:before {color: black;}#sk-container-id-32 div.sk-estimator:hover label.sk-toggleable__label-arrow:before {color: black;}#sk-container-id-32 div.sk-toggleable__content {max-height: 0;max-width: 0;overflow: hidden;text-align: left;background-color: #f0f8ff;}#sk-container-id-32 div.sk-toggleable__content pre {margin: 0.2em;color: black;border-radius: 0.25em;background-color: #f0f8ff;}#sk-container-id-32 input.sk-toggleable__control:checked~div.sk-toggleable__content {max-height: 200px;max-width: 100%;overflow: auto;}#sk-container-id-32 input.sk-toggleable__control:checked~label.sk-toggleable__label-arrow:before {content: \"▾\";}#sk-container-id-32 div.sk-estimator input.sk-toggleable__control:checked~label.sk-toggleable__label {background-color: #d4ebff;}#sk-container-id-32 div.sk-label input.sk-toggleable__control:checked~label.sk-toggleable__label {background-color: #d4ebff;}#sk-container-id-32 input.sk-hidden--visually {border: 0;clip: rect(1px 1px 1px 1px);clip: rect(1px, 1px, 1px, 1px);height: 1px;margin: -1px;overflow: hidden;padding: 0;position: absolute;width: 1px;}#sk-container-id-32 div.sk-estimator {font-family: monospace;background-color: #f0f8ff;border: 1px dotted black;border-radius: 0.25em;box-sizing: border-box;margin-bottom: 0.5em;}#sk-container-id-32 div.sk-estimator:hover {background-color: #d4ebff;}#sk-container-id-32 div.sk-parallel-item::after {content: \"\";width: 100%;border-bottom: 1px solid gray;flex-grow: 1;}#sk-container-id-32 div.sk-label:hover label.sk-toggleable__label {background-color: #d4ebff;}#sk-container-id-32 div.sk-serial::before {content: \"\";position: absolute;border-left: 1px solid gray;box-sizing: border-box;top: 0;bottom: 0;left: 50%;z-index: 0;}#sk-container-id-32 div.sk-serial {display: flex;flex-direction: column;align-items: center;background-color: white;padding-right: 0.2em;padding-left: 0.2em;position: relative;}#sk-container-id-32 div.sk-item {position: relative;z-index: 1;}#sk-container-id-32 div.sk-parallel {display: flex;align-items: stretch;justify-content: center;background-color: white;position: relative;}#sk-container-id-32 div.sk-item::before, #sk-container-id-32 div.sk-parallel-item::before {content: \"\";position: absolute;border-left: 1px solid gray;box-sizing: border-box;top: 0;bottom: 0;left: 50%;z-index: -1;}#sk-container-id-32 div.sk-parallel-item {display: flex;flex-direction: column;z-index: 1;position: relative;background-color: white;}#sk-container-id-32 div.sk-parallel-item:first-child::after {align-self: flex-end;width: 50%;}#sk-container-id-32 div.sk-parallel-item:last-child::after {align-self: flex-start;width: 50%;}#sk-container-id-32 div.sk-parallel-item:only-child::after {width: 0;}#sk-container-id-32 div.sk-dashed-wrapped {border: 1px dashed gray;margin: 0 0.4em 0.5em 0.4em;box-sizing: border-box;padding-bottom: 0.4em;background-color: white;}#sk-container-id-32 div.sk-label label {font-family: monospace;font-weight: bold;display: inline-block;line-height: 1.2em;}#sk-container-id-32 div.sk-label-container {text-align: center;}#sk-container-id-32 div.sk-container {/* jupyter's `normalize.less` sets `[hidden] { display: none; }` but bootstrap.min.css set `[hidden] { display: none !important; }` so we also need the `!important` here to be able to override the default hidden behavior on the sphinx rendered scikit-learn.org. See: https://github.com/scikit-learn/scikit-learn/issues/21755 */display: inline-block !important;position: relative;}#sk-container-id-32 div.sk-text-repr-fallback {display: none;}</style><div id=\"sk-container-id-32\" class=\"sk-top-container\"><div class=\"sk-text-repr-fallback\"><pre>SVC(C=1, gamma=2, kernel=&#x27;linear&#x27;)</pre><b>In a Jupyter environment, please rerun this cell to show the HTML representation or trust the notebook. <br />On GitHub, the HTML representation is unable to render, please try loading this page with nbviewer.org.</b></div><div class=\"sk-container\" hidden><div class=\"sk-item\"><div class=\"sk-estimator sk-toggleable\"><input class=\"sk-toggleable__control sk-hidden--visually\" id=\"sk-estimator-id-62\" type=\"checkbox\" checked><label for=\"sk-estimator-id-62\" class=\"sk-toggleable__label sk-toggleable__label-arrow\">SVC</label><div class=\"sk-toggleable__content\"><pre>SVC(C=1, gamma=2, kernel=&#x27;linear&#x27;)</pre></div></div></div></div></div>"
      ],
      "text/plain": [
       "SVC(C=1, gamma=2, kernel='linear')"
      ]
     },
     "execution_count": 612,
     "metadata": {},
     "output_type": "execute_result"
    }
   ],
   "source": [
    "\n",
    "svm_linear.fit(X_Train_features,Y_Train_labels)"
   ]
  },
  {
   "cell_type": "code",
   "execution_count": 613,
   "metadata": {},
   "outputs": [],
   "source": [
    "svm_y_train_prediction = svm_linear.predict(X_Train_features)\n",
    "svm_y_test_prediction = svm_linear.predict(X_Test_features)"
   ]
  },
  {
   "cell_type": "code",
   "execution_count": 614,
   "metadata": {},
   "outputs": [],
   "source": [
    "# Training set performance\n",
    "svm_linear_train_accuracy = accuracy_score(Y_Train_labels, svm_y_train_prediction) # Calculate Accuracy\n",
    "svm_linear_train_mcc = matthews_corrcoef(Y_Train_labels, svm_y_train_prediction) # Calculate MCC\n",
    "svm_linear_train_f1 = f1_score(Y_Train_labels, svm_y_train_prediction, average='weighted') # Calculate F1-score\n",
    "\n",
    "# Test set performance\n",
    "svm_linear_test_accuracy = accuracy_score(Y_Test_labels, svm_y_test_prediction) # Calculate Accuracy\n",
    "svm_linear_test_mcc = matthews_corrcoef(Y_Test_labels, svm_y_test_prediction) # Calculate MCC\n",
    "svm_linear_test_f1 = f1_score(Y_Test_labels, svm_y_test_prediction, average='weighted') # Calculate F1-score\n"
   ]
  },
  {
   "cell_type": "code",
   "execution_count": 615,
   "metadata": {},
   "outputs": [
    {
     "name": "stdout",
     "output_type": "stream",
     "text": [
      "Model performance for Training set\n",
      "- Accuracy: 1.0\n",
      "- MCC: 1.0\n",
      "- F1 score: 1.0\n",
      "----------------------------------\n",
      "Model performance for Test set\n",
      "- Accuracy: 1.0\n",
      "- MCC: 1.0\n",
      "- F1 score: 1.0\n"
     ]
    }
   ],
   "source": [
    "print('Model performance for Training set')\n",
    "print('- Accuracy: %s' % svm_linear_train_accuracy)\n",
    "print('- MCC: %s' % svm_linear_train_mcc)\n",
    "print('- F1 score: %s' % svm_linear_train_f1)\n",
    "print('----------------------------------')\n",
    "print('Model performance for Test set')\n",
    "print('- Accuracy: %s' % svm_linear_test_accuracy)\n",
    "print('- MCC: %s' % svm_linear_test_mcc)\n",
    "print('- F1 score: %s' % svm_linear_test_f1)"
   ]
  },
  {
   "cell_type": "code",
   "execution_count": 616,
   "metadata": {},
   "outputs": [
    {
     "name": "stdout",
     "output_type": "stream",
     "text": [
      "[60, 60]\n",
      "[60, 60]\n"
     ]
    }
   ],
   "source": [
    "svm_large_normal_actual_and_predicted_ratio, svm_large_stagg_actual_and_predicted_ratio = fun.drawchart(Y_Test_labels,svm_y_test_prediction)\n",
    "print(svm_large_normal_actual_and_predicted_ratio)\n",
    "print(svm_large_stagg_actual_and_predicted_ratio)"
   ]
  },
  {
   "cell_type": "markdown",
   "metadata": {},
   "source": [
    "# small set"
   ]
  },
  {
   "cell_type": "code",
   "execution_count": 617,
   "metadata": {},
   "outputs": [],
   "source": [
    "svm_linear_small_set_prediction = svm_linear.predict(X_small_Features)"
   ]
  },
  {
   "cell_type": "code",
   "execution_count": 618,
   "metadata": {},
   "outputs": [],
   "source": [
    "svm_linear_small_accuracy = accuracy_score(Y_small_labels, svm_linear_small_set_prediction) # Calculate Accuracy\n",
    "svm_linear_small_mcc = matthews_corrcoef(Y_small_labels, svm_linear_small_set_prediction) # Calculate MCC\n",
    "svm_linear_small_f1 = f1_score(Y_small_labels, svm_linear_small_set_prediction, average='weighted') # Calculate F1-score\n"
   ]
  },
  {
   "cell_type": "code",
   "execution_count": 619,
   "metadata": {},
   "outputs": [
    {
     "name": "stdout",
     "output_type": "stream",
     "text": [
      "Model performance for Test set\n",
      "- Accuracy: 1.0\n",
      "- MCC: 1.0\n",
      "- F1 score: 1.0\n"
     ]
    }
   ],
   "source": [
    "print('Model performance for Test set')\n",
    "print('- Accuracy: %s' % svm_linear_small_accuracy)\n",
    "print('- MCC: %s' % svm_linear_small_mcc)\n",
    "print('- F1 score: %s' % svm_linear_small_f1)"
   ]
  },
  {
   "cell_type": "code",
   "execution_count": 620,
   "metadata": {},
   "outputs": [
    {
     "name": "stdout",
     "output_type": "stream",
     "text": [
      "[60, 60]\n",
      "[60, 60]\n"
     ]
    }
   ],
   "source": [
    "svm_small_normal_actual_and_predicted_ratio, svm_small_stagg_actual_and_predicted_ratio = fun.drawchart(Y_small_labels,svm_linear_small_set_prediction)\n",
    "print(svm_small_normal_actual_and_predicted_ratio)\n",
    "print(svm_small_stagg_actual_and_predicted_ratio)"
   ]
  },
  {
   "cell_type": "markdown",
   "metadata": {},
   "source": [
    "# mid set "
   ]
  },
  {
   "cell_type": "code",
   "execution_count": 621,
   "metadata": {},
   "outputs": [],
   "source": [
    "svm_linear_mid_prediction = svm_linear.predict(X_mid_Features)"
   ]
  },
  {
   "cell_type": "code",
   "execution_count": 622,
   "metadata": {},
   "outputs": [],
   "source": [
    "svm_mid_accuracy = accuracy_score(Y_mid_labels,svm_linear_mid_prediction)\n",
    "svm_mid_mcc = matthews_corrcoef(Y_mid_labels,svm_linear_mid_prediction)\n",
    "svm_mid_f1 = f1_score(Y_mid_labels,svm_linear_mid_prediction, average='weighted')"
   ]
  },
  {
   "cell_type": "code",
   "execution_count": 623,
   "metadata": {},
   "outputs": [
    {
     "name": "stdout",
     "output_type": "stream",
     "text": [
      "Model performance for mid Test set\n",
      "- Accuracy: 1.0\n",
      "- MCC: 1.0\n",
      "- F1 score: 1.0\n"
     ]
    }
   ],
   "source": [
    "print('Model performance for mid Test set')\n",
    "print('- Accuracy: %s' % svm_mid_accuracy)\n",
    "print('- MCC: %s' % svm_mid_mcc)\n",
    "print('- F1 score: %s' % svm_mid_f1)"
   ]
  },
  {
   "cell_type": "code",
   "execution_count": 624,
   "metadata": {},
   "outputs": [
    {
     "name": "stdout",
     "output_type": "stream",
     "text": [
      "[60, 60]\n",
      "[60, 60]\n"
     ]
    }
   ],
   "source": [
    "svm_mid_normal_actual_and_predicted_ratio, svm_mid_stagg_actual_and_predicted_ratio = fun.drawchart(Y_mid_labels,svm_linear_mid_prediction)\n",
    "print(svm_mid_normal_actual_and_predicted_ratio)\n",
    "print(svm_mid_stagg_actual_and_predicted_ratio)"
   ]
  },
  {
   "cell_type": "markdown",
   "metadata": {},
   "source": [
    "# decision tree"
   ]
  },
  {
   "cell_type": "code",
   "execution_count": 625,
   "metadata": {},
   "outputs": [],
   "source": [
    "dt = DecisionTreeClassifier(max_depth=5)\n"
   ]
  },
  {
   "cell_type": "code",
   "execution_count": 626,
   "metadata": {},
   "outputs": [
    {
     "data": {
      "text/html": [
       "<style>#sk-container-id-33 {color: black;background-color: white;}#sk-container-id-33 pre{padding: 0;}#sk-container-id-33 div.sk-toggleable {background-color: white;}#sk-container-id-33 label.sk-toggleable__label {cursor: pointer;display: block;width: 100%;margin-bottom: 0;padding: 0.3em;box-sizing: border-box;text-align: center;}#sk-container-id-33 label.sk-toggleable__label-arrow:before {content: \"▸\";float: left;margin-right: 0.25em;color: #696969;}#sk-container-id-33 label.sk-toggleable__label-arrow:hover:before {color: black;}#sk-container-id-33 div.sk-estimator:hover label.sk-toggleable__label-arrow:before {color: black;}#sk-container-id-33 div.sk-toggleable__content {max-height: 0;max-width: 0;overflow: hidden;text-align: left;background-color: #f0f8ff;}#sk-container-id-33 div.sk-toggleable__content pre {margin: 0.2em;color: black;border-radius: 0.25em;background-color: #f0f8ff;}#sk-container-id-33 input.sk-toggleable__control:checked~div.sk-toggleable__content {max-height: 200px;max-width: 100%;overflow: auto;}#sk-container-id-33 input.sk-toggleable__control:checked~label.sk-toggleable__label-arrow:before {content: \"▾\";}#sk-container-id-33 div.sk-estimator input.sk-toggleable__control:checked~label.sk-toggleable__label {background-color: #d4ebff;}#sk-container-id-33 div.sk-label input.sk-toggleable__control:checked~label.sk-toggleable__label {background-color: #d4ebff;}#sk-container-id-33 input.sk-hidden--visually {border: 0;clip: rect(1px 1px 1px 1px);clip: rect(1px, 1px, 1px, 1px);height: 1px;margin: -1px;overflow: hidden;padding: 0;position: absolute;width: 1px;}#sk-container-id-33 div.sk-estimator {font-family: monospace;background-color: #f0f8ff;border: 1px dotted black;border-radius: 0.25em;box-sizing: border-box;margin-bottom: 0.5em;}#sk-container-id-33 div.sk-estimator:hover {background-color: #d4ebff;}#sk-container-id-33 div.sk-parallel-item::after {content: \"\";width: 100%;border-bottom: 1px solid gray;flex-grow: 1;}#sk-container-id-33 div.sk-label:hover label.sk-toggleable__label {background-color: #d4ebff;}#sk-container-id-33 div.sk-serial::before {content: \"\";position: absolute;border-left: 1px solid gray;box-sizing: border-box;top: 0;bottom: 0;left: 50%;z-index: 0;}#sk-container-id-33 div.sk-serial {display: flex;flex-direction: column;align-items: center;background-color: white;padding-right: 0.2em;padding-left: 0.2em;position: relative;}#sk-container-id-33 div.sk-item {position: relative;z-index: 1;}#sk-container-id-33 div.sk-parallel {display: flex;align-items: stretch;justify-content: center;background-color: white;position: relative;}#sk-container-id-33 div.sk-item::before, #sk-container-id-33 div.sk-parallel-item::before {content: \"\";position: absolute;border-left: 1px solid gray;box-sizing: border-box;top: 0;bottom: 0;left: 50%;z-index: -1;}#sk-container-id-33 div.sk-parallel-item {display: flex;flex-direction: column;z-index: 1;position: relative;background-color: white;}#sk-container-id-33 div.sk-parallel-item:first-child::after {align-self: flex-end;width: 50%;}#sk-container-id-33 div.sk-parallel-item:last-child::after {align-self: flex-start;width: 50%;}#sk-container-id-33 div.sk-parallel-item:only-child::after {width: 0;}#sk-container-id-33 div.sk-dashed-wrapped {border: 1px dashed gray;margin: 0 0.4em 0.5em 0.4em;box-sizing: border-box;padding-bottom: 0.4em;background-color: white;}#sk-container-id-33 div.sk-label label {font-family: monospace;font-weight: bold;display: inline-block;line-height: 1.2em;}#sk-container-id-33 div.sk-label-container {text-align: center;}#sk-container-id-33 div.sk-container {/* jupyter's `normalize.less` sets `[hidden] { display: none; }` but bootstrap.min.css set `[hidden] { display: none !important; }` so we also need the `!important` here to be able to override the default hidden behavior on the sphinx rendered scikit-learn.org. See: https://github.com/scikit-learn/scikit-learn/issues/21755 */display: inline-block !important;position: relative;}#sk-container-id-33 div.sk-text-repr-fallback {display: none;}</style><div id=\"sk-container-id-33\" class=\"sk-top-container\"><div class=\"sk-text-repr-fallback\"><pre>DecisionTreeClassifier(max_depth=5)</pre><b>In a Jupyter environment, please rerun this cell to show the HTML representation or trust the notebook. <br />On GitHub, the HTML representation is unable to render, please try loading this page with nbviewer.org.</b></div><div class=\"sk-container\" hidden><div class=\"sk-item\"><div class=\"sk-estimator sk-toggleable\"><input class=\"sk-toggleable__control sk-hidden--visually\" id=\"sk-estimator-id-63\" type=\"checkbox\" checked><label for=\"sk-estimator-id-63\" class=\"sk-toggleable__label sk-toggleable__label-arrow\">DecisionTreeClassifier</label><div class=\"sk-toggleable__content\"><pre>DecisionTreeClassifier(max_depth=5)</pre></div></div></div></div></div>"
      ],
      "text/plain": [
       "DecisionTreeClassifier(max_depth=5)"
      ]
     },
     "execution_count": 626,
     "metadata": {},
     "output_type": "execute_result"
    }
   ],
   "source": [
    "dt.fit(X_Train_features,Y_Train_labels)"
   ]
  },
  {
   "cell_type": "code",
   "execution_count": 627,
   "metadata": {},
   "outputs": [],
   "source": [
    "\n",
    "dt_train_predicition = dt.predict(X_Train_features)\n",
    "dt_test_prediction = dt.predict(X_Test_features)"
   ]
  },
  {
   "cell_type": "code",
   "execution_count": 628,
   "metadata": {},
   "outputs": [],
   "source": [
    "#training set performance\n",
    "dt_train_accuracy = accuracy_score(Y_Train_labels,dt_train_predicition)\n",
    "dt_train_mcc = matthews_corrcoef(Y_Train_labels,dt_train_predicition)\n",
    "dt_train_f1 = f1_score(Y_Train_labels,dt_train_predicition,average='weighted')\n",
    "\n",
    "#Test set performace\n",
    "dt_test_accuracy = accuracy_score(Y_Test_labels,dt_test_prediction)\n",
    "dt_test_mcc = matthews_corrcoef(Y_Test_labels,dt_test_prediction)\n",
    "dt_test_f1 = f1_score(Y_Test_labels,dt_test_prediction,average='weighted')"
   ]
  },
  {
   "cell_type": "code",
   "execution_count": 629,
   "metadata": {},
   "outputs": [
    {
     "name": "stdout",
     "output_type": "stream",
     "text": [
      "Model performance for Training set\n",
      "- Accuracy: 1.0\n",
      "- MCC: 1.0\n",
      "- F1 score: 1.0\n",
      "----------------------------------\n",
      "Model performance for Test set\n",
      "- Accuracy: 0.9833333333333333\n",
      "- MCC: 0.9672041516493516\n",
      "- F1 score: 0.9833287024173382\n"
     ]
    }
   ],
   "source": [
    "print('Model performance for Training set')\n",
    "print('- Accuracy: %s' % dt_train_accuracy)\n",
    "print('- MCC: %s' % dt_train_mcc)\n",
    "print('- F1 score: %s' % dt_train_f1)\n",
    "print('----------------------------------')\n",
    "print('Model performance for Test set')\n",
    "print('- Accuracy: %s' % dt_test_accuracy)\n",
    "print('- MCC: %s' % dt_test_mcc)\n",
    "print('- F1 score: %s' % dt_test_f1)"
   ]
  },
  {
   "cell_type": "code",
   "execution_count": 630,
   "metadata": {},
   "outputs": [
    {
     "name": "stdout",
     "output_type": "stream",
     "text": [
      "[58, 60]\n",
      "[60, 60]\n"
     ]
    }
   ],
   "source": [
    "dt_large_normal_actual_and_predicted_ratio, dt_large_stagg_actual_and_predicted_ratio = fun.drawchart(Y_Test_labels,dt_test_prediction)\n",
    "print(dt_large_normal_actual_and_predicted_ratio)\n",
    "print(dt_large_stagg_actual_and_predicted_ratio)"
   ]
  },
  {
   "cell_type": "markdown",
   "metadata": {},
   "source": [
    "# mid set"
   ]
  },
  {
   "cell_type": "code",
   "execution_count": 631,
   "metadata": {},
   "outputs": [],
   "source": [
    "dt_mid_set_prediction = dt.predict(X_mid_Features)"
   ]
  },
  {
   "cell_type": "code",
   "execution_count": 632,
   "metadata": {},
   "outputs": [],
   "source": [
    "dt_mid_accuracy = accuracy_score(Y_mid_labels,dt_mid_set_prediction)\n",
    "dt_mid_mcc = matthews_corrcoef(Y_mid_labels,dt_mid_set_prediction)\n",
    "dt_mid_f1 = f1_score(Y_mid_labels,dt_mid_set_prediction,average='weighted')"
   ]
  },
  {
   "cell_type": "code",
   "execution_count": 633,
   "metadata": {},
   "outputs": [
    {
     "name": "stdout",
     "output_type": "stream",
     "text": [
      "Model performance for mid Test set\n",
      "- Accuracy: 1.0\n",
      "- MCC: 1.0\n",
      "- F1 score: 1.0\n"
     ]
    }
   ],
   "source": [
    "print('Model performance for mid Test set')\n",
    "print('- Accuracy: %s' % dt_mid_accuracy)\n",
    "print('- MCC: %s' % dt_mid_mcc)\n",
    "print('- F1 score: %s' % dt_mid_f1)"
   ]
  },
  {
   "cell_type": "code",
   "execution_count": 634,
   "metadata": {},
   "outputs": [
    {
     "name": "stdout",
     "output_type": "stream",
     "text": [
      "[60, 60]\n",
      "[60, 60]\n"
     ]
    }
   ],
   "source": [
    "dt_mid_normal_actual_and_predicted_ratio, dt_mid_stagg_actual_and_predicted_ratio = fun.drawchart(Y_mid_labels,dt_mid_set_prediction)\n",
    "print(dt_mid_normal_actual_and_predicted_ratio)\n",
    "print(dt_mid_stagg_actual_and_predicted_ratio)"
   ]
  },
  {
   "cell_type": "markdown",
   "metadata": {},
   "source": [
    "# small set"
   ]
  },
  {
   "cell_type": "code",
   "execution_count": 635,
   "metadata": {},
   "outputs": [],
   "source": [
    "dt_small_set_predicition = dt.predict(X_small_Features)"
   ]
  },
  {
   "cell_type": "code",
   "execution_count": 636,
   "metadata": {},
   "outputs": [],
   "source": [
    "dt_small_accuracy = accuracy_score(Y_small_labels,dt_small_set_predicition)\n",
    "dt_small_mcc = matthews_corrcoef(Y_small_labels,dt_small_set_predicition)\n",
    "dt_small_f1 = f1_score(Y_small_labels,dt_small_set_predicition,average='weighted')"
   ]
  },
  {
   "cell_type": "code",
   "execution_count": 637,
   "metadata": {},
   "outputs": [
    {
     "name": "stdout",
     "output_type": "stream",
     "text": [
      "Model performance for mid Test set\n",
      "- Accuracy: 1.0\n",
      "- MCC: 1.0\n",
      "- F1 score: 1.0\n"
     ]
    }
   ],
   "source": [
    "print('Model performance for mid Test set')\n",
    "print('- Accuracy: %s' % dt_small_accuracy)\n",
    "print('- MCC: %s' % dt_small_mcc)\n",
    "print('- F1 score: %s' % dt_small_f1)"
   ]
  },
  {
   "cell_type": "code",
   "execution_count": 638,
   "metadata": {},
   "outputs": [
    {
     "name": "stdout",
     "output_type": "stream",
     "text": [
      "[60, 60]\n",
      "[60, 60]\n"
     ]
    }
   ],
   "source": [
    "dt_small_normal_actual_and_predicted_ratio, dt_small_stagg_actual_and_predicted_ratio = fun.drawchart(Y_small_labels,dt_small_set_predicition)\n",
    "print(dt_small_normal_actual_and_predicted_ratio)\n",
    "print(dt_small_stagg_actual_and_predicted_ratio)"
   ]
  },
  {
   "cell_type": "markdown",
   "metadata": {},
   "source": [
    "# random forest "
   ]
  },
  {
   "cell_type": "code",
   "execution_count": 639,
   "metadata": {},
   "outputs": [],
   "source": [
    "rf = RandomForestClassifier(n_estimators=10)"
   ]
  },
  {
   "cell_type": "code",
   "execution_count": 640,
   "metadata": {},
   "outputs": [
    {
     "data": {
      "text/html": [
       "<style>#sk-container-id-34 {color: black;background-color: white;}#sk-container-id-34 pre{padding: 0;}#sk-container-id-34 div.sk-toggleable {background-color: white;}#sk-container-id-34 label.sk-toggleable__label {cursor: pointer;display: block;width: 100%;margin-bottom: 0;padding: 0.3em;box-sizing: border-box;text-align: center;}#sk-container-id-34 label.sk-toggleable__label-arrow:before {content: \"▸\";float: left;margin-right: 0.25em;color: #696969;}#sk-container-id-34 label.sk-toggleable__label-arrow:hover:before {color: black;}#sk-container-id-34 div.sk-estimator:hover label.sk-toggleable__label-arrow:before {color: black;}#sk-container-id-34 div.sk-toggleable__content {max-height: 0;max-width: 0;overflow: hidden;text-align: left;background-color: #f0f8ff;}#sk-container-id-34 div.sk-toggleable__content pre {margin: 0.2em;color: black;border-radius: 0.25em;background-color: #f0f8ff;}#sk-container-id-34 input.sk-toggleable__control:checked~div.sk-toggleable__content {max-height: 200px;max-width: 100%;overflow: auto;}#sk-container-id-34 input.sk-toggleable__control:checked~label.sk-toggleable__label-arrow:before {content: \"▾\";}#sk-container-id-34 div.sk-estimator input.sk-toggleable__control:checked~label.sk-toggleable__label {background-color: #d4ebff;}#sk-container-id-34 div.sk-label input.sk-toggleable__control:checked~label.sk-toggleable__label {background-color: #d4ebff;}#sk-container-id-34 input.sk-hidden--visually {border: 0;clip: rect(1px 1px 1px 1px);clip: rect(1px, 1px, 1px, 1px);height: 1px;margin: -1px;overflow: hidden;padding: 0;position: absolute;width: 1px;}#sk-container-id-34 div.sk-estimator {font-family: monospace;background-color: #f0f8ff;border: 1px dotted black;border-radius: 0.25em;box-sizing: border-box;margin-bottom: 0.5em;}#sk-container-id-34 div.sk-estimator:hover {background-color: #d4ebff;}#sk-container-id-34 div.sk-parallel-item::after {content: \"\";width: 100%;border-bottom: 1px solid gray;flex-grow: 1;}#sk-container-id-34 div.sk-label:hover label.sk-toggleable__label {background-color: #d4ebff;}#sk-container-id-34 div.sk-serial::before {content: \"\";position: absolute;border-left: 1px solid gray;box-sizing: border-box;top: 0;bottom: 0;left: 50%;z-index: 0;}#sk-container-id-34 div.sk-serial {display: flex;flex-direction: column;align-items: center;background-color: white;padding-right: 0.2em;padding-left: 0.2em;position: relative;}#sk-container-id-34 div.sk-item {position: relative;z-index: 1;}#sk-container-id-34 div.sk-parallel {display: flex;align-items: stretch;justify-content: center;background-color: white;position: relative;}#sk-container-id-34 div.sk-item::before, #sk-container-id-34 div.sk-parallel-item::before {content: \"\";position: absolute;border-left: 1px solid gray;box-sizing: border-box;top: 0;bottom: 0;left: 50%;z-index: -1;}#sk-container-id-34 div.sk-parallel-item {display: flex;flex-direction: column;z-index: 1;position: relative;background-color: white;}#sk-container-id-34 div.sk-parallel-item:first-child::after {align-self: flex-end;width: 50%;}#sk-container-id-34 div.sk-parallel-item:last-child::after {align-self: flex-start;width: 50%;}#sk-container-id-34 div.sk-parallel-item:only-child::after {width: 0;}#sk-container-id-34 div.sk-dashed-wrapped {border: 1px dashed gray;margin: 0 0.4em 0.5em 0.4em;box-sizing: border-box;padding-bottom: 0.4em;background-color: white;}#sk-container-id-34 div.sk-label label {font-family: monospace;font-weight: bold;display: inline-block;line-height: 1.2em;}#sk-container-id-34 div.sk-label-container {text-align: center;}#sk-container-id-34 div.sk-container {/* jupyter's `normalize.less` sets `[hidden] { display: none; }` but bootstrap.min.css set `[hidden] { display: none !important; }` so we also need the `!important` here to be able to override the default hidden behavior on the sphinx rendered scikit-learn.org. See: https://github.com/scikit-learn/scikit-learn/issues/21755 */display: inline-block !important;position: relative;}#sk-container-id-34 div.sk-text-repr-fallback {display: none;}</style><div id=\"sk-container-id-34\" class=\"sk-top-container\"><div class=\"sk-text-repr-fallback\"><pre>RandomForestClassifier(n_estimators=10)</pre><b>In a Jupyter environment, please rerun this cell to show the HTML representation or trust the notebook. <br />On GitHub, the HTML representation is unable to render, please try loading this page with nbviewer.org.</b></div><div class=\"sk-container\" hidden><div class=\"sk-item\"><div class=\"sk-estimator sk-toggleable\"><input class=\"sk-toggleable__control sk-hidden--visually\" id=\"sk-estimator-id-64\" type=\"checkbox\" checked><label for=\"sk-estimator-id-64\" class=\"sk-toggleable__label sk-toggleable__label-arrow\">RandomForestClassifier</label><div class=\"sk-toggleable__content\"><pre>RandomForestClassifier(n_estimators=10)</pre></div></div></div></div></div>"
      ],
      "text/plain": [
       "RandomForestClassifier(n_estimators=10)"
      ]
     },
     "execution_count": 640,
     "metadata": {},
     "output_type": "execute_result"
    }
   ],
   "source": [
    "rf.fit(X_Train_features,Y_Train_labels)"
   ]
  },
  {
   "cell_type": "code",
   "execution_count": 641,
   "metadata": {},
   "outputs": [],
   "source": [
    "rf_train_prediction = rf.predict(X_Train_features)\n",
    "rf_test_predition = rf.predict(X_Test_features)\n"
   ]
  },
  {
   "cell_type": "code",
   "execution_count": 642,
   "metadata": {},
   "outputs": [],
   "source": [
    "#training set performace\n",
    "rf_train_accuracy = accuracy_score(Y_Train_labels,rf_train_prediction)\n",
    "rf_train_mcc = matthews_corrcoef(Y_Train_labels,rf_train_prediction)\n",
    "rf_train_f1 = f1_score(Y_Train_labels,rf_train_prediction,average='weighted')\n",
    "\n",
    "#test set performace\n",
    "rf_test_accuracy = accuracy_score(Y_Test_labels,rf_test_predition) \n",
    "rf_test_mcc = matthews_corrcoef(Y_Test_labels,rf_test_predition)\n",
    "rf_test_f1 = f1_score(Y_Test_labels,rf_test_predition, average='weighted')\n"
   ]
  },
  {
   "cell_type": "code",
   "execution_count": 643,
   "metadata": {},
   "outputs": [
    {
     "name": "stdout",
     "output_type": "stream",
     "text": [
      "Model performance for Training set\n",
      "- Accuracy: 1.0\n",
      "- MCC: 1.0\n",
      "- F1 score: 1.0\n",
      "----------------------------------\n",
      "Model performance for Test set\n",
      "- Accuracy: 1.0\n",
      "- MCC: 1.0\n",
      "- F1 score: 1.0\n"
     ]
    }
   ],
   "source": [
    "print('Model performance for Training set')\n",
    "print('- Accuracy: %s' % rf_train_accuracy)\n",
    "print('- MCC: %s' % rf_train_mcc)\n",
    "print('- F1 score: %s' % rf_train_f1)\n",
    "print('----------------------------------')\n",
    "print('Model performance for Test set')\n",
    "print('- Accuracy: %s' % rf_test_accuracy)\n",
    "print('- MCC: %s' % rf_test_mcc)\n",
    "print('- F1 score: %s' % rf_test_f1)"
   ]
  },
  {
   "cell_type": "code",
   "execution_count": 644,
   "metadata": {},
   "outputs": [
    {
     "name": "stdout",
     "output_type": "stream",
     "text": [
      "[60, 60]\n",
      "[60, 60]\n"
     ]
    }
   ],
   "source": [
    "rf_large_normal_actual_and_predicted_ratio, rf_large_stagg_actual_and_predicted_ratio = fun.drawchart(Y_Test_labels,rf_test_predition)\n",
    "print(rf_large_normal_actual_and_predicted_ratio)\n",
    "print(rf_large_stagg_actual_and_predicted_ratio)"
   ]
  },
  {
   "cell_type": "markdown",
   "metadata": {},
   "source": [
    "# mid set"
   ]
  },
  {
   "cell_type": "code",
   "execution_count": 645,
   "metadata": {},
   "outputs": [],
   "source": [
    "rf_mid_set_prediciton = rf.predict(X_mid_Features)"
   ]
  },
  {
   "cell_type": "code",
   "execution_count": 646,
   "metadata": {},
   "outputs": [],
   "source": [
    "rf_mid_accuracy = accuracy_score(Y_mid_labels,rf_mid_set_prediciton) \n",
    "rf_mid_mcc = matthews_corrcoef(Y_mid_labels,rf_mid_set_prediciton)\n",
    "rf_mid_f1 = f1_score(Y_mid_labels,rf_mid_set_prediciton,average='weighted')"
   ]
  },
  {
   "cell_type": "code",
   "execution_count": 647,
   "metadata": {},
   "outputs": [
    {
     "name": "stdout",
     "output_type": "stream",
     "text": [
      "Model performance for mid Test set\n",
      "- Accuracy: 1.0\n",
      "- MCC: 1.0\n",
      "- F1 score: 1.0\n"
     ]
    }
   ],
   "source": [
    "print('Model performance for mid Test set')\n",
    "print('- Accuracy: %s' % rf_mid_accuracy)\n",
    "print('- MCC: %s' % rf_mid_mcc)\n",
    "print('- F1 score: %s' % rf_mid_f1)"
   ]
  },
  {
   "cell_type": "code",
   "execution_count": 648,
   "metadata": {},
   "outputs": [
    {
     "name": "stdout",
     "output_type": "stream",
     "text": [
      "[60, 60]\n",
      "[60, 60]\n"
     ]
    }
   ],
   "source": [
    "\n",
    "rf_mid_normal_actual_and_predicted_ratio, rf_mid_stagg_actual_and_predicted_ratio = fun.drawchart(Y_mid_labels,rf_mid_set_prediciton)\n",
    "print(rf_large_normal_actual_and_predicted_ratio)\n",
    "print(rf_large_stagg_actual_and_predicted_ratio)"
   ]
  },
  {
   "cell_type": "markdown",
   "metadata": {},
   "source": [
    "# small set\n"
   ]
  },
  {
   "cell_type": "code",
   "execution_count": 649,
   "metadata": {},
   "outputs": [],
   "source": [
    "rf_small_set_prediciton = rf.predict(X_small_Features)"
   ]
  },
  {
   "cell_type": "code",
   "execution_count": 650,
   "metadata": {},
   "outputs": [],
   "source": [
    "rf_small_accuracy = accuracy_score(Y_small_labels,rf_small_set_prediciton) \n",
    "rf_small_mcc = matthews_corrcoef(Y_small_labels,rf_small_set_prediciton)\n",
    "rf_small_f1 = f1_score(Y_small_labels,rf_small_set_prediciton,average='weighted')"
   ]
  },
  {
   "cell_type": "code",
   "execution_count": 651,
   "metadata": {},
   "outputs": [
    {
     "name": "stdout",
     "output_type": "stream",
     "text": [
      "Model performance for mid Test set\n",
      "- Accuracy: 1.0\n",
      "- MCC: 1.0\n",
      "- F1 score: 1.0\n"
     ]
    }
   ],
   "source": [
    "print('Model performance for mid Test set')\n",
    "print('- Accuracy: %s' % rf_small_accuracy)\n",
    "print('- MCC: %s' % rf_small_mcc)\n",
    "print('- F1 score: %s' % rf_small_f1)"
   ]
  },
  {
   "cell_type": "code",
   "execution_count": 652,
   "metadata": {},
   "outputs": [
    {
     "name": "stdout",
     "output_type": "stream",
     "text": [
      "[60, 60]\n",
      "[60, 60]\n"
     ]
    }
   ],
   "source": [
    "\n",
    "rf_small_normal_actual_and_predicted_ratio, rf_small_stagg_actual_and_predicted_ratio = fun.drawchart(Y_small_labels,rf_small_set_prediciton)\n",
    "print(rf_small_normal_actual_and_predicted_ratio)\n",
    "print(rf_small_stagg_actual_and_predicted_ratio)"
   ]
  },
  {
   "cell_type": "markdown",
   "metadata": {},
   "source": [
    "# mlp"
   ]
  },
  {
   "cell_type": "code",
   "execution_count": 653,
   "metadata": {},
   "outputs": [],
   "source": [
    "mlp = MLPClassifier(hidden_layer_sizes=(512),activation='relu',solver='adam')"
   ]
  },
  {
   "cell_type": "code",
   "execution_count": 654,
   "metadata": {},
   "outputs": [
    {
     "data": {
      "text/html": [
       "<style>#sk-container-id-35 {color: black;background-color: white;}#sk-container-id-35 pre{padding: 0;}#sk-container-id-35 div.sk-toggleable {background-color: white;}#sk-container-id-35 label.sk-toggleable__label {cursor: pointer;display: block;width: 100%;margin-bottom: 0;padding: 0.3em;box-sizing: border-box;text-align: center;}#sk-container-id-35 label.sk-toggleable__label-arrow:before {content: \"▸\";float: left;margin-right: 0.25em;color: #696969;}#sk-container-id-35 label.sk-toggleable__label-arrow:hover:before {color: black;}#sk-container-id-35 div.sk-estimator:hover label.sk-toggleable__label-arrow:before {color: black;}#sk-container-id-35 div.sk-toggleable__content {max-height: 0;max-width: 0;overflow: hidden;text-align: left;background-color: #f0f8ff;}#sk-container-id-35 div.sk-toggleable__content pre {margin: 0.2em;color: black;border-radius: 0.25em;background-color: #f0f8ff;}#sk-container-id-35 input.sk-toggleable__control:checked~div.sk-toggleable__content {max-height: 200px;max-width: 100%;overflow: auto;}#sk-container-id-35 input.sk-toggleable__control:checked~label.sk-toggleable__label-arrow:before {content: \"▾\";}#sk-container-id-35 div.sk-estimator input.sk-toggleable__control:checked~label.sk-toggleable__label {background-color: #d4ebff;}#sk-container-id-35 div.sk-label input.sk-toggleable__control:checked~label.sk-toggleable__label {background-color: #d4ebff;}#sk-container-id-35 input.sk-hidden--visually {border: 0;clip: rect(1px 1px 1px 1px);clip: rect(1px, 1px, 1px, 1px);height: 1px;margin: -1px;overflow: hidden;padding: 0;position: absolute;width: 1px;}#sk-container-id-35 div.sk-estimator {font-family: monospace;background-color: #f0f8ff;border: 1px dotted black;border-radius: 0.25em;box-sizing: border-box;margin-bottom: 0.5em;}#sk-container-id-35 div.sk-estimator:hover {background-color: #d4ebff;}#sk-container-id-35 div.sk-parallel-item::after {content: \"\";width: 100%;border-bottom: 1px solid gray;flex-grow: 1;}#sk-container-id-35 div.sk-label:hover label.sk-toggleable__label {background-color: #d4ebff;}#sk-container-id-35 div.sk-serial::before {content: \"\";position: absolute;border-left: 1px solid gray;box-sizing: border-box;top: 0;bottom: 0;left: 50%;z-index: 0;}#sk-container-id-35 div.sk-serial {display: flex;flex-direction: column;align-items: center;background-color: white;padding-right: 0.2em;padding-left: 0.2em;position: relative;}#sk-container-id-35 div.sk-item {position: relative;z-index: 1;}#sk-container-id-35 div.sk-parallel {display: flex;align-items: stretch;justify-content: center;background-color: white;position: relative;}#sk-container-id-35 div.sk-item::before, #sk-container-id-35 div.sk-parallel-item::before {content: \"\";position: absolute;border-left: 1px solid gray;box-sizing: border-box;top: 0;bottom: 0;left: 50%;z-index: -1;}#sk-container-id-35 div.sk-parallel-item {display: flex;flex-direction: column;z-index: 1;position: relative;background-color: white;}#sk-container-id-35 div.sk-parallel-item:first-child::after {align-self: flex-end;width: 50%;}#sk-container-id-35 div.sk-parallel-item:last-child::after {align-self: flex-start;width: 50%;}#sk-container-id-35 div.sk-parallel-item:only-child::after {width: 0;}#sk-container-id-35 div.sk-dashed-wrapped {border: 1px dashed gray;margin: 0 0.4em 0.5em 0.4em;box-sizing: border-box;padding-bottom: 0.4em;background-color: white;}#sk-container-id-35 div.sk-label label {font-family: monospace;font-weight: bold;display: inline-block;line-height: 1.2em;}#sk-container-id-35 div.sk-label-container {text-align: center;}#sk-container-id-35 div.sk-container {/* jupyter's `normalize.less` sets `[hidden] { display: none; }` but bootstrap.min.css set `[hidden] { display: none !important; }` so we also need the `!important` here to be able to override the default hidden behavior on the sphinx rendered scikit-learn.org. See: https://github.com/scikit-learn/scikit-learn/issues/21755 */display: inline-block !important;position: relative;}#sk-container-id-35 div.sk-text-repr-fallback {display: none;}</style><div id=\"sk-container-id-35\" class=\"sk-top-container\"><div class=\"sk-text-repr-fallback\"><pre>MLPClassifier(hidden_layer_sizes=512)</pre><b>In a Jupyter environment, please rerun this cell to show the HTML representation or trust the notebook. <br />On GitHub, the HTML representation is unable to render, please try loading this page with nbviewer.org.</b></div><div class=\"sk-container\" hidden><div class=\"sk-item\"><div class=\"sk-estimator sk-toggleable\"><input class=\"sk-toggleable__control sk-hidden--visually\" id=\"sk-estimator-id-65\" type=\"checkbox\" checked><label for=\"sk-estimator-id-65\" class=\"sk-toggleable__label sk-toggleable__label-arrow\">MLPClassifier</label><div class=\"sk-toggleable__content\"><pre>MLPClassifier(hidden_layer_sizes=512)</pre></div></div></div></div></div>"
      ],
      "text/plain": [
       "MLPClassifier(hidden_layer_sizes=512)"
      ]
     },
     "execution_count": 654,
     "metadata": {},
     "output_type": "execute_result"
    }
   ],
   "source": [
    "mlp.fit(X_Train_features,Y_Train_labels)"
   ]
  },
  {
   "cell_type": "code",
   "execution_count": 655,
   "metadata": {},
   "outputs": [],
   "source": [
    "y_train_prediction = mlp.predict(X_Train_features)\n",
    "y_test_prediction = mlp.predict(X_Test_features)"
   ]
  },
  {
   "cell_type": "code",
   "execution_count": 656,
   "metadata": {},
   "outputs": [
    {
     "name": "stdout",
     "output_type": "stream",
     "text": [
      "Model performance for Training set\n",
      "- Accuracy: 1.0\n",
      "- MCC: 1.0\n",
      "- F1 score: 1.0\n",
      "----------------------------------\n",
      "Model performance for Test set\n",
      "- Accuracy: 1.0\n",
      "- MCC: 1.0\n",
      "- F1 score: 1.0\n"
     ]
    }
   ],
   "source": [
    "# Training set performance\n",
    "mlp_train_accuracy = accuracy_score(Y_Train_labels, y_train_prediction) # Calculate Accuracy\n",
    "mlp_train_mcc = matthews_corrcoef(Y_Train_labels, y_train_prediction) # Calculate MCC\n",
    "mlp_train_f1 = f1_score(Y_Train_labels, y_train_prediction, average='weighted') # Calculate F1-score\n",
    "\n",
    "# Test set performance\n",
    "mlp_test_accuracy = accuracy_score(Y_Test_labels, y_test_prediction) # Calculate Accuracy\n",
    "mlp_test_mcc = matthews_corrcoef(Y_Test_labels, y_test_prediction) # Calculate MCC\n",
    "mlp_test_f1 = f1_score(Y_Test_labels, y_test_prediction, average='weighted') # Calculate F1-score\n",
    "\n",
    "print('Model performance for Training set')\n",
    "print('- Accuracy: %s' % mlp_train_accuracy)\n",
    "print('- MCC: %s' % mlp_train_mcc)\n",
    "print('- F1 score: %s' % mlp_train_f1)\n",
    "print('----------------------------------')\n",
    "print('Model performance for Test set')\n",
    "print('- Accuracy: %s' % mlp_test_accuracy)\n",
    "print('- MCC: %s' % mlp_test_mcc)\n",
    "print('- F1 score: %s' % mlp_test_f1)"
   ]
  },
  {
   "cell_type": "code",
   "execution_count": 657,
   "metadata": {},
   "outputs": [
    {
     "name": "stdout",
     "output_type": "stream",
     "text": [
      "[60, 60]\n",
      "[60, 60]\n"
     ]
    }
   ],
   "source": [
    "\n",
    "mlp_large_normal_actual_and_predicted_ratio, mlp_large_stagg_actual_and_predicted_ratio = fun.drawchart(Y_Test_labels,y_test_prediction)\n",
    "print(mlp_large_normal_actual_and_predicted_ratio)\n",
    "print(mlp_large_stagg_actual_and_predicted_ratio)"
   ]
  },
  {
   "cell_type": "markdown",
   "metadata": {},
   "source": [
    "# mid testing"
   ]
  },
  {
   "cell_type": "code",
   "execution_count": 658,
   "metadata": {},
   "outputs": [],
   "source": [
    "mlp_mid_prediction = mlp.predict(X_mid_Features)\n"
   ]
  },
  {
   "cell_type": "code",
   "execution_count": 659,
   "metadata": {},
   "outputs": [],
   "source": [
    "# Test set performance\n",
    "mlp_mid_accuracy = accuracy_score(Y_mid_labels, mlp_mid_prediction) # Calculate Accuracy\n",
    "mlp_mid_mcc = matthews_corrcoef(Y_mid_labels, mlp_mid_prediction) # Calculate MCC\n",
    "mlp_mid_f1 = f1_score(Y_mid_labels, mlp_mid_prediction, average='weighted') # Calculate F1-score\n"
   ]
  },
  {
   "cell_type": "code",
   "execution_count": 660,
   "metadata": {},
   "outputs": [
    {
     "name": "stdout",
     "output_type": "stream",
     "text": [
      "----------------------------------\n",
      "Model performance for Test set\n",
      "- Accuracy: 1.0\n",
      "- MCC: 1.0\n",
      "- F1 score: 1.0\n"
     ]
    }
   ],
   "source": [
    "print('----------------------------------')\n",
    "print('Model performance for Test set')\n",
    "print('- Accuracy: %s' % mlp_mid_accuracy)\n",
    "print('- MCC: %s' % mlp_mid_mcc)\n",
    "print('- F1 score: %s' % mlp_mid_f1)"
   ]
  },
  {
   "cell_type": "code",
   "execution_count": 661,
   "metadata": {},
   "outputs": [
    {
     "name": "stdout",
     "output_type": "stream",
     "text": [
      "[60, 60]\n",
      "[60, 60]\n"
     ]
    }
   ],
   "source": [
    "\n",
    "mlp_mid_normal_actual_and_predicted_ratio, mlp_mid_stagg_actual_and_predicted_ratio = fun.drawchart(Y_mid_labels,mlp_mid_prediction)\n",
    "print(mlp_mid_normal_actual_and_predicted_ratio)\n",
    "print(mlp_mid_stagg_actual_and_predicted_ratio)"
   ]
  },
  {
   "cell_type": "markdown",
   "metadata": {},
   "source": [
    "# small test"
   ]
  },
  {
   "cell_type": "code",
   "execution_count": 662,
   "metadata": {},
   "outputs": [],
   "source": [
    "mlp_small_prediction = mlp.predict(X_small_Features)\n"
   ]
  },
  {
   "cell_type": "code",
   "execution_count": 663,
   "metadata": {},
   "outputs": [],
   "source": [
    "# Test set performance\n",
    "mlp_small_accuracy = accuracy_score(Y_small_labels, mlp_small_prediction) # Calculate Accuracy\n",
    "mlp_small_mcc = matthews_corrcoef(Y_small_labels, mlp_small_prediction) # Calculate MCC\n",
    "mlp_small_f1 = f1_score(Y_small_labels, mlp_small_prediction, average='weighted') # Calculate F1-score"
   ]
  },
  {
   "cell_type": "code",
   "execution_count": 664,
   "metadata": {},
   "outputs": [
    {
     "name": "stdout",
     "output_type": "stream",
     "text": [
      "----------------------------------\n",
      "Model performance for Test set\n",
      "- Accuracy: 1.0\n",
      "- MCC: 1.0\n",
      "- F1 score: 1.0\n"
     ]
    }
   ],
   "source": [
    "print('----------------------------------')\n",
    "print('Model performance for Test set')\n",
    "print('- Accuracy: %s' % mlp_small_accuracy)\n",
    "print('- MCC: %s' % mlp_small_mcc)\n",
    "print('- F1 score: %s' % mlp_small_f1)"
   ]
  },
  {
   "cell_type": "code",
   "execution_count": 665,
   "metadata": {},
   "outputs": [
    {
     "name": "stdout",
     "output_type": "stream",
     "text": [
      "[60, 60]\n",
      "[60, 60]\n"
     ]
    }
   ],
   "source": [
    "mlp_small_normal_actual_and_predicted_ratio, mlp_small_stagg_actual_and_predicted_ratio = fun.drawchart(Y_small_labels,mlp_small_prediction)\n",
    "print(mlp_small_normal_actual_and_predicted_ratio)\n",
    "print(mlp_small_stagg_actual_and_predicted_ratio)"
   ]
  },
  {
   "cell_type": "markdown",
   "metadata": {},
   "source": [
    "# Build Stacked Model"
   ]
  },
  {
   "cell_type": "code",
   "execution_count": 666,
   "metadata": {},
   "outputs": [],
   "source": [
    "estimator_list = [\n",
    "    ('knn',knn),\n",
    "    ('svm_linear',svm_linear),\n",
    "    ('dt',dt),\n",
    "    ('rf',rf),\n",
    "    ('mlp',mlp)\n",
    "]"
   ]
  },
  {
   "cell_type": "markdown",
   "metadata": {},
   "source": [
    "# Build stack model"
   ]
  },
  {
   "cell_type": "code",
   "execution_count": 667,
   "metadata": {},
   "outputs": [],
   "source": [
    "stack_model = StackingClassifier(\n",
    "    estimators=estimator_list, final_estimator=LogisticRegression()\n",
    ")"
   ]
  },
  {
   "cell_type": "code",
   "execution_count": 668,
   "metadata": {},
   "outputs": [
    {
     "data": {
      "text/html": [
       "<style>#sk-container-id-36 {color: black;background-color: white;}#sk-container-id-36 pre{padding: 0;}#sk-container-id-36 div.sk-toggleable {background-color: white;}#sk-container-id-36 label.sk-toggleable__label {cursor: pointer;display: block;width: 100%;margin-bottom: 0;padding: 0.3em;box-sizing: border-box;text-align: center;}#sk-container-id-36 label.sk-toggleable__label-arrow:before {content: \"▸\";float: left;margin-right: 0.25em;color: #696969;}#sk-container-id-36 label.sk-toggleable__label-arrow:hover:before {color: black;}#sk-container-id-36 div.sk-estimator:hover label.sk-toggleable__label-arrow:before {color: black;}#sk-container-id-36 div.sk-toggleable__content {max-height: 0;max-width: 0;overflow: hidden;text-align: left;background-color: #f0f8ff;}#sk-container-id-36 div.sk-toggleable__content pre {margin: 0.2em;color: black;border-radius: 0.25em;background-color: #f0f8ff;}#sk-container-id-36 input.sk-toggleable__control:checked~div.sk-toggleable__content {max-height: 200px;max-width: 100%;overflow: auto;}#sk-container-id-36 input.sk-toggleable__control:checked~label.sk-toggleable__label-arrow:before {content: \"▾\";}#sk-container-id-36 div.sk-estimator input.sk-toggleable__control:checked~label.sk-toggleable__label {background-color: #d4ebff;}#sk-container-id-36 div.sk-label input.sk-toggleable__control:checked~label.sk-toggleable__label {background-color: #d4ebff;}#sk-container-id-36 input.sk-hidden--visually {border: 0;clip: rect(1px 1px 1px 1px);clip: rect(1px, 1px, 1px, 1px);height: 1px;margin: -1px;overflow: hidden;padding: 0;position: absolute;width: 1px;}#sk-container-id-36 div.sk-estimator {font-family: monospace;background-color: #f0f8ff;border: 1px dotted black;border-radius: 0.25em;box-sizing: border-box;margin-bottom: 0.5em;}#sk-container-id-36 div.sk-estimator:hover {background-color: #d4ebff;}#sk-container-id-36 div.sk-parallel-item::after {content: \"\";width: 100%;border-bottom: 1px solid gray;flex-grow: 1;}#sk-container-id-36 div.sk-label:hover label.sk-toggleable__label {background-color: #d4ebff;}#sk-container-id-36 div.sk-serial::before {content: \"\";position: absolute;border-left: 1px solid gray;box-sizing: border-box;top: 0;bottom: 0;left: 50%;z-index: 0;}#sk-container-id-36 div.sk-serial {display: flex;flex-direction: column;align-items: center;background-color: white;padding-right: 0.2em;padding-left: 0.2em;position: relative;}#sk-container-id-36 div.sk-item {position: relative;z-index: 1;}#sk-container-id-36 div.sk-parallel {display: flex;align-items: stretch;justify-content: center;background-color: white;position: relative;}#sk-container-id-36 div.sk-item::before, #sk-container-id-36 div.sk-parallel-item::before {content: \"\";position: absolute;border-left: 1px solid gray;box-sizing: border-box;top: 0;bottom: 0;left: 50%;z-index: -1;}#sk-container-id-36 div.sk-parallel-item {display: flex;flex-direction: column;z-index: 1;position: relative;background-color: white;}#sk-container-id-36 div.sk-parallel-item:first-child::after {align-self: flex-end;width: 50%;}#sk-container-id-36 div.sk-parallel-item:last-child::after {align-self: flex-start;width: 50%;}#sk-container-id-36 div.sk-parallel-item:only-child::after {width: 0;}#sk-container-id-36 div.sk-dashed-wrapped {border: 1px dashed gray;margin: 0 0.4em 0.5em 0.4em;box-sizing: border-box;padding-bottom: 0.4em;background-color: white;}#sk-container-id-36 div.sk-label label {font-family: monospace;font-weight: bold;display: inline-block;line-height: 1.2em;}#sk-container-id-36 div.sk-label-container {text-align: center;}#sk-container-id-36 div.sk-container {/* jupyter's `normalize.less` sets `[hidden] { display: none; }` but bootstrap.min.css set `[hidden] { display: none !important; }` so we also need the `!important` here to be able to override the default hidden behavior on the sphinx rendered scikit-learn.org. See: https://github.com/scikit-learn/scikit-learn/issues/21755 */display: inline-block !important;position: relative;}#sk-container-id-36 div.sk-text-repr-fallback {display: none;}</style><div id=\"sk-container-id-36\" class=\"sk-top-container\"><div class=\"sk-text-repr-fallback\"><pre>StackingClassifier(estimators=[(&#x27;knn&#x27;, KNeighborsClassifier(n_neighbors=2)),\n",
       "                               (&#x27;svm_linear&#x27;,\n",
       "                                SVC(C=1, gamma=2, kernel=&#x27;linear&#x27;)),\n",
       "                               (&#x27;dt&#x27;, DecisionTreeClassifier(max_depth=5)),\n",
       "                               (&#x27;rf&#x27;, RandomForestClassifier(n_estimators=10)),\n",
       "                               (&#x27;mlp&#x27;, MLPClassifier(hidden_layer_sizes=512))],\n",
       "                   final_estimator=LogisticRegression())</pre><b>In a Jupyter environment, please rerun this cell to show the HTML representation or trust the notebook. <br />On GitHub, the HTML representation is unable to render, please try loading this page with nbviewer.org.</b></div><div class=\"sk-container\" hidden><div class=\"sk-item sk-dashed-wrapped\"><div class=\"sk-label-container\"><div class=\"sk-label sk-toggleable\"><input class=\"sk-toggleable__control sk-hidden--visually\" id=\"sk-estimator-id-66\" type=\"checkbox\" ><label for=\"sk-estimator-id-66\" class=\"sk-toggleable__label sk-toggleable__label-arrow\">StackingClassifier</label><div class=\"sk-toggleable__content\"><pre>StackingClassifier(estimators=[(&#x27;knn&#x27;, KNeighborsClassifier(n_neighbors=2)),\n",
       "                               (&#x27;svm_linear&#x27;,\n",
       "                                SVC(C=1, gamma=2, kernel=&#x27;linear&#x27;)),\n",
       "                               (&#x27;dt&#x27;, DecisionTreeClassifier(max_depth=5)),\n",
       "                               (&#x27;rf&#x27;, RandomForestClassifier(n_estimators=10)),\n",
       "                               (&#x27;mlp&#x27;, MLPClassifier(hidden_layer_sizes=512))],\n",
       "                   final_estimator=LogisticRegression())</pre></div></div></div><div class=\"sk-serial\"><div class=\"sk-item\"><div class=\"sk-parallel\"><div class=\"sk-parallel-item\"><div class=\"sk-item\"><div class=\"sk-label-container\"><div class=\"sk-label sk-toggleable\"><label>knn</label></div></div><div class=\"sk-serial\"><div class=\"sk-item\"><div class=\"sk-estimator sk-toggleable\"><input class=\"sk-toggleable__control sk-hidden--visually\" id=\"sk-estimator-id-67\" type=\"checkbox\" ><label for=\"sk-estimator-id-67\" class=\"sk-toggleable__label sk-toggleable__label-arrow\">KNeighborsClassifier</label><div class=\"sk-toggleable__content\"><pre>KNeighborsClassifier(n_neighbors=2)</pre></div></div></div></div></div></div><div class=\"sk-parallel-item\"><div class=\"sk-item\"><div class=\"sk-label-container\"><div class=\"sk-label sk-toggleable\"><label>svm_linear</label></div></div><div class=\"sk-serial\"><div class=\"sk-item\"><div class=\"sk-estimator sk-toggleable\"><input class=\"sk-toggleable__control sk-hidden--visually\" id=\"sk-estimator-id-68\" type=\"checkbox\" ><label for=\"sk-estimator-id-68\" class=\"sk-toggleable__label sk-toggleable__label-arrow\">SVC</label><div class=\"sk-toggleable__content\"><pre>SVC(C=1, gamma=2, kernel=&#x27;linear&#x27;)</pre></div></div></div></div></div></div><div class=\"sk-parallel-item\"><div class=\"sk-item\"><div class=\"sk-label-container\"><div class=\"sk-label sk-toggleable\"><label>dt</label></div></div><div class=\"sk-serial\"><div class=\"sk-item\"><div class=\"sk-estimator sk-toggleable\"><input class=\"sk-toggleable__control sk-hidden--visually\" id=\"sk-estimator-id-69\" type=\"checkbox\" ><label for=\"sk-estimator-id-69\" class=\"sk-toggleable__label sk-toggleable__label-arrow\">DecisionTreeClassifier</label><div class=\"sk-toggleable__content\"><pre>DecisionTreeClassifier(max_depth=5)</pre></div></div></div></div></div></div><div class=\"sk-parallel-item\"><div class=\"sk-item\"><div class=\"sk-label-container\"><div class=\"sk-label sk-toggleable\"><label>rf</label></div></div><div class=\"sk-serial\"><div class=\"sk-item\"><div class=\"sk-estimator sk-toggleable\"><input class=\"sk-toggleable__control sk-hidden--visually\" id=\"sk-estimator-id-70\" type=\"checkbox\" ><label for=\"sk-estimator-id-70\" class=\"sk-toggleable__label sk-toggleable__label-arrow\">RandomForestClassifier</label><div class=\"sk-toggleable__content\"><pre>RandomForestClassifier(n_estimators=10)</pre></div></div></div></div></div></div><div class=\"sk-parallel-item\"><div class=\"sk-item\"><div class=\"sk-label-container\"><div class=\"sk-label sk-toggleable\"><label>mlp</label></div></div><div class=\"sk-serial\"><div class=\"sk-item\"><div class=\"sk-estimator sk-toggleable\"><input class=\"sk-toggleable__control sk-hidden--visually\" id=\"sk-estimator-id-71\" type=\"checkbox\" ><label for=\"sk-estimator-id-71\" class=\"sk-toggleable__label sk-toggleable__label-arrow\">MLPClassifier</label><div class=\"sk-toggleable__content\"><pre>MLPClassifier(hidden_layer_sizes=512)</pre></div></div></div></div></div></div></div></div><div class=\"sk-item\"><div class=\"sk-parallel\"><div class=\"sk-parallel-item\"><div class=\"sk-item\"><div class=\"sk-label-container\"><div class=\"sk-label sk-toggleable\"><label>final_estimator</label></div></div><div class=\"sk-serial\"><div class=\"sk-item\"><div class=\"sk-estimator sk-toggleable\"><input class=\"sk-toggleable__control sk-hidden--visually\" id=\"sk-estimator-id-72\" type=\"checkbox\" ><label for=\"sk-estimator-id-72\" class=\"sk-toggleable__label sk-toggleable__label-arrow\">LogisticRegression</label><div class=\"sk-toggleable__content\"><pre>LogisticRegression()</pre></div></div></div></div></div></div></div></div></div></div></div></div>"
      ],
      "text/plain": [
       "StackingClassifier(estimators=[('knn', KNeighborsClassifier(n_neighbors=2)),\n",
       "                               ('svm_linear',\n",
       "                                SVC(C=1, gamma=2, kernel='linear')),\n",
       "                               ('dt', DecisionTreeClassifier(max_depth=5)),\n",
       "                               ('rf', RandomForestClassifier(n_estimators=10)),\n",
       "                               ('mlp', MLPClassifier(hidden_layer_sizes=512))],\n",
       "                   final_estimator=LogisticRegression())"
      ]
     },
     "execution_count": 668,
     "metadata": {},
     "output_type": "execute_result"
    }
   ],
   "source": [
    "# train stcking model\n",
    "\n",
    "stack_model.fit(X_Train_features,Y_Train_labels)"
   ]
  },
  {
   "cell_type": "code",
   "execution_count": 669,
   "metadata": {},
   "outputs": [],
   "source": [
    "stack_train_prediction = stack_model.predict(X_Train_features)\n",
    "stack_test_prediction = stack_model.predict(X_Test_features)"
   ]
  },
  {
   "cell_type": "code",
   "execution_count": 670,
   "metadata": {},
   "outputs": [],
   "source": [
    "# training set model performance\n",
    "stack_model_train_accuracy = accuracy_score(Y_Train_labels,stack_train_prediction)\n",
    "stack_model_train_mcc = matthews_corrcoef(Y_Train_labels,stack_train_prediction)\n",
    "stack_model_train_f1 = f1_score(Y_Train_labels,stack_train_prediction, average='weighted')"
   ]
  },
  {
   "cell_type": "code",
   "execution_count": 671,
   "metadata": {},
   "outputs": [],
   "source": [
    "#test set model performace\n",
    "stack_model_test_accuracy = accuracy_score(Y_Test_labels,stack_test_prediction) \n",
    "stack_model_test_mcc = matthews_corrcoef(Y_Test_labels,stack_test_prediction)\n",
    "stack_model_test_f1 = f1_score(Y_Test_labels,stack_test_prediction,average='weighted')\n"
   ]
  },
  {
   "cell_type": "code",
   "execution_count": 672,
   "metadata": {},
   "outputs": [
    {
     "name": "stdout",
     "output_type": "stream",
     "text": [
      "Model performance for Training set\n",
      "- Accuracy: 1.0\n",
      "- MCC: 1.0\n",
      "- F1 score: 1.0\n",
      "----------------------------------\n",
      "Model performance for Test set\n",
      "- Accuracy: 1.0\n",
      "- MCC: 1.0\n",
      "- F1 score: 1.0\n"
     ]
    }
   ],
   "source": [
    "print('Model performance for Training set')\n",
    "print('- Accuracy: %s' % stack_model_train_accuracy)\n",
    "print('- MCC: %s' % stack_model_train_mcc)\n",
    "print('- F1 score: %s' % stack_model_train_f1)\n",
    "print('----------------------------------')\n",
    "print('Model performance for Test set')\n",
    "print('- Accuracy: %s' % stack_model_test_accuracy)\n",
    "print('- MCC: %s' % stack_model_test_mcc)\n",
    "print('- F1 score: %s' % stack_model_test_f1)"
   ]
  },
  {
   "cell_type": "code",
   "execution_count": 673,
   "metadata": {},
   "outputs": [
    {
     "name": "stdout",
     "output_type": "stream",
     "text": [
      "[60, 60]\n",
      "[60, 60]\n"
     ]
    }
   ],
   "source": [
    "stack_large_normal_actual_and_predicted_ratio, stack_large_stagg_actual_and_predicted_ratio = fun.drawchart(Y_Test_labels,stack_test_prediction)\n",
    "print(stack_large_normal_actual_and_predicted_ratio)\n",
    "print(stack_large_stagg_actual_and_predicted_ratio)"
   ]
  },
  {
   "cell_type": "markdown",
   "metadata": {},
   "source": [
    "# mid testing"
   ]
  },
  {
   "cell_type": "code",
   "execution_count": 674,
   "metadata": {},
   "outputs": [],
   "source": [
    "stack_mid_prediction = stack_model.predict(X_mid_Features)"
   ]
  },
  {
   "cell_type": "code",
   "execution_count": 675,
   "metadata": {},
   "outputs": [],
   "source": [
    "stack_mid_accuracy = accuracy_score(Y_mid_labels,stack_mid_prediction) \n",
    "stack_mid_mcc = matthews_corrcoef(Y_mid_labels,stack_mid_prediction)\n",
    "stack_mid_f1 = f1_score(Y_mid_labels,stack_mid_prediction,average='weighted')"
   ]
  },
  {
   "cell_type": "code",
   "execution_count": 676,
   "metadata": {},
   "outputs": [
    {
     "name": "stdout",
     "output_type": "stream",
     "text": [
      "Model performance for mid Test set\n",
      "- Accuracy: 1.0\n",
      "- MCC: 1.0\n",
      "- F1 score: 1.0\n"
     ]
    }
   ],
   "source": [
    "print('Model performance for mid Test set')\n",
    "print('- Accuracy: %s' % stack_mid_accuracy)\n",
    "print('- MCC: %s' % stack_mid_mcc)\n",
    "print('- F1 score: %s' % stack_mid_f1)"
   ]
  },
  {
   "cell_type": "code",
   "execution_count": 677,
   "metadata": {},
   "outputs": [
    {
     "name": "stdout",
     "output_type": "stream",
     "text": [
      "[60, 60]\n",
      "[60, 60]\n"
     ]
    }
   ],
   "source": [
    "\n",
    "stack_mid_normal_actual_and_predicted_ratio, stack_mid_stagg_actual_and_predicted_ratio = fun.drawchart(Y_mid_labels,stack_mid_prediction)\n",
    "print(stack_mid_normal_actual_and_predicted_ratio)\n",
    "print(stack_mid_stagg_actual_and_predicted_ratio)"
   ]
  },
  {
   "cell_type": "markdown",
   "metadata": {},
   "source": [
    "# small test"
   ]
  },
  {
   "cell_type": "code",
   "execution_count": 678,
   "metadata": {},
   "outputs": [],
   "source": [
    "stack_small_prediction = stack_model.predict(X_small_Features)"
   ]
  },
  {
   "cell_type": "code",
   "execution_count": 679,
   "metadata": {},
   "outputs": [],
   "source": [
    "stack_small_accuracy = accuracy_score(Y_small_labels,stack_small_prediction) \n",
    "stack_small_mcc = matthews_corrcoef(Y_small_labels,stack_small_prediction)\n",
    "stack_small_f1 = f1_score(Y_small_labels,stack_small_prediction,average='weighted')"
   ]
  },
  {
   "cell_type": "code",
   "execution_count": 680,
   "metadata": {},
   "outputs": [
    {
     "name": "stdout",
     "output_type": "stream",
     "text": [
      "Model performance for mid Test set\n",
      "- Accuracy: 1.0\n",
      "- MCC: 1.0\n",
      "- F1 score: 1.0\n"
     ]
    }
   ],
   "source": [
    "print('Model performance for mid Test set')\n",
    "print('- Accuracy: %s' % stack_small_accuracy)\n",
    "print('- MCC: %s' % stack_small_mcc)\n",
    "print('- F1 score: %s' % stack_small_f1)"
   ]
  },
  {
   "cell_type": "code",
   "execution_count": 681,
   "metadata": {},
   "outputs": [
    {
     "name": "stdout",
     "output_type": "stream",
     "text": [
      "[60, 60]\n",
      "[60, 60]\n"
     ]
    }
   ],
   "source": [
    "\n",
    "stack_small_normal_actual_and_predicted_ratio, stack_small_stagg_actual_and_predicted_ratio = fun.drawchart(Y_small_labels,stack_small_prediction)\n",
    "print(stack_small_normal_actual_and_predicted_ratio)\n",
    "print(stack_small_stagg_actual_and_predicted_ratio)"
   ]
  },
  {
   "cell_type": "markdown",
   "metadata": {},
   "source": [
    "# Results large set"
   ]
  },
  {
   "cell_type": "code",
   "execution_count": 682,
   "metadata": {},
   "outputs": [
    {
     "name": "stdout",
     "output_type": "stream",
     "text": [
      "{'knn': 1.0, 'svm_linear': 1.0, 'dt': 0.9833333333333333, 'rf': 1.0, 'mlp': 1.0, 'stack': 1.0}\n",
      "{'knn': 1.0, 'svm_linear': 1.0, 'dt': 0.9672041516493516, 'rf': 1.0, 'mlp': 1.0, 'stack': 1.0}\n",
      "{'knn': 1.0, 'svm_linear': 1.0, 'dt': 0.9833287024173382, 'rf': 1.0, 'mlp': 1.0, 'stack': 1.0}\n",
      "{'knn': '60/60', 'svm_linear': '60/60', 'dt': '58/60', 'rf': '60/60', 'mlp': '60/60', 'stack': '60/60'}\n",
      "{'knn': '60/60', 'svm_linear': '60/60', 'dt': '60/60', 'rf': '60/60', 'mlp': '60/60', 'stack': '60/60'}\n"
     ]
    }
   ],
   "source": [
    "# large set resutls\n",
    "acc_test_list = {\n",
    "    'knn':knn_test_accuracy,\n",
    "    'svm_linear':svm_linear_test_accuracy,\n",
    "    'dt':dt_test_accuracy,\n",
    "    'rf':rf_test_accuracy,\n",
    "    'mlp':mlp_test_accuracy,\n",
    "    'stack':stack_model_test_accuracy\n",
    "}\n",
    "\n",
    "mcc_test_list = {\n",
    "    'knn':knn_test_mcc,\n",
    "    'svm_linear':svm_linear_test_mcc,\n",
    "    'dt':dt_test_mcc,\n",
    "    'rf':rf_test_mcc,\n",
    "    'mlp':mlp_test_mcc,\n",
    "    'stack':stack_model_test_mcc\n",
    "}\n",
    "\n",
    "f1_test_list = {\n",
    "    'knn':knn_test_f1,\n",
    "    'svm_linear':svm_linear_test_f1,\n",
    "    'dt':dt_test_f1,\n",
    "    'rf':rf_test_f1,\n",
    "    'mlp':mlp_test_f1,\n",
    "    'stack':stack_model_test_f1\n",
    "}\n",
    "\n",
    "normal_to_predicted_ratio_large_list = {\n",
    "    'knn': fun.returnStringCombined(knn_large_normal_actual_and_predicted_ratio[0],knn_large_normal_actual_and_predicted_ratio[1]) ,\n",
    "    'svm_linear': fun.returnStringCombined(svm_large_normal_actual_and_predicted_ratio[0],svm_large_normal_actual_and_predicted_ratio[1]),\n",
    "    'dt': fun.returnStringCombined(dt_large_normal_actual_and_predicted_ratio[0],dt_large_normal_actual_and_predicted_ratio[1]),\n",
    "    'rf': fun.returnStringCombined(rf_large_normal_actual_and_predicted_ratio[0],rf_large_normal_actual_and_predicted_ratio[1]),\n",
    "    'mlp': fun.returnStringCombined(mlp_large_normal_actual_and_predicted_ratio[0],mlp_large_normal_actual_and_predicted_ratio[1]),\n",
    "    'stack': fun.returnStringCombined(stack_large_normal_actual_and_predicted_ratio[0],stack_large_normal_actual_and_predicted_ratio[1])\n",
    "}\n",
    "\n",
    "stagged_to_predicted_ratio_large_list = {\n",
    "    'knn': fun.returnStringCombined(knn_large_stagg_actual_and_predicted_ratio[0],knn_large_stagg_actual_and_predicted_ratio[1]),\n",
    "    'svm_linear': fun.returnStringCombined(svm_large_stagg_actual_and_predicted_ratio[0],svm_large_stagg_actual_and_predicted_ratio[1]),\n",
    "    'dt': fun.returnStringCombined(dt_large_stagg_actual_and_predicted_ratio[0],dt_large_stagg_actual_and_predicted_ratio[1]),\n",
    "    'rf': fun.returnStringCombined(rf_large_stagg_actual_and_predicted_ratio[0],rf_large_stagg_actual_and_predicted_ratio[1]),\n",
    "    'mlp': fun.returnStringCombined(mlp_large_stagg_actual_and_predicted_ratio[0],mlp_large_stagg_actual_and_predicted_ratio[1]),\n",
    "    'stack':fun.returnStringCombined(stack_large_stagg_actual_and_predicted_ratio[0],stack_large_stagg_actual_and_predicted_ratio[1])\n",
    "}\n",
    "print(acc_test_list)\n",
    "print(mcc_test_list)\n",
    "print(f1_test_list)\n",
    "print(normal_to_predicted_ratio_large_list)\n",
    "print(stagged_to_predicted_ratio_large_list)"
   ]
  },
  {
   "cell_type": "code",
   "execution_count": 683,
   "metadata": {},
   "outputs": [],
   "source": [
    "\n",
    "\n",
    "acc_df = pd.DataFrame.from_dict(acc_test_list, orient='index', columns=['Accuracy Large'])\n",
    "mcc_df = pd.DataFrame.from_dict(mcc_test_list, orient='index', columns=['MCC Large'])\n",
    "f1_df = pd.DataFrame.from_dict(f1_test_list, orient='index', columns=['F1-score Large'])\n",
    "normal_df = pd.DataFrame.from_dict(normal_to_predicted_ratio_large_list, orient='index',columns=['Predicted Normal / Actual  Normal Images'])\n",
    "stagg_df = pd.DataFrame.from_dict(stagged_to_predicted_ratio_large_list, orient='index',columns=['Predicted stagged / Actual  Stagged Images'])\n",
    "DF_LARGE = pd.concat([acc_df, mcc_df, f1_df,normal_df,stagg_df], axis=1)\n",
    "\n"
   ]
  },
  {
   "cell_type": "code",
   "execution_count": 684,
   "metadata": {},
   "outputs": [
    {
     "data": {
      "text/html": [
       "<div>\n",
       "<style scoped>\n",
       "    .dataframe tbody tr th:only-of-type {\n",
       "        vertical-align: middle;\n",
       "    }\n",
       "\n",
       "    .dataframe tbody tr th {\n",
       "        vertical-align: top;\n",
       "    }\n",
       "\n",
       "    .dataframe thead th {\n",
       "        text-align: right;\n",
       "    }\n",
       "</style>\n",
       "<table border=\"1\" class=\"dataframe\">\n",
       "  <thead>\n",
       "    <tr style=\"text-align: right;\">\n",
       "      <th></th>\n",
       "      <th>Accuracy Large</th>\n",
       "      <th>MCC Large</th>\n",
       "      <th>F1-score Large</th>\n",
       "      <th>Predicted Normal / Actual  Normal Images</th>\n",
       "      <th>Predicted stagged / Actual  Stagged Images</th>\n",
       "    </tr>\n",
       "  </thead>\n",
       "  <tbody>\n",
       "    <tr>\n",
       "      <th>knn</th>\n",
       "      <td>1.000000</td>\n",
       "      <td>1.000000</td>\n",
       "      <td>1.000000</td>\n",
       "      <td>60/60</td>\n",
       "      <td>60/60</td>\n",
       "    </tr>\n",
       "    <tr>\n",
       "      <th>svm_linear</th>\n",
       "      <td>1.000000</td>\n",
       "      <td>1.000000</td>\n",
       "      <td>1.000000</td>\n",
       "      <td>60/60</td>\n",
       "      <td>60/60</td>\n",
       "    </tr>\n",
       "    <tr>\n",
       "      <th>dt</th>\n",
       "      <td>0.983333</td>\n",
       "      <td>0.967204</td>\n",
       "      <td>0.983329</td>\n",
       "      <td>58/60</td>\n",
       "      <td>60/60</td>\n",
       "    </tr>\n",
       "    <tr>\n",
       "      <th>rf</th>\n",
       "      <td>1.000000</td>\n",
       "      <td>1.000000</td>\n",
       "      <td>1.000000</td>\n",
       "      <td>60/60</td>\n",
       "      <td>60/60</td>\n",
       "    </tr>\n",
       "    <tr>\n",
       "      <th>mlp</th>\n",
       "      <td>1.000000</td>\n",
       "      <td>1.000000</td>\n",
       "      <td>1.000000</td>\n",
       "      <td>60/60</td>\n",
       "      <td>60/60</td>\n",
       "    </tr>\n",
       "    <tr>\n",
       "      <th>stack</th>\n",
       "      <td>1.000000</td>\n",
       "      <td>1.000000</td>\n",
       "      <td>1.000000</td>\n",
       "      <td>60/60</td>\n",
       "      <td>60/60</td>\n",
       "    </tr>\n",
       "  </tbody>\n",
       "</table>\n",
       "</div>"
      ],
      "text/plain": [
       "            Accuracy Large  MCC Large  F1-score Large  \\\n",
       "knn               1.000000   1.000000        1.000000   \n",
       "svm_linear        1.000000   1.000000        1.000000   \n",
       "dt                0.983333   0.967204        0.983329   \n",
       "rf                1.000000   1.000000        1.000000   \n",
       "mlp               1.000000   1.000000        1.000000   \n",
       "stack             1.000000   1.000000        1.000000   \n",
       "\n",
       "           Predicted Normal / Actual  Normal Images  \\\n",
       "knn                                           60/60   \n",
       "svm_linear                                    60/60   \n",
       "dt                                            58/60   \n",
       "rf                                            60/60   \n",
       "mlp                                           60/60   \n",
       "stack                                         60/60   \n",
       "\n",
       "           Predicted stagged / Actual  Stagged Images  \n",
       "knn                                             60/60  \n",
       "svm_linear                                      60/60  \n",
       "dt                                              60/60  \n",
       "rf                                              60/60  \n",
       "mlp                                             60/60  \n",
       "stack                                           60/60  "
      ]
     },
     "execution_count": 684,
     "metadata": {},
     "output_type": "execute_result"
    }
   ],
   "source": [
    "DF_LARGE"
   ]
  },
  {
   "cell_type": "markdown",
   "metadata": {},
   "source": [
    "# Results of mid set"
   ]
  },
  {
   "cell_type": "markdown",
   "metadata": {},
   "source": [
    "classficiation\n",
    "\n",
    "    'knn':,\n",
    "    'svm_linear':,\n",
    "    'dt':,\n",
    "    'rf':,\n",
    "    'mlp':,\n",
    "    'stack':"
   ]
  },
  {
   "cell_type": "code",
   "execution_count": 685,
   "metadata": {},
   "outputs": [],
   "source": [
    "acc_mid_test_list = {\n",
    "    'knn': knn_mid_accuracy,\n",
    "    'svm_linear': svm_mid_accuracy,\n",
    "    'dt': dt_mid_accuracy,\n",
    "    'rf': rf_mid_accuracy,\n",
    "    'mlp': mlp_mid_accuracy,\n",
    "    'stack': stack_mid_accuracy\n",
    "}\n",
    "\n",
    "mcc_mid_test_list = {\n",
    "    'knn': knn_mid_mcc,\n",
    "    'svm_linear': svm_mid_mcc,\n",
    "    'dt': dt_mid_mcc,\n",
    "    'rf': rf_mid_mcc,\n",
    "    'mlp': mlp_mid_mcc,\n",
    "    'stack': stack_mid_mcc\n",
    "}\n",
    "\n",
    "f1_mid_test_list = {\n",
    "    'knn': knn_mid_f1,\n",
    "    'svm_linear': svm_mid_f1,\n",
    "    'dt': dt_mid_f1,\n",
    "    'rf': rf_mid_f1,\n",
    "    'mlp': mlp_mid_f1,\n",
    "    'stack': stack_mid_f1\n",
    "}\n",
    "\n",
    "normal_to_predicted_ratio_mid_list = {\n",
    "    'knn': fun.returnStringCombined(knn_mid_normal_actual_and_predicted_ratio[0],knn_mid_normal_actual_and_predicted_ratio[1]) ,\n",
    "    'svm_linear': fun.returnStringCombined(svm_mid_normal_actual_and_predicted_ratio[0],svm_mid_normal_actual_and_predicted_ratio[1]),\n",
    "    'dt': fun.returnStringCombined(dt_mid_normal_actual_and_predicted_ratio[0],dt_mid_normal_actual_and_predicted_ratio[1]),\n",
    "    'rf': fun.returnStringCombined(rf_mid_normal_actual_and_predicted_ratio[0],rf_mid_normal_actual_and_predicted_ratio[1]),\n",
    "    'mlp': fun.returnStringCombined(mlp_mid_normal_actual_and_predicted_ratio[0],mlp_mid_normal_actual_and_predicted_ratio[1]),\n",
    "    'stack': fun.returnStringCombined(stack_mid_normal_actual_and_predicted_ratio[0],stack_mid_normal_actual_and_predicted_ratio[1])\n",
    "}\n",
    "\n",
    "stagged_to_predicted_ratio_mid_list = {\n",
    "    'knn': fun.returnStringCombined(knn_mid_stagg_actual_and_predicted_ratio[0],knn_mid_stagg_actual_and_predicted_ratio[1]),\n",
    "    'svm_linear': fun.returnStringCombined(svm_mid_stagg_actual_and_predicted_ratio[0],svm_mid_stagg_actual_and_predicted_ratio[1]),\n",
    "    'dt': fun.returnStringCombined(dt_mid_stagg_actual_and_predicted_ratio[0],dt_mid_stagg_actual_and_predicted_ratio[1]),\n",
    "    'rf': fun.returnStringCombined(rf_mid_stagg_actual_and_predicted_ratio[0],rf_mid_stagg_actual_and_predicted_ratio[1]),\n",
    "    'mlp': fun.returnStringCombined(mlp_mid_stagg_actual_and_predicted_ratio[0],mlp_mid_stagg_actual_and_predicted_ratio[1]),\n",
    "    'stack':fun.returnStringCombined(stack_mid_stagg_actual_and_predicted_ratio[0],stack_mid_stagg_actual_and_predicted_ratio[1])\n",
    "}"
   ]
  },
  {
   "cell_type": "code",
   "execution_count": 686,
   "metadata": {},
   "outputs": [
    {
     "data": {
      "text/html": [
       "<div>\n",
       "<style scoped>\n",
       "    .dataframe tbody tr th:only-of-type {\n",
       "        vertical-align: middle;\n",
       "    }\n",
       "\n",
       "    .dataframe tbody tr th {\n",
       "        vertical-align: top;\n",
       "    }\n",
       "\n",
       "    .dataframe thead th {\n",
       "        text-align: right;\n",
       "    }\n",
       "</style>\n",
       "<table border=\"1\" class=\"dataframe\">\n",
       "  <thead>\n",
       "    <tr style=\"text-align: right;\">\n",
       "      <th></th>\n",
       "      <th>Accuracy Mid</th>\n",
       "      <th>MCC Mid</th>\n",
       "      <th>F1-score Mid</th>\n",
       "      <th>Predicted Normal / Actual  Normal Images</th>\n",
       "      <th>Predicted stagged / Actual  Stagged Images</th>\n",
       "    </tr>\n",
       "  </thead>\n",
       "  <tbody>\n",
       "    <tr>\n",
       "      <th>knn</th>\n",
       "      <td>1.0</td>\n",
       "      <td>1.0</td>\n",
       "      <td>1.0</td>\n",
       "      <td>60/60</td>\n",
       "      <td>60/60</td>\n",
       "    </tr>\n",
       "    <tr>\n",
       "      <th>svm_linear</th>\n",
       "      <td>1.0</td>\n",
       "      <td>1.0</td>\n",
       "      <td>1.0</td>\n",
       "      <td>60/60</td>\n",
       "      <td>60/60</td>\n",
       "    </tr>\n",
       "    <tr>\n",
       "      <th>dt</th>\n",
       "      <td>1.0</td>\n",
       "      <td>1.0</td>\n",
       "      <td>1.0</td>\n",
       "      <td>60/60</td>\n",
       "      <td>60/60</td>\n",
       "    </tr>\n",
       "    <tr>\n",
       "      <th>rf</th>\n",
       "      <td>1.0</td>\n",
       "      <td>1.0</td>\n",
       "      <td>1.0</td>\n",
       "      <td>60/60</td>\n",
       "      <td>60/60</td>\n",
       "    </tr>\n",
       "    <tr>\n",
       "      <th>mlp</th>\n",
       "      <td>1.0</td>\n",
       "      <td>1.0</td>\n",
       "      <td>1.0</td>\n",
       "      <td>60/60</td>\n",
       "      <td>60/60</td>\n",
       "    </tr>\n",
       "    <tr>\n",
       "      <th>stack</th>\n",
       "      <td>1.0</td>\n",
       "      <td>1.0</td>\n",
       "      <td>1.0</td>\n",
       "      <td>60/60</td>\n",
       "      <td>60/60</td>\n",
       "    </tr>\n",
       "  </tbody>\n",
       "</table>\n",
       "</div>"
      ],
      "text/plain": [
       "            Accuracy Mid  MCC Mid  F1-score Mid  \\\n",
       "knn                  1.0      1.0           1.0   \n",
       "svm_linear           1.0      1.0           1.0   \n",
       "dt                   1.0      1.0           1.0   \n",
       "rf                   1.0      1.0           1.0   \n",
       "mlp                  1.0      1.0           1.0   \n",
       "stack                1.0      1.0           1.0   \n",
       "\n",
       "           Predicted Normal / Actual  Normal Images  \\\n",
       "knn                                           60/60   \n",
       "svm_linear                                    60/60   \n",
       "dt                                            60/60   \n",
       "rf                                            60/60   \n",
       "mlp                                           60/60   \n",
       "stack                                         60/60   \n",
       "\n",
       "           Predicted stagged / Actual  Stagged Images  \n",
       "knn                                             60/60  \n",
       "svm_linear                                      60/60  \n",
       "dt                                              60/60  \n",
       "rf                                              60/60  \n",
       "mlp                                             60/60  \n",
       "stack                                           60/60  "
      ]
     },
     "execution_count": 686,
     "metadata": {},
     "output_type": "execute_result"
    }
   ],
   "source": [
    "acc_mid_df = pd.DataFrame.from_dict(acc_mid_test_list,orient='index',columns = ['Accuracy Mid'])\n",
    "mcc_mid_df = pd.DataFrame.from_dict(mcc_mid_test_list,orient='index',columns = ['MCC Mid'])\n",
    "f1_mid_df =  pd.DataFrame.from_dict(f1_mid_test_list,orient='index',columns = ['F1-score Mid'])\n",
    "normal_mid_df = pd.DataFrame.from_dict(normal_to_predicted_ratio_mid_list, orient='index',columns=['Predicted Normal / Actual  Normal Images'])\n",
    "stagg_mid_df = pd.DataFrame.from_dict(stagged_to_predicted_ratio_mid_list, orient='index',columns=['Predicted stagged / Actual  Stagged Images'])\n",
    "DF_MID = pd.concat([acc_mid_df,mcc_mid_df,f1_mid_df,normal_mid_df,stagg_mid_df],axis=1)\n",
    "DF_MID\n"
   ]
  },
  {
   "cell_type": "markdown",
   "metadata": {},
   "source": [
    "# Results small test"
   ]
  },
  {
   "cell_type": "code",
   "execution_count": 687,
   "metadata": {},
   "outputs": [],
   "source": [
    "acc_small_test_list = {\n",
    "    'knn': knn_small_accuracy,\n",
    "    'svm_linear': svm_linear_small_accuracy,\n",
    "    'dt': dt_small_accuracy,\n",
    "    'rf': rf_small_accuracy,\n",
    "    'mlp': mlp_small_accuracy,\n",
    "    'stack': stack_small_accuracy\n",
    "}\n",
    "\n",
    "mcc_small_test_list = {\n",
    "    'knn': knn_small_mcc,\n",
    "    'svm_linear': svm_linear_small_mcc,\n",
    "    'dt': dt_small_mcc,\n",
    "    'rf': rf_small_mcc,\n",
    "    'mlp': mlp_small_mcc,\n",
    "    'stack': stack_small_mcc\n",
    "}\n",
    "\n",
    "f1_small_test_list = {\n",
    "    'knn': knn_small_f1,\n",
    "    'svm_linear': svm_linear_small_f1,\n",
    "    'dt': dt_small_f1,\n",
    "    'rf': rf_small_f1,\n",
    "    'mlp': mlp_small_f1,\n",
    "    'stack': stack_small_f1\n",
    "}\n",
    "\n",
    "normal_to_predicted_ratio_small_list = {\n",
    "    'knn': fun.returnStringCombined(knn_small_normal_actual_and_predicted_ratio[0],knn_small_normal_actual_and_predicted_ratio[1]) ,\n",
    "    'svm_linear': fun.returnStringCombined(svm_small_normal_actual_and_predicted_ratio[0],svm_small_normal_actual_and_predicted_ratio[1]),\n",
    "    'dt': fun.returnStringCombined(dt_small_normal_actual_and_predicted_ratio[0],dt_small_normal_actual_and_predicted_ratio[1]),\n",
    "    'rf': fun.returnStringCombined(rf_small_normal_actual_and_predicted_ratio[0],rf_small_normal_actual_and_predicted_ratio[1]),\n",
    "    'mlp': fun.returnStringCombined(mlp_small_normal_actual_and_predicted_ratio[0],mlp_small_normal_actual_and_predicted_ratio[1]),\n",
    "    'stack': fun.returnStringCombined(stack_small_normal_actual_and_predicted_ratio[0],stack_small_normal_actual_and_predicted_ratio[1])\n",
    "}\n",
    "\n",
    "stagged_to_predicted_ratio_small_list = {\n",
    "    'knn': fun.returnStringCombined(knn_small_stagg_actual_and_predicted_ratio[0],knn_small_stagg_actual_and_predicted_ratio[1]),\n",
    "    'svm_linear': fun.returnStringCombined(svm_small_stagg_actual_and_predicted_ratio[0],svm_small_stagg_actual_and_predicted_ratio[1]),\n",
    "    'dt': fun.returnStringCombined(dt_small_stagg_actual_and_predicted_ratio[0],dt_small_stagg_actual_and_predicted_ratio[1]),\n",
    "    'rf': fun.returnStringCombined(rf_small_stagg_actual_and_predicted_ratio[0],rf_small_stagg_actual_and_predicted_ratio[1]),\n",
    "    'mlp': fun.returnStringCombined(mlp_small_stagg_actual_and_predicted_ratio[0],mlp_small_stagg_actual_and_predicted_ratio[1]),\n",
    "    'stack':fun.returnStringCombined(stack_small_stagg_actual_and_predicted_ratio[0],stack_small_stagg_actual_and_predicted_ratio[1])\n",
    "}"
   ]
  },
  {
   "cell_type": "code",
   "execution_count": 688,
   "metadata": {},
   "outputs": [
    {
     "data": {
      "text/html": [
       "<div>\n",
       "<style scoped>\n",
       "    .dataframe tbody tr th:only-of-type {\n",
       "        vertical-align: middle;\n",
       "    }\n",
       "\n",
       "    .dataframe tbody tr th {\n",
       "        vertical-align: top;\n",
       "    }\n",
       "\n",
       "    .dataframe thead th {\n",
       "        text-align: right;\n",
       "    }\n",
       "</style>\n",
       "<table border=\"1\" class=\"dataframe\">\n",
       "  <thead>\n",
       "    <tr style=\"text-align: right;\">\n",
       "      <th></th>\n",
       "      <th>Accuracy Small</th>\n",
       "      <th>MCC Small</th>\n",
       "      <th>F1 Small</th>\n",
       "      <th>Predicted Normal / Actual  Normal Images</th>\n",
       "      <th>Predicted stagged / Actual  Stagged Images</th>\n",
       "    </tr>\n",
       "  </thead>\n",
       "  <tbody>\n",
       "    <tr>\n",
       "      <th>knn</th>\n",
       "      <td>1.0</td>\n",
       "      <td>1.0</td>\n",
       "      <td>1.0</td>\n",
       "      <td>60/60</td>\n",
       "      <td>60/60</td>\n",
       "    </tr>\n",
       "    <tr>\n",
       "      <th>svm_linear</th>\n",
       "      <td>1.0</td>\n",
       "      <td>1.0</td>\n",
       "      <td>1.0</td>\n",
       "      <td>60/60</td>\n",
       "      <td>60/60</td>\n",
       "    </tr>\n",
       "    <tr>\n",
       "      <th>dt</th>\n",
       "      <td>1.0</td>\n",
       "      <td>1.0</td>\n",
       "      <td>1.0</td>\n",
       "      <td>60/60</td>\n",
       "      <td>60/60</td>\n",
       "    </tr>\n",
       "    <tr>\n",
       "      <th>rf</th>\n",
       "      <td>1.0</td>\n",
       "      <td>1.0</td>\n",
       "      <td>1.0</td>\n",
       "      <td>60/60</td>\n",
       "      <td>60/60</td>\n",
       "    </tr>\n",
       "    <tr>\n",
       "      <th>mlp</th>\n",
       "      <td>1.0</td>\n",
       "      <td>1.0</td>\n",
       "      <td>1.0</td>\n",
       "      <td>60/60</td>\n",
       "      <td>60/60</td>\n",
       "    </tr>\n",
       "    <tr>\n",
       "      <th>stack</th>\n",
       "      <td>1.0</td>\n",
       "      <td>1.0</td>\n",
       "      <td>1.0</td>\n",
       "      <td>60/60</td>\n",
       "      <td>60/60</td>\n",
       "    </tr>\n",
       "  </tbody>\n",
       "</table>\n",
       "</div>"
      ],
      "text/plain": [
       "            Accuracy Small  MCC Small  F1 Small  \\\n",
       "knn                    1.0        1.0       1.0   \n",
       "svm_linear             1.0        1.0       1.0   \n",
       "dt                     1.0        1.0       1.0   \n",
       "rf                     1.0        1.0       1.0   \n",
       "mlp                    1.0        1.0       1.0   \n",
       "stack                  1.0        1.0       1.0   \n",
       "\n",
       "           Predicted Normal / Actual  Normal Images  \\\n",
       "knn                                           60/60   \n",
       "svm_linear                                    60/60   \n",
       "dt                                            60/60   \n",
       "rf                                            60/60   \n",
       "mlp                                           60/60   \n",
       "stack                                         60/60   \n",
       "\n",
       "           Predicted stagged / Actual  Stagged Images  \n",
       "knn                                             60/60  \n",
       "svm_linear                                      60/60  \n",
       "dt                                              60/60  \n",
       "rf                                              60/60  \n",
       "mlp                                             60/60  \n",
       "stack                                           60/60  "
      ]
     },
     "execution_count": 688,
     "metadata": {},
     "output_type": "execute_result"
    }
   ],
   "source": [
    "acc_small_df = pd.DataFrame.from_dict(acc_small_test_list,orient='index',columns = ['Accuracy Small'])\n",
    "mcc_small_df = pd.DataFrame.from_dict(mcc_small_test_list,orient='index',columns = ['MCC Small'])\n",
    "f1_small_df =  pd.DataFrame.from_dict(f1_small_test_list,orient='index',columns = ['F1 Small'])\n",
    "normal_small_df = pd.DataFrame.from_dict(normal_to_predicted_ratio_small_list, orient='index',columns=['Predicted Normal / Actual  Normal Images'])\n",
    "stagg_small_df = pd.DataFrame.from_dict(stagged_to_predicted_ratio_small_list, orient='index',columns=['Predicted stagged / Actual  Stagged Images'])\n",
    "DF_SMALL = pd.concat([acc_small_df,mcc_small_df,f1_small_df,normal_small_df,stagg_small_df],axis=1)\n",
    "DF_SMALL\n"
   ]
  },
  {
   "cell_type": "code",
   "execution_count": 689,
   "metadata": {},
   "outputs": [
    {
     "name": "stdout",
     "output_type": "stream",
     "text": [
      "C:\\Users\\pskavalekar\\Desktop\\Scripts\\classifiers\\mlp\\jupyter Notebook\\internet set\\dct\\internet set large.csv\n",
      "C:\\Users\\pskavalekar\\Desktop\\Scripts\\classifiers\\mlp\\jupyter Notebook\\internet set\\dct\\internet set mid.csv\n",
      "C:\\Users\\pskavalekar\\Desktop\\Scripts\\classifiers\\mlp\\jupyter Notebook\\internet set\\dct\\internet set small.csv\n"
     ]
    }
   ],
   "source": [
    "main_save_location = \"C:\\\\Users\\\\pskavalekar\\\\Desktop\\\\Scripts\\\\classifiers\\\\mlp\\\\jupyter Notebook\\\\\"\n",
    "type_save = ['captured data','semi-captured','internet set']\n",
    "algorithm = ['lsb','lsbran','dct']\n",
    "largeFileName= type_save[2]+' large'+'.csv'\n",
    "midFileName= type_save[2]+' mid'+'.csv'\n",
    "smallFileName= type_save[2]+' small'+'.csv'\n",
    "\n",
    "main_Types = os.path.join(main_save_location,type_save[2])\n",
    "main_algorith = os.path.join(main_Types,algoithm[2])\n",
    "\n",
    "full_file_path_large = os.path.join(main_algorith,largeFileName)\n",
    "full_file_path_mid = os.path.join(main_algorith,midFileName)\n",
    "full_file_path_small = os.path.join(main_algorith,smallFileName)\n",
    "print(full_file_path_large)\n",
    "print(full_file_path_mid)\n",
    "print(full_file_path_small)\n"
   ]
  },
  {
   "cell_type": "code",
   "execution_count": 690,
   "metadata": {},
   "outputs": [],
   "source": [
    "DF_LARGE.to_csv(full_file_path_large)"
   ]
  },
  {
   "cell_type": "code",
   "execution_count": 691,
   "metadata": {},
   "outputs": [],
   "source": [
    "DF_MID.to_csv(full_file_path_mid)"
   ]
  },
  {
   "cell_type": "code",
   "execution_count": 692,
   "metadata": {},
   "outputs": [],
   "source": [
    "DF_SMALL.to_csv(full_file_path_small)"
   ]
  },
  {
   "cell_type": "code",
   "execution_count": 24,
   "metadata": {},
   "outputs": [
    {
     "name": "stdout",
     "output_type": "stream",
     "text": [
      "Yes\n"
     ]
    }
   ],
   "source": [
    "\n",
    "large_name = 'captured datalarge.csv'\n",
    "mid_name ='captured datamid.csv'\n",
    "small_name = 'captured datasmall.csv'\n",
    "\n",
    "fun.pathExists('C:\\\\Users\\\\pskavalekar\\\\Desktop\\\\Scripts\\\\classifiers\\\\mlp\\\\jupyter Notebook\\\\captured data\\\\lsb\\\\captured datalarge.csv')"
   ]
  },
  {
   "cell_type": "code",
   "execution_count": 29,
   "metadata": {},
   "outputs": [],
   "source": [
    "df_large = pd.read_csv('C:\\\\Users\\\\pskavalekar\\\\Desktop\\\\Scripts\\\\classifiers\\\\mlp\\\\jupyter Notebook\\\\captured data\\\\dct\\\\'+large_name)\n",
    "df_mid = pd.read_csv('C:\\\\Users\\\\pskavalekar\\\\Desktop\\\\Scripts\\\\classifiers\\\\mlp\\\\jupyter Notebook\\\\captured data\\\\dct\\\\'+mid_name)\n",
    "df_small = pd.read_csv('C:\\\\Users\\\\pskavalekar\\\\Desktop\\\\Scripts\\\\classifiers\\\\mlp\\\\jupyter Notebook\\\\captured data\\\\dct\\\\'+small_name)\n",
    "\n"
   ]
  },
  {
   "cell_type": "code",
   "execution_count": 30,
   "metadata": {},
   "outputs": [
    {
     "data": {
      "text/html": [
       "<div>\n",
       "<style scoped>\n",
       "    .dataframe tbody tr th:only-of-type {\n",
       "        vertical-align: middle;\n",
       "    }\n",
       "\n",
       "    .dataframe tbody tr th {\n",
       "        vertical-align: top;\n",
       "    }\n",
       "\n",
       "    .dataframe thead th {\n",
       "        text-align: right;\n",
       "    }\n",
       "</style>\n",
       "<table border=\"1\" class=\"dataframe\">\n",
       "  <thead>\n",
       "    <tr style=\"text-align: right;\">\n",
       "      <th></th>\n",
       "      <th>classifiers</th>\n",
       "      <th>Accuracy Large</th>\n",
       "      <th>MCC Large</th>\n",
       "      <th>F1-score Large</th>\n",
       "      <th>Predicted Normal / Actual  Normal Images</th>\n",
       "      <th>Predicted stagged / Actual  Stagged Images</th>\n",
       "    </tr>\n",
       "  </thead>\n",
       "  <tbody>\n",
       "    <tr>\n",
       "      <th>0</th>\n",
       "      <td>knn</td>\n",
       "      <td>1.000000</td>\n",
       "      <td>1.000000</td>\n",
       "      <td>1.000000</td>\n",
       "      <td>59/59</td>\n",
       "      <td>58/58</td>\n",
       "    </tr>\n",
       "    <tr>\n",
       "      <th>1</th>\n",
       "      <td>svm_linear</td>\n",
       "      <td>1.000000</td>\n",
       "      <td>1.000000</td>\n",
       "      <td>1.000000</td>\n",
       "      <td>59/59</td>\n",
       "      <td>58/58</td>\n",
       "    </tr>\n",
       "    <tr>\n",
       "      <th>2</th>\n",
       "      <td>dt</td>\n",
       "      <td>0.982906</td>\n",
       "      <td>0.966365</td>\n",
       "      <td>0.982898</td>\n",
       "      <td>59/59</td>\n",
       "      <td>56/58</td>\n",
       "    </tr>\n",
       "    <tr>\n",
       "      <th>3</th>\n",
       "      <td>rf</td>\n",
       "      <td>1.000000</td>\n",
       "      <td>1.000000</td>\n",
       "      <td>1.000000</td>\n",
       "      <td>59/59</td>\n",
       "      <td>58/58</td>\n",
       "    </tr>\n",
       "    <tr>\n",
       "      <th>4</th>\n",
       "      <td>mlp</td>\n",
       "      <td>1.000000</td>\n",
       "      <td>1.000000</td>\n",
       "      <td>1.000000</td>\n",
       "      <td>59/59</td>\n",
       "      <td>58/58</td>\n",
       "    </tr>\n",
       "    <tr>\n",
       "      <th>5</th>\n",
       "      <td>stack</td>\n",
       "      <td>1.000000</td>\n",
       "      <td>1.000000</td>\n",
       "      <td>1.000000</td>\n",
       "      <td>59/59</td>\n",
       "      <td>58/58</td>\n",
       "    </tr>\n",
       "  </tbody>\n",
       "</table>\n",
       "</div>"
      ],
      "text/plain": [
       "  classifiers  Accuracy Large  MCC Large  F1-score Large  \\\n",
       "0         knn        1.000000   1.000000        1.000000   \n",
       "1  svm_linear        1.000000   1.000000        1.000000   \n",
       "2          dt        0.982906   0.966365        0.982898   \n",
       "3          rf        1.000000   1.000000        1.000000   \n",
       "4         mlp        1.000000   1.000000        1.000000   \n",
       "5       stack        1.000000   1.000000        1.000000   \n",
       "\n",
       "  Predicted Normal / Actual  Normal Images  \\\n",
       "0                                    59/59   \n",
       "1                                    59/59   \n",
       "2                                    59/59   \n",
       "3                                    59/59   \n",
       "4                                    59/59   \n",
       "5                                    59/59   \n",
       "\n",
       "  Predicted stagged / Actual  Stagged Images  \n",
       "0                                      58/58  \n",
       "1                                      58/58  \n",
       "2                                      56/58  \n",
       "3                                      58/58  \n",
       "4                                      58/58  \n",
       "5                                      58/58  "
      ]
     },
     "execution_count": 30,
     "metadata": {},
     "output_type": "execute_result"
    }
   ],
   "source": [
    "df_large"
   ]
  },
  {
   "cell_type": "code",
   "execution_count": 31,
   "metadata": {},
   "outputs": [
    {
     "data": {
      "text/html": [
       "<div>\n",
       "<style scoped>\n",
       "    .dataframe tbody tr th:only-of-type {\n",
       "        vertical-align: middle;\n",
       "    }\n",
       "\n",
       "    .dataframe tbody tr th {\n",
       "        vertical-align: top;\n",
       "    }\n",
       "\n",
       "    .dataframe thead th {\n",
       "        text-align: right;\n",
       "    }\n",
       "</style>\n",
       "<table border=\"1\" class=\"dataframe\">\n",
       "  <thead>\n",
       "    <tr style=\"text-align: right;\">\n",
       "      <th></th>\n",
       "      <th>classifiers</th>\n",
       "      <th>Accuracy Mid</th>\n",
       "      <th>MCC Mid</th>\n",
       "      <th>F1-score Mid</th>\n",
       "      <th>Predicted Normal / Actual  Normal Images</th>\n",
       "      <th>Predicted stagged / Actual  Stagged Images</th>\n",
       "    </tr>\n",
       "  </thead>\n",
       "  <tbody>\n",
       "    <tr>\n",
       "      <th>0</th>\n",
       "      <td>knn</td>\n",
       "      <td>1.0</td>\n",
       "      <td>1.0</td>\n",
       "      <td>1.0</td>\n",
       "      <td>60/60</td>\n",
       "      <td>60/60</td>\n",
       "    </tr>\n",
       "    <tr>\n",
       "      <th>1</th>\n",
       "      <td>svm_linear</td>\n",
       "      <td>1.0</td>\n",
       "      <td>1.0</td>\n",
       "      <td>1.0</td>\n",
       "      <td>60/60</td>\n",
       "      <td>60/60</td>\n",
       "    </tr>\n",
       "    <tr>\n",
       "      <th>2</th>\n",
       "      <td>dt</td>\n",
       "      <td>1.0</td>\n",
       "      <td>1.0</td>\n",
       "      <td>1.0</td>\n",
       "      <td>60/60</td>\n",
       "      <td>60/60</td>\n",
       "    </tr>\n",
       "    <tr>\n",
       "      <th>3</th>\n",
       "      <td>rf</td>\n",
       "      <td>1.0</td>\n",
       "      <td>1.0</td>\n",
       "      <td>1.0</td>\n",
       "      <td>60/60</td>\n",
       "      <td>60/60</td>\n",
       "    </tr>\n",
       "    <tr>\n",
       "      <th>4</th>\n",
       "      <td>mlp</td>\n",
       "      <td>1.0</td>\n",
       "      <td>1.0</td>\n",
       "      <td>1.0</td>\n",
       "      <td>60/60</td>\n",
       "      <td>60/60</td>\n",
       "    </tr>\n",
       "    <tr>\n",
       "      <th>5</th>\n",
       "      <td>stack</td>\n",
       "      <td>1.0</td>\n",
       "      <td>1.0</td>\n",
       "      <td>1.0</td>\n",
       "      <td>60/60</td>\n",
       "      <td>60/60</td>\n",
       "    </tr>\n",
       "  </tbody>\n",
       "</table>\n",
       "</div>"
      ],
      "text/plain": [
       "  classifiers  Accuracy Mid  MCC Mid  F1-score Mid  \\\n",
       "0         knn           1.0      1.0           1.0   \n",
       "1  svm_linear           1.0      1.0           1.0   \n",
       "2          dt           1.0      1.0           1.0   \n",
       "3          rf           1.0      1.0           1.0   \n",
       "4         mlp           1.0      1.0           1.0   \n",
       "5       stack           1.0      1.0           1.0   \n",
       "\n",
       "  Predicted Normal / Actual  Normal Images  \\\n",
       "0                                    60/60   \n",
       "1                                    60/60   \n",
       "2                                    60/60   \n",
       "3                                    60/60   \n",
       "4                                    60/60   \n",
       "5                                    60/60   \n",
       "\n",
       "  Predicted stagged / Actual  Stagged Images  \n",
       "0                                      60/60  \n",
       "1                                      60/60  \n",
       "2                                      60/60  \n",
       "3                                      60/60  \n",
       "4                                      60/60  \n",
       "5                                      60/60  "
      ]
     },
     "execution_count": 31,
     "metadata": {},
     "output_type": "execute_result"
    }
   ],
   "source": [
    "df_mid"
   ]
  },
  {
   "cell_type": "code",
   "execution_count": 32,
   "metadata": {},
   "outputs": [
    {
     "data": {
      "text/html": [
       "<div>\n",
       "<style scoped>\n",
       "    .dataframe tbody tr th:only-of-type {\n",
       "        vertical-align: middle;\n",
       "    }\n",
       "\n",
       "    .dataframe tbody tr th {\n",
       "        vertical-align: top;\n",
       "    }\n",
       "\n",
       "    .dataframe thead th {\n",
       "        text-align: right;\n",
       "    }\n",
       "</style>\n",
       "<table border=\"1\" class=\"dataframe\">\n",
       "  <thead>\n",
       "    <tr style=\"text-align: right;\">\n",
       "      <th></th>\n",
       "      <th>classifiers</th>\n",
       "      <th>Accuracy small</th>\n",
       "      <th>MCC small</th>\n",
       "      <th>F1-score small</th>\n",
       "      <th>Predicted Normal / Actual  Normal Images</th>\n",
       "      <th>Predicted stagged / Actual  Stagged Images</th>\n",
       "    </tr>\n",
       "  </thead>\n",
       "  <tbody>\n",
       "    <tr>\n",
       "      <th>0</th>\n",
       "      <td>knn</td>\n",
       "      <td>1.0</td>\n",
       "      <td>1.0</td>\n",
       "      <td>1.0</td>\n",
       "      <td>60/60</td>\n",
       "      <td>60/60</td>\n",
       "    </tr>\n",
       "    <tr>\n",
       "      <th>1</th>\n",
       "      <td>svm_linear</td>\n",
       "      <td>1.0</td>\n",
       "      <td>1.0</td>\n",
       "      <td>1.0</td>\n",
       "      <td>60/60</td>\n",
       "      <td>60/60</td>\n",
       "    </tr>\n",
       "    <tr>\n",
       "      <th>2</th>\n",
       "      <td>dt</td>\n",
       "      <td>1.0</td>\n",
       "      <td>1.0</td>\n",
       "      <td>1.0</td>\n",
       "      <td>60/60</td>\n",
       "      <td>60/60</td>\n",
       "    </tr>\n",
       "    <tr>\n",
       "      <th>3</th>\n",
       "      <td>rf</td>\n",
       "      <td>1.0</td>\n",
       "      <td>1.0</td>\n",
       "      <td>1.0</td>\n",
       "      <td>60/60</td>\n",
       "      <td>60/60</td>\n",
       "    </tr>\n",
       "    <tr>\n",
       "      <th>4</th>\n",
       "      <td>mlp</td>\n",
       "      <td>1.0</td>\n",
       "      <td>1.0</td>\n",
       "      <td>1.0</td>\n",
       "      <td>60/60</td>\n",
       "      <td>60/60</td>\n",
       "    </tr>\n",
       "    <tr>\n",
       "      <th>5</th>\n",
       "      <td>stack</td>\n",
       "      <td>1.0</td>\n",
       "      <td>1.0</td>\n",
       "      <td>1.0</td>\n",
       "      <td>60/60</td>\n",
       "      <td>60/60</td>\n",
       "    </tr>\n",
       "  </tbody>\n",
       "</table>\n",
       "</div>"
      ],
      "text/plain": [
       "  classifiers  Accuracy small  MCC small  F1-score small  \\\n",
       "0         knn             1.0        1.0             1.0   \n",
       "1  svm_linear             1.0        1.0             1.0   \n",
       "2          dt             1.0        1.0             1.0   \n",
       "3          rf             1.0        1.0             1.0   \n",
       "4         mlp             1.0        1.0             1.0   \n",
       "5       stack             1.0        1.0             1.0   \n",
       "\n",
       "  Predicted Normal / Actual  Normal Images  \\\n",
       "0                                    60/60   \n",
       "1                                    60/60   \n",
       "2                                    60/60   \n",
       "3                                    60/60   \n",
       "4                                    60/60   \n",
       "5                                    60/60   \n",
       "\n",
       "  Predicted stagged / Actual  Stagged Images  \n",
       "0                                      60/60  \n",
       "1                                      60/60  \n",
       "2                                      60/60  \n",
       "3                                      60/60  \n",
       "4                                      60/60  \n",
       "5                                      60/60  "
      ]
     },
     "execution_count": 32,
     "metadata": {},
     "output_type": "execute_result"
    }
   ],
   "source": [
    "df_small"
   ]
  }
 ],
 "metadata": {
  "kernelspec": {
   "display_name": "Python 3.9.13 64-bit",
   "language": "python",
   "name": "python3"
  },
  "language_info": {
   "codemirror_mode": {
    "name": "ipython",
    "version": 3
   },
   "file_extension": ".py",
   "mimetype": "text/x-python",
   "name": "python",
   "nbconvert_exporter": "python",
   "pygments_lexer": "ipython3",
   "version": "3.9.13"
  },
  "orig_nbformat": 4,
  "vscode": {
   "interpreter": {
    "hash": "9537d87109d9512572e2bf43e2d738b3b2623cea11b621f20b4ee8f79f0570c7"
   }
  }
 },
 "nbformat": 4,
 "nbformat_minor": 2
}
